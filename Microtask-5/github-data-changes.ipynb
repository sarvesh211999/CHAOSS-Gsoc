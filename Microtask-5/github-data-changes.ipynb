{
 "cells": [
  {
   "cell_type": "markdown",
   "metadata": {},
   "source": [
    "# Microtask 4"
   ]
  },
  {
   "cell_type": "markdown",
   "metadata": {},
   "source": [
    "## Aim\n",
    "\n",
    "Produce a listing of repositories, as a table and as CSV file, with the number of commits authored, issues opened, and pull/merge requests opened, during the last three months, ordered by the total number (commits plus issues plus pull requests). Use plain Python3 (eg, no Pandas) for this."
   ]
  },
  {
   "cell_type": "markdown",
   "metadata": {},
   "source": [
    "### Retrieving Data from OmegaUp\n",
    "\n",
    "From the command line run Perceval on the github repositories to analyze, to produce a file with JSON documents for all its issues (the list obtained contains the pull request also), one per line (git-commits.json).\n",
    "\n",
    "\n",
    "Syntax for using Perceval for Github\n",
    "`perceval github owner repository [--sleep-for-rate] [-t XXXXX]`\n",
    "\n",
    "\n",
    "Date of Retrieval: 1st March 2019\n",
    "##### Example:\n",
    "\n",
    "`$ perceval github --json-line -category pull_request omegaup omegaup --sleep-for-rate -t a247a6b7d506736da6d653cddc060a96bfbd9cb3 > data_source.json`\n",
    "\n",
    "`$ perceval github --json-line -category issue omegaup omegaup --sleep-for-rate -t a247a6b7d506736da6d653cddc060a96bfbd9cb3 >> data_source.json`\n",
    "\n",
    "Gets the information about Pull Request and Issues from Github\n",
    "\n",
    "###### Current Problem With Perceval    \n",
    "    The Existing Problem with Perceval is that when running the above command with category issue it also \n",
    "    fetches the pull request because the github api returns the pull request under issues. For Ex \n",
    "   ##### https://api.github.com/repos/omegaup/omegaup/issues/2378\n",
    "    \n",
    "    This is a pull request but in url you can see it is returned as issue\n",
    "   \n",
    "    So we have to remove the duplicates (done in __init__() function)\n",
    "    \n",
    "    \n",
    "\n",
    "`$ perceval git --json-line https://github.com/omegaup/omegaup >> data_source.json`\n",
    "\n",
    "    Gets the information about Commits from Github\n",
    "\n",
    "----------------------------------------------------------------------------------------\n",
    "--sleep-for-rate To avoid having perceval exiting when the rate limit is exceeded\n",
    "\n",
    "-t is token for Github API"
   ]
  },
  {
   "cell_type": "code",
   "execution_count": 146,
   "metadata": {},
   "outputs": [],
   "source": [
    "import json\n",
    "import datetime\n",
    "import dateutil.relativedelta\n",
    "import re\n",
    "from copy import deepcopy\n",
    "from dateutil import parser\n",
    "import pandas as pd\n",
    "\n",
    "import warnings ## to ignore warnings that come in importing pandas\n",
    "warnings.filterwarnings(\"ignore\", message=\"numpy.dtype size changed\")"
   ]
  },
  {
   "cell_type": "markdown",
   "metadata": {},
   "source": [
    "## Summarize Function\n",
    "\n",
    "#### @arguments \n",
    "\n",
    "<b>line</b>: item to be summarized<br>\n",
    "<b>type</b>: type of item(commit,issue,pull_request)\n",
    "\n",
    "summary{\n",
    "    repo,<br>\n",
    "    hash(in case of commit) or uuid(in case of PR or Issue),<br>\n",
    "    author,<br>\n",
    "    author_date,<br>\n",
    "    ....<br>\n",
    "}"
   ]
  },
  {
   "cell_type": "code",
   "execution_count": 147,
   "metadata": {},
   "outputs": [],
   "source": [
    "def summarize(line,type):\n",
    "    repo = line['origin']\n",
    "    cdata = line['data']\n",
    "    if(type=='commit'):    \n",
    "        summary = {\n",
    "                'repo': repo,\n",
    "                'hash': cdata['commit'],\n",
    "                'author': cdata['Author'],\n",
    "                'author_date': datetime.datetime.strptime(cdata['AuthorDate'],\n",
    "                                                          \"%a %b %d %H:%M:%S %Y %z\"),\n",
    "                'commit': cdata['Commit'],\n",
    "                'created_date': datetime.datetime.strptime(cdata['CommitDate'],\n",
    "                                                          \"%a %b %d %H:%M:%S %Y %z\"),\n",
    "                'files_no': len(cdata['files']),\n",
    "        }\n",
    "        actions = 0\n",
    "        for file in cdata['files']:\n",
    "            if 'action' in file:\n",
    "                actions += 1\n",
    "        summary['files_action'] = actions\n",
    "        if 'Merge' in cdata:\n",
    "            summary['merge'] = True\n",
    "        else:\n",
    "            summary['merge'] = False\n",
    "    elif(type=='issue'):\n",
    "        summary = {\n",
    "                'repo': repo,\n",
    "                'uuid': line['uuid'],\n",
    "                'author': cdata['user']['login'],\n",
    "                'created_date': datetime.datetime.strptime(cdata['created_at'],\n",
    "                                            \"%Y-%m-%dT%H:%M:%SZ\"),\n",
    "                'closed_date':datetime.datetime.strptime(cdata['closed_at'],\n",
    "                                            \"%Y-%m-%dT%H:%M:%SZ\") if cdata['closed_at'] else None, \n",
    "                'comments': cdata['comments'],\n",
    "                'labels': cdata['labels'],\n",
    "                'url': cdata['html_url'],\n",
    "                'state':cdata['state']\n",
    "        }\n",
    "    elif(type=='pull_request'):\n",
    "        summary = {\n",
    "                'repo': repo,\n",
    "                'uuid': line['uuid'],\n",
    "                'author': cdata['user']['login'],\n",
    "                'created_date': datetime.datetime.strptime(cdata['created_at'],\"%Y-%m-%dT%H:%M:%SZ\"),\n",
    "                'closed_date': datetime.datetime.strptime(cdata['closed_at'],\"%Y-%m-%dT%H:%M:%SZ\")\n",
    "                                            if cdata['closed_at'] else None,\n",
    "                'merged_date': datetime.datetime.strptime(cdata['merged_at'],\"%Y-%m-%dT%H:%M:%SZ\")\n",
    "                                        if cdata['merged_at'] else None,\n",
    "                'comments': cdata['comments'],\n",
    "                'commits': cdata['commits'],\n",
    "                'additions': cdata['additions'],\n",
    "                'deletions': cdata['deletions'],\n",
    "                'changed_files':cdata['changed_files'],\n",
    "                'url': cdata['html_url'],\n",
    "                'state':cdata['state']\n",
    "        }\n",
    "    \n",
    "    return summary"
   ]
  },
  {
   "cell_type": "markdown",
   "metadata": {},
   "source": [
    "## Class Code_Changes\n",
    "\n",
    "Takes path to the JSON file as input parameter and on initializing a dictionary is created. Dictionary has three keys each of which maps to a list \n",
    "\n",
    "- Commits : Contains list of summary of each commit\n",
    "- Issues : Contains list of summary of each issue \n",
    "- Pull Requests  : Contains list of summary of each pull request \n",
    "\n",
    "#### self.code_dataframe[item] contains the Pandas Dataframe holding the information about individual items"
   ]
  },
  {
   "cell_type": "code",
   "execution_count": 148,
   "metadata": {},
   "outputs": [],
   "source": [
    "class Code_Changes:\n",
    "    \"\"\"\"Class for Code_Changes for Git repositories.\n",
    "    \n",
    "    Objects are instantiated by specifying a file with the\n",
    "    commits obtained by Perceval from a set of repositories.\n",
    "    \n",
    "    Contains individual list for Issues, Pull Requests and Commits\n",
    "        \n",
    "    :param path: Path to file with one Perceval JSON document per line\n",
    "    \"\"\"\n",
    "    \n",
    "    def __init__(self, path):\n",
    "        \n",
    "        self.changes = {'issue':[],'commit':[],'pull_request':[]}\n",
    "        with open(path) as data_file:\n",
    "            for data in data_file:\n",
    "                line = json.loads(data)\n",
    "                if(line['category'] ==  'commit'):\n",
    "                    self.changes['commit'].append(summarize(line,'commit'))\n",
    "                else:\n",
    "                    if (line['category'] == 'pull_request'):\n",
    "                        self.changes['pull_request'].append(summarize(line,'pull_request'))\n",
    "                    elif ('pull_request' not in line['data']) and (line['category'] == 'issue'):\n",
    "                        self.changes['issue'].append(summarize(line,'issue'))\n",
    "        self.code_dataframe = {\n",
    "            'commit':pd.DataFrame.from_dict(self.changes['commit']),\n",
    "            'pull_request':pd.DataFrame.from_dict(self.changes['pull_request']),\n",
    "            'issue':pd.DataFrame.from_dict(self.changes['issue'])\n",
    "        }\n",
    "    "
   ]
  },
  {
   "cell_type": "markdown",
   "metadata": {},
   "source": [
    "## Example of the implementation"
   ]
  },
  {
   "cell_type": "code",
   "execution_count": 149,
   "metadata": {},
   "outputs": [],
   "source": [
    "code = Code_Changes('../data_source2.json')"
   ]
  },
  {
   "cell_type": "markdown",
   "metadata": {},
   "source": [
    "## Creating Set Of Repositories\n",
    "\n",
    "intialize a set, iterate over all items and add repo to the set"
   ]
  },
  {
   "cell_type": "code",
   "execution_count": 150,
   "metadata": {},
   "outputs": [],
   "source": [
    "repos = set()\n",
    "for change_type,items in code.changes.items():\n",
    "    for item in items:\n",
    "        repos.add(item['repo'])"
   ]
  },
  {
   "cell_type": "code",
   "execution_count": 151,
   "metadata": {},
   "outputs": [
    {
     "name": "stdout",
     "output_type": "stream",
     "text": [
      "List of Repos :\n",
      "---------------\n",
      "https://github.com/streetmix/streetmix\n",
      "https://github.com/Submitty/Submitty\n",
      "https://github.com/omegaup/omegaup\n",
      "https://github.com/fossasia/susi_server\n"
     ]
    }
   ],
   "source": [
    "print(\"List of Repos :\")\n",
    "print(\"---------------\")\n",
    "for i in repos:\n",
    "    print(i)"
   ]
  },
  {
   "cell_type": "markdown",
   "metadata": {},
   "source": [
    "## Analysing Data for Last Three Months\n",
    "\n",
    "Last three months (doesn't include current month) [Dec 2018, Jan 2019, Feb 2019]"
   ]
  },
  {
   "cell_type": "code",
   "execution_count": 152,
   "metadata": {},
   "outputs": [
    {
     "name": "stdout",
     "output_type": "stream",
     "text": [
      "Last third month first Date:  2019-01-01\n",
      "Last month first Date:  2019-04-01\n"
     ]
    }
   ],
   "source": [
    "today_date = datetime.datetime.now().date()\n",
    "last_third_month = today_date - dateutil.relativedelta.relativedelta(months=3)\n",
    "last_third_month_first_date = last_third_month.replace(day=1)\n",
    "current_month_first_date = today_date.replace(day=1)\n",
    "print(\"Last third month first Date: \",last_third_month_first_date)\n",
    "print(\"Last month first Date: \",current_month_first_date)"
   ]
  },
  {
   "cell_type": "markdown",
   "metadata": {},
   "source": [
    "We have to analyse data between the above dates\n",
    "\n",
    "For each frame select items in the duration<br>\n",
    "For issue and pull_request check for state i.e. select those that have open state"
   ]
  },
  {
   "cell_type": "markdown",
   "metadata": {},
   "source": [
    "Analysis is a dataframe with following columns\n",
    "\n",
    "`Analysis: \n",
    " columns = ['Repo', 'No. of Commits', 'No. of PRs', 'No. of Issues'])`"
   ]
  },
  {
   "cell_type": "markdown",
   "metadata": {},
   "source": [
    "Initializing data for pandas dataframe<br>\n",
    "For each repo each item intialized with 0"
   ]
  },
  {
   "cell_type": "code",
   "execution_count": 153,
   "metadata": {},
   "outputs": [],
   "source": [
    "data = []\n",
    "for i in repos:\n",
    "    data.append([0,0,0])\n"
   ]
  },
  {
   "cell_type": "code",
   "execution_count": 154,
   "metadata": {},
   "outputs": [],
   "source": [
    "analysis = pd.DataFrame(data, columns = ['No. of Commits', 'No. of PRs', 'No. of Issues'])\n",
    "analysis.index = repos\n",
    "# for i in repos:\n",
    "#     analysis[i] = {'issue':0,'commit':0,'pull_request':0}"
   ]
  },
  {
   "cell_type": "code",
   "execution_count": 155,
   "metadata": {},
   "outputs": [
    {
     "data": {
      "text/html": [
       "<div>\n",
       "<style scoped>\n",
       "    .dataframe tbody tr th:only-of-type {\n",
       "        vertical-align: middle;\n",
       "    }\n",
       "\n",
       "    .dataframe tbody tr th {\n",
       "        vertical-align: top;\n",
       "    }\n",
       "\n",
       "    .dataframe thead th {\n",
       "        text-align: right;\n",
       "    }\n",
       "</style>\n",
       "<table border=\"1\" class=\"dataframe\">\n",
       "  <thead>\n",
       "    <tr style=\"text-align: right;\">\n",
       "      <th></th>\n",
       "      <th>No. of Commits</th>\n",
       "      <th>No. of PRs</th>\n",
       "      <th>No. of Issues</th>\n",
       "    </tr>\n",
       "  </thead>\n",
       "  <tbody>\n",
       "    <tr>\n",
       "      <th>https://github.com/streetmix/streetmix</th>\n",
       "      <td>0</td>\n",
       "      <td>0</td>\n",
       "      <td>0</td>\n",
       "    </tr>\n",
       "    <tr>\n",
       "      <th>https://github.com/Submitty/Submitty</th>\n",
       "      <td>0</td>\n",
       "      <td>0</td>\n",
       "      <td>0</td>\n",
       "    </tr>\n",
       "    <tr>\n",
       "      <th>https://github.com/omegaup/omegaup</th>\n",
       "      <td>0</td>\n",
       "      <td>0</td>\n",
       "      <td>0</td>\n",
       "    </tr>\n",
       "    <tr>\n",
       "      <th>https://github.com/fossasia/susi_server</th>\n",
       "      <td>0</td>\n",
       "      <td>0</td>\n",
       "      <td>0</td>\n",
       "    </tr>\n",
       "  </tbody>\n",
       "</table>\n",
       "</div>"
      ],
      "text/plain": [
       "                                         No. of Commits  No. of PRs  \\\n",
       "https://github.com/streetmix/streetmix                0           0   \n",
       "https://github.com/Submitty/Submitty                  0           0   \n",
       "https://github.com/omegaup/omegaup                    0           0   \n",
       "https://github.com/fossasia/susi_server               0           0   \n",
       "\n",
       "                                         No. of Issues  \n",
       "https://github.com/streetmix/streetmix               0  \n",
       "https://github.com/Submitty/Submitty                 0  \n",
       "https://github.com/omegaup/omegaup                   0  \n",
       "https://github.com/fossasia/susi_server              0  "
      ]
     },
     "execution_count": 155,
     "metadata": {},
     "output_type": "execute_result"
    }
   ],
   "source": [
    "analysis "
   ]
  },
  {
   "cell_type": "code",
   "execution_count": 257,
   "metadata": {},
   "outputs": [],
   "source": [
    "frame = deepcopy(code.code_dataframe) ##creating a deepcopy since in python value is assigned by reference\n",
    "since = last_third_month_first_date\n",
    "until = current_month_first_date\n",
    "\n",
    "\n",
    "for change_type,temp_frame in frame.items():\n",
    "    if(change_type=='commit'):\n",
    "        temp_frame['author_date'] = temp_frame['author_date'].apply(lambda x:x.date())\n",
    "        temp_frame = temp_frame[(since<=temp_frame['author_date'])]\n",
    "        temp_frame = temp_frame[(until>=temp_frame['author_date'])]\n",
    "        temp_frame = temp_frame.groupby('repo').count()\n",
    "        temp_frame = pd.DataFrame(temp_frame['author'])         ## since a grouping done any column can be taken, taking author\n",
    "                                                                ## to keep consistency in all \n",
    "        temp_frame.rename(columns={'author':'No. of Commits'},  ## changing column name so that update can be done\n",
    "                 inplace=True)\n",
    "        analysis.update(temp_frame)\n",
    "    elif(change_type=='issue'):\n",
    "        temp_frame['created_date'] = temp_frame['created_date'].apply(lambda x:x.date())\n",
    "        temp_frame = temp_frame[(since<=temp_frame['created_date']) & (temp_frame['created_date']<=until)]\n",
    "        temp_frame = temp_frame[temp_frame['state']=='open']\n",
    "        temp_frame = temp_frame.groupby('repo').count()\n",
    "        temp_frame = pd.DataFrame(temp_frame['author'])         ## since a grouping done any column can be taken, taking author\n",
    "                                                                ## to keep consistency in all \n",
    "        temp_frame.rename(columns={'author':'No. of Issues'},  ## changing column name so that update can be done\n",
    "                 inplace=True)\n",
    "        analysis.update(temp_frame)\n",
    "        \n",
    "    elif(change_type=='pull_request'):\n",
    "        temp_frame['created_date'] = temp_frame['created_date'].apply(lambda x:x.date())\n",
    "        temp_frame = temp_frame[(since<=temp_frame['created_date']) & (temp_frame['created_date']<=until)]\n",
    "        temp_frame = temp_frame[temp_frame['state']=='open']\n",
    "        temp_frame = temp_frame.groupby('repo').count()\n",
    "        temp_frame = pd.DataFrame(temp_frame['author'])         ## since a grouping done any column can be taken, taking author\n",
    "                                                                ## to keep consistency in all \n",
    "        temp_frame.rename(columns={'author':'No. of PRs'},  ## changing column name so that update can be done\n",
    "                 inplace=True)\n",
    "        analysis.update(temp_frame)\n",
    "       "
   ]
  },
  {
   "cell_type": "markdown",
   "metadata": {},
   "source": [
    "In this case using Pandas is little tricky and difficult, but is fast in comparison to list operations"
   ]
  },
  {
   "cell_type": "code",
   "execution_count": null,
   "metadata": {},
   "outputs": [],
   "source": [
    "analysis['Sum'] = analysis['No. of Commits'] + analysis['No. of PRs'] + analysis['No. of Issues']\n",
    "## Summing Issues, PRs and Commits"
   ]
  },
  {
   "cell_type": "code",
   "execution_count": 258,
   "metadata": {},
   "outputs": [
    {
     "data": {
      "text/html": [
       "<div>\n",
       "<style scoped>\n",
       "    .dataframe tbody tr th:only-of-type {\n",
       "        vertical-align: middle;\n",
       "    }\n",
       "\n",
       "    .dataframe tbody tr th {\n",
       "        vertical-align: top;\n",
       "    }\n",
       "\n",
       "    .dataframe thead th {\n",
       "        text-align: right;\n",
       "    }\n",
       "</style>\n",
       "<table border=\"1\" class=\"dataframe\">\n",
       "  <thead>\n",
       "    <tr style=\"text-align: right;\">\n",
       "      <th></th>\n",
       "      <th>No. of Commits</th>\n",
       "      <th>No. of PRs</th>\n",
       "      <th>No. of Issues</th>\n",
       "      <th>Sum</th>\n",
       "    </tr>\n",
       "  </thead>\n",
       "  <tbody>\n",
       "    <tr>\n",
       "      <th>https://github.com/streetmix/streetmix</th>\n",
       "      <td>329.0</td>\n",
       "      <td>4.0</td>\n",
       "      <td>11.0</td>\n",
       "      <td>344.0</td>\n",
       "    </tr>\n",
       "    <tr>\n",
       "      <th>https://github.com/Submitty/Submitty</th>\n",
       "      <td>398.0</td>\n",
       "      <td>31.0</td>\n",
       "      <td>63.0</td>\n",
       "      <td>492.0</td>\n",
       "    </tr>\n",
       "    <tr>\n",
       "      <th>https://github.com/omegaup/omegaup</th>\n",
       "      <td>143.0</td>\n",
       "      <td>2.0</td>\n",
       "      <td>45.0</td>\n",
       "      <td>190.0</td>\n",
       "    </tr>\n",
       "    <tr>\n",
       "      <th>https://github.com/fossasia/susi_server</th>\n",
       "      <td>37.0</td>\n",
       "      <td>0.0</td>\n",
       "      <td>5.0</td>\n",
       "      <td>42.0</td>\n",
       "    </tr>\n",
       "  </tbody>\n",
       "</table>\n",
       "</div>"
      ],
      "text/plain": [
       "                                         No. of Commits  No. of PRs  \\\n",
       "https://github.com/streetmix/streetmix            329.0         4.0   \n",
       "https://github.com/Submitty/Submitty              398.0        31.0   \n",
       "https://github.com/omegaup/omegaup                143.0         2.0   \n",
       "https://github.com/fossasia/susi_server            37.0         0.0   \n",
       "\n",
       "                                         No. of Issues    Sum  \n",
       "https://github.com/streetmix/streetmix            11.0  344.0  \n",
       "https://github.com/Submitty/Submitty              63.0  492.0  \n",
       "https://github.com/omegaup/omegaup                45.0  190.0  \n",
       "https://github.com/fossasia/susi_server            5.0   42.0  "
      ]
     },
     "execution_count": 258,
     "metadata": {},
     "output_type": "execute_result"
    }
   ],
   "source": [
    "analysis"
   ]
  },
  {
   "cell_type": "markdown",
   "metadata": {},
   "source": [
    "#### Sorting the Dataframe by sum \n",
    "\n",
    "using sort_value passing the column using which sort is to be done."
   ]
  },
  {
   "cell_type": "code",
   "execution_count": 270,
   "metadata": {},
   "outputs": [
    {
     "data": {
      "text/html": [
       "<div>\n",
       "<style scoped>\n",
       "    .dataframe tbody tr th:only-of-type {\n",
       "        vertical-align: middle;\n",
       "    }\n",
       "\n",
       "    .dataframe tbody tr th {\n",
       "        vertical-align: top;\n",
       "    }\n",
       "\n",
       "    .dataframe thead th {\n",
       "        text-align: right;\n",
       "    }\n",
       "</style>\n",
       "<table border=\"1\" class=\"dataframe\">\n",
       "  <thead>\n",
       "    <tr style=\"text-align: right;\">\n",
       "      <th></th>\n",
       "      <th>No. of Commits</th>\n",
       "      <th>No. of PRs</th>\n",
       "      <th>No. of Issues</th>\n",
       "      <th>Sum</th>\n",
       "    </tr>\n",
       "    <tr>\n",
       "      <th>Repo</th>\n",
       "      <th></th>\n",
       "      <th></th>\n",
       "      <th></th>\n",
       "      <th></th>\n",
       "    </tr>\n",
       "  </thead>\n",
       "  <tbody>\n",
       "    <tr>\n",
       "      <th>https://github.com/fossasia/susi_server</th>\n",
       "      <td>37</td>\n",
       "      <td>0</td>\n",
       "      <td>5</td>\n",
       "      <td>42</td>\n",
       "    </tr>\n",
       "    <tr>\n",
       "      <th>https://github.com/omegaup/omegaup</th>\n",
       "      <td>143</td>\n",
       "      <td>2</td>\n",
       "      <td>45</td>\n",
       "      <td>190</td>\n",
       "    </tr>\n",
       "    <tr>\n",
       "      <th>https://github.com/streetmix/streetmix</th>\n",
       "      <td>329</td>\n",
       "      <td>4</td>\n",
       "      <td>11</td>\n",
       "      <td>344</td>\n",
       "    </tr>\n",
       "    <tr>\n",
       "      <th>https://github.com/Submitty/Submitty</th>\n",
       "      <td>398</td>\n",
       "      <td>31</td>\n",
       "      <td>63</td>\n",
       "      <td>492</td>\n",
       "    </tr>\n",
       "  </tbody>\n",
       "</table>\n",
       "</div>"
      ],
      "text/plain": [
       "                                         No. of Commits  No. of PRs  \\\n",
       "Repo                                                                  \n",
       "https://github.com/fossasia/susi_server              37           0   \n",
       "https://github.com/omegaup/omegaup                  143           2   \n",
       "https://github.com/streetmix/streetmix              329           4   \n",
       "https://github.com/Submitty/Submitty                398          31   \n",
       "\n",
       "                                         No. of Issues  Sum  \n",
       "Repo                                                         \n",
       "https://github.com/fossasia/susi_server              5   42  \n",
       "https://github.com/omegaup/omegaup                  45  190  \n",
       "https://github.com/streetmix/streetmix              11  344  \n",
       "https://github.com/Submitty/Submitty                63  492  "
      ]
     },
     "execution_count": 270,
     "metadata": {},
     "output_type": "execute_result"
    }
   ],
   "source": [
    "analysis = analysis.sort_values(by=['Sum'])\n",
    "analysis = analysis.astype(int)  ## Converting Float to int\n",
    "analysis"
   ]
  },
  {
   "cell_type": "markdown",
   "metadata": {},
   "source": [
    "## Writing CSV\n",
    "\n",
    "#### Creating a dataframe_csv than using pandas function to directly convert it into csv file <br>\n",
    "fields = ['Repo','No. of Commits','No. of PRs','No. of Issues','Sum']"
   ]
  },
  {
   "cell_type": "code",
   "execution_count": 271,
   "metadata": {},
   "outputs": [],
   "source": [
    "analysis.index.name = \"Repo\" ## giving column name to the index column"
   ]
  },
  {
   "cell_type": "code",
   "execution_count": 272,
   "metadata": {},
   "outputs": [],
   "source": [
    "analysis.to_csv('microtask5-analysis.csv')"
   ]
  }
 ],
 "metadata": {
  "kernelspec": {
   "display_name": "Python 3",
   "language": "python",
   "name": "python3"
  },
  "language_info": {
   "codemirror_mode": {
    "name": "ipython",
    "version": 3
   },
   "file_extension": ".py",
   "mimetype": "text/x-python",
   "name": "python",
   "nbconvert_exporter": "python",
   "pygments_lexer": "ipython3",
   "version": "3.5.2"
  }
 },
 "nbformat": 4,
 "nbformat_minor": 2
}
