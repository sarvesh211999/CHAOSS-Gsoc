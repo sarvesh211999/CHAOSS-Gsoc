{
 "cells": [
  {
   "cell_type": "markdown",
   "metadata": {},
   "source": [
    "### Retrieving Data from OmegaUp\n",
    "\n",
    "`$ perceval git --json-line https://github.com/omegaup/omegaup >git-commits.json `"
   ]
  },
  {
   "cell_type": "code",
   "execution_count": 39,
   "metadata": {},
   "outputs": [],
   "source": [
    "import json\n",
    "import datetime\n",
    "from dateutil import parser"
   ]
  },
  {
   "cell_type": "code",
   "execution_count": 65,
   "metadata": {},
   "outputs": [],
   "source": [
    "class Code_changes:\n",
    "    \"\"\"Class for Code_Changes for Git repositories.\n",
    "    \n",
    "    Objects are instantiated by specifying a file with the\n",
    "    commits obtained by Perceval from a set of repositories.\n",
    "        \n",
    "    :param path: Path to file with one Perceval JSON document per line\n",
    "    \"\"\"\n",
    "    \n",
    "    def __init__(self, path):\n",
    "        \n",
    "        self.commits = []\n",
    "        with open(path) as commits_file:\n",
    "            for line in commits_file:\n",
    "                commit = json.loads(line)\n",
    "                self.commits.append(commit)\n",
    "    \n",
    "    def total_count(self):\n",
    "        \"\"\"\n",
    "        Count Total Number of Commits\n",
    "        \"\"\"\n",
    "        return len(self.commits)\n",
    "    \n",
    "    def count(self, since = None, until = None):\n",
    "        \"\"\"\n",
    "        :param since: Period Start\n",
    "        :param until: Period End\n",
    "        \"\"\"\n",
    "        date = \"AuthorDate\"\n",
    "        commits = self.commits\n",
    "        count = 0\n",
    "        if not since and until:\n",
    "            until = parser.parse(until)  #convert string date time format into date time type, easy for comparission\n",
    "        if not until and since:\n",
    "            since = parser.parse(since)  #convert string date time format into date time type, easy for comparission\n",
    "        if until and since:\n",
    "            until = parser.parse(until)  #convert string date time format into date time type, easy for comparission\n",
    "            since = parser.parse(since)  #convert string date time format into date time type, easy for comparission\n",
    "        \n",
    "        for i in commits:\n",
    "            author_date = parser.parse(i['data'][date])\n",
    "            author_date = author_date.replace(tzinfo = None) #removing tzoffset from date-time object making compatible for comaprision\n",
    "            if since and until:\n",
    "                if(author_date >= since and author_date < until):\n",
    "                    count += 1 \n",
    "            if since and not until:\n",
    "                if(author_date >= since):\n",
    "                    count += 1 \n",
    "            if not since and until:\n",
    "                if(author_date >= since):\n",
    "                    count += 1\n",
    "            if not since and not until:\n",
    "                count = self.total_count()\n",
    "        \n",
    "        return count\n",
    "        \n",
    "        "
   ]
  },
  {
   "cell_type": "code",
   "execution_count": 66,
   "metadata": {},
   "outputs": [],
   "source": [
    "changes = Code_changes(\"git-commits.json\")"
   ]
  },
  {
   "cell_type": "code",
   "execution_count": 67,
   "metadata": {},
   "outputs": [
    {
     "name": "stdout",
     "output_type": "stream",
     "text": [
      "Total Number of Commits: 4206\n"
     ]
    }
   ],
   "source": [
    "print(\"Total Number of Commits:\",changes.total_count())"
   ]
  },
  {
   "cell_type": "code",
   "execution_count": 68,
   "metadata": {},
   "outputs": [
    {
     "name": "stdout",
     "output_type": "stream",
     "text": [
      "Wed Feb 20 11:05:48 2019 -0600\n"
     ]
    }
   ],
   "source": [
    "print(changes.commits[4203]['data']['AuthorDate'])"
   ]
  },
  {
   "cell_type": "code",
   "execution_count": 69,
   "metadata": {},
   "outputs": [
    {
     "name": "stdout",
     "output_type": "stream",
     "text": [
      "251\n"
     ]
    }
   ],
   "source": [
    "print(changes.count(since=\"2018-01-01\", until=\"2018-07-01\"))"
   ]
  },
  {
   "cell_type": "code",
   "execution_count": null,
   "metadata": {},
   "outputs": [],
   "source": []
  }
 ],
 "metadata": {
  "celltoolbar": "Edit Metadata",
  "kernelspec": {
   "display_name": "Python 3",
   "language": "python",
   "name": "python3"
  },
  "language_info": {
   "codemirror_mode": {
    "name": "ipython",
    "version": 3
   },
   "file_extension": ".py",
   "mimetype": "text/x-python",
   "name": "python",
   "nbconvert_exporter": "python",
   "pygments_lexer": "ipython3",
   "version": "3.5.2"
  }
 },
 "nbformat": 4,
 "nbformat_minor": 2
}
