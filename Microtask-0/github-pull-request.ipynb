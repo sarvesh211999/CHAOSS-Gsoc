{
 "cells": [
  {
   "cell_type": "markdown",
   "metadata": {},
   "source": [
    "### Retrieving Data from OmegaUp\n",
    "\n",
    "From the command line run Perceval on the github repositories to analyze, to produce a file with JSON documents for all its issues (the list obtained contains the pull request also), one per line (git-commits.json).\n",
    "\n",
    "\n",
    "Syntax for using Perceval for Github\n",
    "`perceval github owner repository [--sleep-for-rate] [-t XXXXX]`\n",
    "\n",
    "\n",
    "Date of Retrieval: 1st March 2019\n",
    "##### Example:\n",
    "`$ perceval github --json-line --category issue omegaup omegaup --sleep-for-rate -t a247a6b7d506736da6d653cddc060a96bfbd9cb3 > data_source_issues.json     \n",
    " `\n",
    " \n",
    "--category issue <br>\n",
    "--sleep-for-rate To avoid having perceval exiting when the rate limit is exceeded <br>\n",
    "-t is token of Github API\n",
    "\n",
    "-----------------------------------------\n",
    "\n",
    "Category issue is only used here because github return pull_request under issue category also. <br>\n",
    "So we have to ignore pull_request while performing analysis on issues"
   ]
  },
  {
   "cell_type": "code",
   "execution_count": 2,
   "metadata": {},
   "outputs": [],
   "source": [
    "import json\n",
    "import datetime\n",
    "from dateutil import parser"
   ]
  },
  {
   "cell_type": "markdown",
   "metadata": {},
   "source": [
    "### Class Code_Issues\n",
    "\n",
    "Creating a class that takes JSON file as input parameter. <br>\n",
    "On Initialization a list is created with name issues that contains the issues (excluding the pull_request)"
   ]
  },
  {
   "cell_type": "code",
   "execution_count": 6,
   "metadata": {},
   "outputs": [],
   "source": [
    "class Code_Issues:\n",
    "    \"\"\"Class for Code_Issues for Git repositories.\n",
    "    \n",
    "    Objects are instantiated by specifying a file with the\n",
    "    commits obtained by Perceval from a set of repositories.\n",
    "        \n",
    "    :param path: Path to file with one Perceval JSON document per line\n",
    "    \"\"\"\n",
    "    \n",
    "    def __init__(self, path):\n",
    "        \n",
    "        self.issues = []\n",
    "        with open(path) as commits_file:\n",
    "            for line in commits_file:\n",
    "                issue = json.loads(line)\n",
    "                if \"pull_request\" not in issue['data']: ## since pull_request are also returned \n",
    "                                                        ## under issue category in Github, so to ignore pull_request\n",
    "                    self.issues.append(issue)\n",
    "    \n",
    "    def total_issues(self):\n",
    "        \"\"\"\n",
    "        Count Total Number of Issues\n",
    "        \"\"\"\n",
    "        return len(self.issues)\n",
    "    \n",
    "    def count(self, since = None, until = None):\n",
    "        \"\"\"\n",
    "        :param since: Period Start\n",
    "        :param until: Period End\n",
    "        \"\"\"\n",
    "        date = \"created_at\"\n",
    "        commits = self.issues\n",
    "        count = 0\n",
    "        if not since and until:\n",
    "            until = parser.parse(until)  #convert string date time format into date time type, easy for comparission\n",
    "        if not until and since:\n",
    "            since = parser.parse(since)  #convert string date time format into date time type, easy for comparission\n",
    "        if until and since:\n",
    "            until = parser.parse(until)  #convert string date time format into date time type, easy for comparission\n",
    "            since = parser.parse(since)  #convert string date time format into date time type, easy for comparission\n",
    "        \n",
    "        for i in commits:\n",
    "            author_date = parser.parse(i['data'][date])\n",
    "            author_date = author_date.replace(tzinfo = None) #removing tzoffset from date-time object making compatible for comaprision\n",
    "            if since and until:\n",
    "                if(author_date >= since and author_date < until):\n",
    "                    count += 1 \n",
    "            if since and not until:\n",
    "                if(author_date >= since):\n",
    "                    count += 1 \n",
    "            if not since and until:\n",
    "                if(author_date >= since):\n",
    "                    count += 1\n",
    "            if not since and not until:\n",
    "                count = self.total_count()\n",
    "        \n",
    "        return count\n",
    "        \n",
    "        "
   ]
  },
  {
   "cell_type": "markdown",
   "metadata": {},
   "source": [
    "#### Functions Available\n",
    "- total_count() : returns the total number of issues till date\n",
    "- count(): returns number of issues created in Period Of Time\n",
    "    ###### Parameters\n",
    "    - Since\n",
    "    - Until\n",
    "            "
   ]
  },
  {
   "cell_type": "markdown",
   "metadata": {},
   "source": [
    "## Example of the implementation"
   ]
  },
  {
   "cell_type": "code",
   "execution_count": 4,
   "metadata": {},
   "outputs": [
    {
     "name": "stdout",
     "output_type": "stream",
     "text": [
      "Issues total count: 1471\n",
      "Issues count from 2018-01-01 to 2018-07-01: 241\n"
     ]
    }
   ],
   "source": [
    "issues = Code_Issues('data_source_issues.json')\n",
    "print(\"Issues total count:\", issues.total_issues())\n",
    "print(\"Issues count from 2018-01-01 to 2018-07-01:\",\n",
    "      issues.count(since=\"2018-01-01\", until=\"2018-07-01\"))"
   ]
  },
  {
   "cell_type": "markdown",
   "metadata": {},
   "source": [
    "## Number of issues Open and Closed:"
   ]
  },
  {
   "cell_type": "code",
   "execution_count": 5,
   "metadata": {},
   "outputs": [
    {
     "name": "stdout",
     "output_type": "stream",
     "text": [
      "Total number of open issues: 246\n",
      "Total number of closed issues: 1225\n"
     ]
    }
   ],
   "source": [
    "open_issues = 0\n",
    "for issue in issues.issues:\n",
    "        if(issue['data']['state'] != \"closed\"):\n",
    "            open_issues +=1\n",
    "print(\"Total number of open issues:\", open_issues)\n",
    "print(\"Total number of closed issues:\", issues.total_issues() - open_issues)"
   ]
  },
  {
   "cell_type": "markdown",
   "metadata": {},
   "source": [
    "## Number of Labels\n",
    "Issue is given a label or not. Multiple issues can have same label so create a set and push all the labels into it. This way there will be no duplicate entries."
   ]
  },
  {
   "cell_type": "code",
   "execution_count": 21,
   "metadata": {
    "scrolled": true
   },
   "outputs": [
    {
     "name": "stdout",
     "output_type": "stream",
     "text": [
      "Number of Labels: 44\n"
     ]
    }
   ],
   "source": [
    "labels = set()\n",
    "for issue in issues.issues\n",
    "    for label in issue['data']['labels']:\n",
    "        labels.add(label['name'])            \n",
    "                \n",
    "print(\"Number of Labels:\", len(labels))"
   ]
  }
 ],
 "metadata": {
  "kernelspec": {
   "display_name": "Python 3",
   "language": "python",
   "name": "python3"
  },
  "language_info": {
   "codemirror_mode": {
    "name": "ipython",
    "version": 3
   },
   "file_extension": ".py",
   "mimetype": "text/x-python",
   "name": "python",
   "nbconvert_exporter": "python",
   "pygments_lexer": "ipython3",
   "version": "3.5.2"
  }
 },
 "nbformat": 4,
 "nbformat_minor": 2
}
