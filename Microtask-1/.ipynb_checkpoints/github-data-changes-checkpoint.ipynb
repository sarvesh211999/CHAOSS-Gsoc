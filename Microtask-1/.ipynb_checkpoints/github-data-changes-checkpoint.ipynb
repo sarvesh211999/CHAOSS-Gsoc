{
 "cells": [
  {
   "cell_type": "markdown",
   "metadata": {},
   "source": [
    "# Microtask 1"
   ]
  },
  {
   "cell_type": "markdown",
   "metadata": {},
   "source": [
    "### Retrieving Data from OmegaUp\n",
    "\n",
    "From the command line run Perceval on the github repositories to analyze, to produce a file with JSON documents for all its issues (the list obtained contains the pull request also), one per line (git-commits.json).\n",
    "\n",
    "\n",
    "Syntax for using Perceval for Github\n",
    "`perceval github owner repository [--sleep-for-rate] [-t XXXXX]`\n",
    "\n",
    "\n",
    "Date of Retrieval: 1st March 2019\n",
    "##### Example:\n",
    "\n",
    "`$ perceval github --json-line -category pull_request omegaup omegaup --sleep-for-rate -t a247a6b7d506736da6d653cddc060a96bfbd9cb3 > data_source.json`\n",
    "\n",
    "`$ perceval github --json-line -category issue omegaup omegaup --sleep-for-rate -t a247a6b7d506736da6d653cddc060a96bfbd9cb3 >> data_source.json`\n",
    "\n",
    "Gets the information about Pull Request and Issues from Github\n",
    "\n",
    "###### Current Problem With Perceval    \n",
    "    The Existing Problem with Perceval is that when running the above command with category issue it also \n",
    "    fetches the pull request because the github api returns the pull request under issues. For Ex \n",
    "   ##### https://api.github.com/repos/omegaup/omegaup/issues/2378\n",
    "    \n",
    "    This is a pull request but in url you can see it is returned as issue\n",
    "   \n",
    "    So only running the command with category issue.\n",
    "    \n",
    "    \n",
    "\n",
    "`$ perceval git --json-line https://github.com/omegaup/omegaup >> data_source.json`\n",
    "\n",
    "    Gets the information about Commits from Github\n",
    "\n",
    "----------------------------------------------------------------------------------------\n",
    "--sleep-for-rate To avoid having perceval exiting when the rate limit is exceeded\n",
    "\n",
    "-t is token for Github API"
   ]
  },
  {
   "cell_type": "code",
   "execution_count": 136,
   "metadata": {},
   "outputs": [],
   "source": [
    "import json\n",
    "import datetime\n",
    "import re\n",
    "from dateutil import parser"
   ]
  },
  {
   "cell_type": "markdown",
   "metadata": {},
   "source": [
    "## Summarize Function\n",
    "\n",
    "#### @arguments \n",
    "\n",
    "<b>line</b>: item to be summarized<br>\n",
    "<b>type</b>: type of item(commit,issue,pull_request)\n",
    "\n",
    "summary{\n",
    "    repo,<br>\n",
    "    hash(in case of commit) or uuid(in case of PR or Issue),<br>\n",
    "    author,<br>\n",
    "    author_date,<br>\n",
    "    ....<br>\n",
    "}"
   ]
  },
  {
   "cell_type": "code",
   "execution_count": 195,
   "metadata": {},
   "outputs": [],
   "source": [
    "def summarize(line,type):\n",
    "    repo = line['origin']\n",
    "    cdata = line['data']\n",
    "    if(type=='commit'):    \n",
    "        summary = {\n",
    "                'repo': repo,\n",
    "                'hash': cdata['commit'],\n",
    "                'author': cdata['Author'],\n",
    "                'author_date': datetime.datetime.strptime(cdata['AuthorDate'],\n",
    "                                                          \"%a %b %d %H:%M:%S %Y %z\"),\n",
    "                'commit': cdata['Commit'],\n",
    "                'created_date': datetime.datetime.strptime(cdata['CommitDate'],\n",
    "                                                          \"%a %b %d %H:%M:%S %Y %z\"),\n",
    "                'files_no': len(cdata['files'])\n",
    "        }\n",
    "        actions = 0\n",
    "        for file in cdata['files']:\n",
    "            if 'action' in file:\n",
    "                actions += 1\n",
    "        summary['files_action'] = actions\n",
    "        if 'Merge' in cdata:\n",
    "            summary['merge'] = True\n",
    "        else:\n",
    "            summary['merge'] = False\n",
    "    elif(type=='issue'):\n",
    "        summary = {\n",
    "                'repo': repo,\n",
    "                'uuid': line['uuid'],\n",
    "                'author': cdata['user']['login'],\n",
    "                'created_date': datetime.datetime.strptime(cdata['created_at'],\n",
    "                                            \"%Y-%m-%dT%H:%M:%SZ\"),\n",
    "                'closed_at':datetime.datetime.strptime(cdata['closed_at'],\n",
    "                                            \"%Y-%m-%dT%H:%M:%SZ\") if cdata['closed_at'] else None, \n",
    "                'comments': cdata['comments'],\n",
    "                'labels': cdata['labels'],\n",
    "                'url': cdata['html_url'],\n",
    "                'state':cdata['state']\n",
    "        }\n",
    "    elif(type=='pull_request'):\n",
    "        summary = {\n",
    "                'repo': repo,\n",
    "                'uuid': line['uuid'],\n",
    "                'author': cdata['user']['login'],\n",
    "                'created_date': datetime.datetime.strptime(cdata['created_at'],\"%Y-%m-%dT%H:%M:%SZ\"),\n",
    "                'closed_date': datetime.datetime.strptime(cdata['closed_at'],\"%Y-%m-%dT%H:%M:%SZ\")\n",
    "                                            if cdata['closed_at'] else None,\n",
    "                'merged_date': datetime.datetime.strptime(cdata['merged_at'],\"%Y-%m-%dT%H:%M:%SZ\")\n",
    "                                            if cdata['merged_at'] else None,\n",
    "\n",
    "                'comments': cdata['comments'],\n",
    "                'commits': cdata['commits'],\n",
    "                'additions': cdata['additions'],\n",
    "                'deletions': cdata['deletions'],\n",
    "\n",
    "                'changed_files':cdata['changed_files'],\n",
    "                'url': cdata['html_url'],\n",
    "                'state':cdata['state']\n",
    "        }\n",
    "    \n",
    "    return summary"
   ]
  },
  {
   "cell_type": "markdown",
   "metadata": {},
   "source": [
    "## Class Code_Changes\n",
    "\n",
    "Takes path to the JSON file as input parameter"
   ]
  },
  {
   "cell_type": "code",
   "execution_count": 189,
   "metadata": {},
   "outputs": [],
   "source": [
    "class Code_Changes:\n",
    "    \"\"\"\"Class for Code_Changes for Git repositories.\n",
    "    \n",
    "    Objects are instantiated by specifying a file with the\n",
    "    commits obtained by Perceval from a set of repositories.\n",
    "    \n",
    "    Contains individual list for Issues, Pull Requests and Commits\n",
    "        \n",
    "    :param path: Path to file with one Perceval JSON document per line\n",
    "    \"\"\"\n",
    "    \n",
    "    def __init__(self, path):\n",
    "        \n",
    "        self.changes = {'issue':[],'commit':[],'pull_request':[]}\n",
    "        with open(path) as data_file:\n",
    "            for data in data_file:\n",
    "                line = json.loads(data)\n",
    "                if(line['category'] ==  'commit'):\n",
    "                    self.changes['commit'].append(summarize(line,'commit'))\n",
    "                else:\n",
    "                    if(re.search('pull',line['data']['html_url'])):\n",
    "                        self.changes['pull_request'].append(line)\n",
    "                    else:\n",
    "                        self.changes['issue'].append(line)\n",
    "    "
   ]
  },
  {
   "cell_type": "markdown",
   "metadata": {},
   "source": [
    "#### Functions Available\n",
    "- total_count() : returns the total number of issues till date\n",
    "- count(): returns number of issues created in Period Of Time\n",
    "    ###### Parameters\n",
    "    - Since\n",
    "    - Until\n",
    "            "
   ]
  },
  {
   "cell_type": "markdown",
   "metadata": {},
   "source": [
    "## Example of the implementation"
   ]
  },
  {
   "cell_type": "code",
   "execution_count": 190,
   "metadata": {},
   "outputs": [],
   "source": [
    "issues = Code_Changes('data_source.json')\n",
    "# print(\"Issues total count:\", issues.total_issues())\n",
    "# print(\"Issues count from 2018-01-01 to 2018-07-01:\",\n",
    "#       issues.count(since=\"2018-01-01\", until=\"2018-07-01\"))"
   ]
  },
  {
   "cell_type": "code",
   "execution_count": 201,
   "metadata": {
    "scrolled": false
   },
   "outputs": [
    {
     "name": "stdout",
     "output_type": "stream",
     "text": [
      "[{'color': '006b75', 'url': 'https://api.github.com/repos/omegaup/omegaup/labels/API%20Task', 'node_id': 'MDU6TGFiZWwzNzkyNjc4OQ==', 'id': 37926789, 'default': False, 'name': 'API Task'}, {'color': 'd7e102', 'url': 'https://api.github.com/repos/omegaup/omegaup/labels/P1', 'node_id': 'MDU6TGFiZWwxODA1MjE0NQ==', 'id': 18052145, 'default': False, 'name': 'P1'}]\n"
     ]
    }
   ],
   "source": [
    "for i in issues.changes['issue']:\n",
    "    if len(i['data']['labels']) > 1:\n",
    "        print(i['data']['labels'])\n",
    "        break"
   ]
  },
  {
   "cell_type": "code",
   "execution_count": 193,
   "metadata": {},
   "outputs": [
    {
     "data": {
      "text/plain": [
       "{'author': 'frcepeda',\n",
       " 'closed_at': datetime.datetime(2013, 7, 27, 17, 16, 59),\n",
       " 'created_date': datetime.datetime(2013, 5, 20, 2, 43, 53),\n",
       " 'repo': 'https://github.com/omegaup/omegaup',\n",
       " 'state': 'closed',\n",
       " 'url': 'https://github.com/omegaup/omegaup/pull/370',\n",
       " 'uuid': 'db72356970144772cfb9c3814cb4527cdfa69643'}"
      ]
     },
     "execution_count": 193,
     "metadata": {},
     "output_type": "execute_result"
    }
   ],
   "source": [
    "summarize(issues.changes['pull_request'][0],'issue')"
   ]
  },
  {
   "cell_type": "code",
   "execution_count": null,
   "metadata": {},
   "outputs": [],
   "source": []
  }
 ],
 "metadata": {
  "kernelspec": {
   "display_name": "Python 3",
   "language": "python",
   "name": "python3"
  },
  "language_info": {
   "codemirror_mode": {
    "name": "ipython",
    "version": 3
   },
   "file_extension": ".py",
   "mimetype": "text/x-python",
   "name": "python",
   "nbconvert_exporter": "python",
   "pygments_lexer": "ipython3",
   "version": "3.5.2"
  }
 },
 "nbformat": 4,
 "nbformat_minor": 2
}
