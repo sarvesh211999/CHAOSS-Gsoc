{
 "cells": [
  {
   "cell_type": "markdown",
   "metadata": {},
   "source": [
    "# Microtask 1"
   ]
  },
  {
   "cell_type": "markdown",
   "metadata": {},
   "source": [
    "### Retrieving Data from OmegaUp\n",
    "\n",
    "From the command line run Perceval on the github repositories to analyze, to produce a file with JSON documents for all its issues (the list obtained contains the pull request also), one per line (git-commits.json).\n",
    "\n",
    "\n",
    "Syntax for using Perceval for Github\n",
    "`perceval github owner repository [--sleep-for-rate] [-t XXXXX]`\n",
    "\n",
    "\n",
    "Date of Retrieval: 1st March 2019\n",
    "##### Example:\n",
    "\n",
    "`$ perceval github --json-line -category pull_request omegaup omegaup --sleep-for-rate -t a247a6b7d506736da6d653cddc060a96bfbd9cb3 > data_source.json`\n",
    "\n",
    "`$ perceval github --json-line -category issue omegaup omegaup --sleep-for-rate -t a247a6b7d506736da6d653cddc060a96bfbd9cb3 >> data_source.json`\n",
    "\n",
    "Gets the information about Pull Request and Issues from Github\n",
    "\n",
    "###### Current Problem With Perceval    \n",
    "    The Existing Problem with Perceval is that when running the above command with category issue it also \n",
    "    fetches the pull request because the github api returns the pull request under issues. For Ex \n",
    "   ##### https://api.github.com/repos/omegaup/omegaup/issues/2378\n",
    "    \n",
    "    This is a pull request but in url you can see it is returned as issue\n",
    "   \n",
    "    So we have to remove the duplicates (done in __init__() function)\n",
    "    \n",
    "    \n",
    "\n",
    "`$ perceval git --json-line https://github.com/omegaup/omegaup >> data_source.json`\n",
    "\n",
    "    Gets the information about Commits from Github\n",
    "\n",
    "----------------------------------------------------------------------------------------\n",
    "--sleep-for-rate To avoid having perceval exiting when the rate limit is exceeded\n",
    "\n",
    "-t is token for Github API"
   ]
  },
  {
   "cell_type": "code",
   "execution_count": 7,
   "metadata": {},
   "outputs": [],
   "source": [
    "import json\n",
    "import datetime\n",
    "import re\n",
    "from dateutil import parser"
   ]
  },
  {
   "cell_type": "markdown",
   "metadata": {},
   "source": [
    "## Summarize Function\n",
    "\n",
    "#### @arguments \n",
    "\n",
    "<b>line</b>: item to be summarized<br>\n",
    "<b>type</b>: type of item(commit,issue,pull_request)\n",
    "\n",
    "summary{\n",
    "    repo,<br>\n",
    "    hash(in case of commit) or uuid(in case of PR or Issue),<br>\n",
    "    author,<br>\n",
    "    author_date,<br>\n",
    "    ....<br>\n",
    "}"
   ]
  },
  {
   "cell_type": "code",
   "execution_count": 30,
   "metadata": {},
   "outputs": [],
   "source": [
    "def summarize(line,type):\n",
    "    repo = line['origin']\n",
    "    cdata = line['data']\n",
    "    if(type=='commit'):    \n",
    "        summary = {\n",
    "                'repo': repo,\n",
    "                'hash': cdata['commit'],\n",
    "                'author': cdata['Author'],\n",
    "                'author_date': datetime.datetime.strptime(cdata['AuthorDate'],\n",
    "                                                          \"%a %b %d %H:%M:%S %Y %z\"),\n",
    "                'commit': cdata['Commit'],\n",
    "                'created_date': datetime.datetime.strptime(cdata['CommitDate'],\n",
    "                                                          \"%a %b %d %H:%M:%S %Y %z\"),\n",
    "                'files_no': len(cdata['files']),\n",
    "        }\n",
    "        actions = 0\n",
    "        for file in cdata['files']:\n",
    "            if 'action' in file:\n",
    "                actions += 1\n",
    "        summary['files_action'] = actions\n",
    "        if 'Merge' in cdata:\n",
    "            summary['merge'] = True\n",
    "        else:\n",
    "            summary['merge'] = False\n",
    "    elif(type=='issue'):\n",
    "        summary = {\n",
    "                'repo': repo,\n",
    "                'uuid': line['uuid'],\n",
    "                'author': cdata['user']['login'],\n",
    "                'created_date': datetime.datetime.strptime(cdata['created_at'],\n",
    "                                            \"%Y-%m-%dT%H:%M:%SZ\"),\n",
    "                'closed_date':datetime.datetime.strptime(cdata['closed_at'],\n",
    "                                            \"%Y-%m-%dT%H:%M:%SZ\") if cdata['closed_at'] else None, \n",
    "                'comments': cdata['comments'],\n",
    "                'labels': cdata['labels'],\n",
    "                'url': cdata['html_url'],\n",
    "                'state':cdata['state']\n",
    "        }\n",
    "    elif(type=='pull_request'):\n",
    "        summary = {\n",
    "                'repo': repo,\n",
    "                'uuid': line['uuid'],\n",
    "                'author': cdata['user']['login'],\n",
    "                'created_date': datetime.datetime.strptime(cdata['created_at'],\"%Y-%m-%dT%H:%M:%SZ\"),\n",
    "                'closed_date': datetime.datetime.strptime(cdata['closed_at'],\"%Y-%m-%dT%H:%M:%SZ\")\n",
    "                                            if cdata['closed_at'] else None,\n",
    "                'merged_date': datetime.datetime.strptime(cdata['merged_at'],\"%Y-%m-%dT%H:%M:%SZ\")\n",
    "                                        if cdata['merged_at'] else None,\n",
    "                'comments': cdata['comments'],\n",
    "                'commits': cdata['commits'],\n",
    "                'additions': cdata['additions'],\n",
    "                'deletions': cdata['deletions'],\n",
    "                'changed_files':cdata['changed_files'],\n",
    "                'url': cdata['html_url'],\n",
    "                'state':cdata['state']\n",
    "        }\n",
    "    \n",
    "    return summary"
   ]
  },
  {
   "cell_type": "markdown",
   "metadata": {},
   "source": [
    "## Class Code_Changes\n",
    "\n",
    "Takes path to the JSON file as input parameter"
   ]
  },
  {
   "cell_type": "code",
   "execution_count": 31,
   "metadata": {},
   "outputs": [],
   "source": [
    "class Code_Changes:\n",
    "    \"\"\"\"Class for Code_Changes for Git repositories.\n",
    "    \n",
    "    Objects are instantiated by specifying a file with the\n",
    "    commits obtained by Perceval from a set of repositories.\n",
    "    \n",
    "    Contains individual list for Issues, Pull Requests and Commits\n",
    "        \n",
    "    :param path: Path to file with one Perceval JSON document per line\n",
    "    \"\"\"\n",
    "    \n",
    "    def __init__(self, path):\n",
    "        \n",
    "        self.changes = {'issue':[],'commit':[],'pull_request':[]}\n",
    "        with open(path) as data_file:\n",
    "            for data in data_file:\n",
    "                line = json.loads(data)\n",
    "                if(line['category'] ==  'commit'):\n",
    "                    self.changes['commit'].append(summarize(line,'commit'))\n",
    "                else:\n",
    "                    if (line['category'] == 'pull_request'):\n",
    "                        self.changes['pull_request'].append(summarize(line,'pull_request'))\n",
    "                    elif ('pull_request' not in line['data']) and (line['category'] == 'issue'):\n",
    "                        self.changes['issue'].append(summarize(line,'issue'))\n",
    "    "
   ]
  },
  {
   "cell_type": "markdown",
   "metadata": {},
   "source": [
    "#### Functions Available\n",
    "- total_count() : returns the total number of issues till date\n",
    "- count(): returns number of issues created in Period Of Time\n",
    "    ###### Parameters\n",
    "    - Since\n",
    "    - Until\n",
    "            "
   ]
  },
  {
   "cell_type": "markdown",
   "metadata": {},
   "source": [
    "## Quarter Definition"
   ]
  },
  {
   "cell_type": "code",
   "execution_count": 83,
   "metadata": {},
   "outputs": [],
   "source": [
    "quarters = {} #define a quarter dictonary with key a quarter#no and value is a list with since and until (contains month and date)\n",
    "quarters['quarter1'] = ({'month':1,'day':1},{'month':3,'day':31})  #January 01 – March 31\n",
    "quarters['quarter2'] = ({'month':4,'day':1},{'month':6,'day':30})  #April 01 – June 30\n",
    "quarters['quarter3'] = ({'month':7,'day':1},{'month':9,'day':30})  #July 01 – September 30\n",
    "quarters['quarter4'] = ({'month':10,'day':1},{'month':12,'day':31})  #October 01 – December 31\n",
    "quarters_keys = sorted(quarters.keys(), key=lambda x:x.lower()) ## dictonary is not formed in sorted order \n",
    "                                                           ##or in the order in which it has been instantiated"
   ]
  },
  {
   "cell_type": "markdown",
   "metadata": {},
   "source": [
    "## Quarter Function\n",
    "\n",
    "### @arguments - since (year)  , until (year)  \n",
    "Divides the given duration into quarters"
   ]
  },
  {
   "cell_type": "code",
   "execution_count": 92,
   "metadata": {},
   "outputs": [],
   "source": [
    "def quarterize(since,until):\n",
    "    quarter_duration = []\n",
    "    for year in range(since,until+1):\n",
    "        for key in quarters_keys:\n",
    "            value = quarters[key]\n",
    "            to_append = [datetime.datetime(year,value[0]['month'],value[0]['day']),datetime.datetime(year,value[1]['month'],value[1]['day'])]\n",
    "#             print(to_append)\n",
    "            quarter_duration.append(to_append)\n",
    "    return quarter_duration"
   ]
  },
  {
   "cell_type": "code",
   "execution_count": 97,
   "metadata": {},
   "outputs": [],
   "source": [
    "quarter_durations = quarterize(2018,2019)"
   ]
  },
  {
   "cell_type": "markdown",
   "metadata": {},
   "source": [
    "## Example of the implementation"
   ]
  },
  {
   "cell_type": "code",
   "execution_count": 106,
   "metadata": {},
   "outputs": [],
   "source": [
    "code = Code_Changes('data_source.json')"
   ]
  },
  {
   "cell_type": "code",
   "execution_count": 108,
   "metadata": {},
   "outputs": [
    {
     "name": "stdout",
     "output_type": "stream",
     "text": [
      "Total Number Of Commits: 4224\n",
      "Total Number Of Pull Requests: 923\n",
      "Total Number Of Issues: 1484\n"
     ]
    }
   ],
   "source": [
    "print(\"Total Number Of Commits:\",len(code.changes['commit']))\n",
    "print(\"Total Number Of Pull Requests:\",len(code.changes['pull_request']))\n",
    "print(\"Total Number Of Issues:\",len(code.changes['issue']))"
   ]
  },
  {
   "cell_type": "markdown",
   "metadata": {},
   "source": [
    "## First Activity in The Repository"
   ]
  },
  {
   "cell_type": "code",
   "execution_count": 109,
   "metadata": {},
   "outputs": [
    {
     "name": "stdout",
     "output_type": "stream",
     "text": [
      "2010\n"
     ]
    }
   ],
   "source": [
    "code.changes['commit'].sort(key = lambda x:x['created_date'].replace(tzinfo=None))  ##sorting the commits with date \n",
    "first_commit = code.changes['commit'][0]\n",
    "first_commit_year = first_commit['created_date'].year\n",
    "\n",
    "code.changes['pull_request'].sort(key = lambda x:x['created_date'].replace(tzinfo=None))  ##sorting the pull requests with date \n",
    "first_commit = code.changes['commit'][0]\n",
    "first_pull_request_year = first_commit['created_date'].year\n",
    "\n",
    "code.changes['issue'].sort(key = lambda x:x['created_date'].replace(tzinfo=None))  ##sorting the issues with date \n",
    "first_commit = code.changes['commit'][0]\n",
    "first_issue_year = first_commit['created_date'].year\n",
    "\n",
    "first_activity_year = min(first_commit_year,first_issue_year,first_pull_request_year)\n",
    "current_year = 2019\n",
    "print(first_activity_year)"
   ]
  },
  {
   "cell_type": "markdown",
   "metadata": {},
   "source": [
    "## Activity QuarterWise\n",
    "\n",
    "Number of Commits, PRs, Issues QuarterWise"
   ]
  },
  {
   "cell_type": "code",
   "execution_count": 121,
   "metadata": {},
   "outputs": [],
   "source": [
    "quarter_durations = quarterize(2017,2018) ## get the quarter duration between the years passed as arguments"
   ]
  },
  {
   "cell_type": "code",
   "execution_count": 135,
   "metadata": {},
   "outputs": [],
   "source": [
    "activity = {'issue':[],'pull_request':[],'commit':[] }\n",
    "new_contributors = {'issue':[],'pull_request':[],'commit':[] }\n",
    "existing_authors = {'issue':set(),'pull_request':set(),'commit':set() }\n",
    "for quarter in quarter_durations:\n",
    "    since = quarter[0]\n",
    "    until = quarter[1]\n",
    "    for change_type,items in code.changes.items():\n",
    "        activity_per_quarter = 0                    ## resetting activity to 0 after every quarter after every type\n",
    "        new_author_per_quarter = 0                    ## resetting new_author to 0 after every quarter after every type\n",
    "        for item in items:\n",
    "            if since<=item['created_date'].replace(tzinfo=None)<=until:\n",
    "                activity_per_quarter += 1\n",
    "                if item['author'] not in existing_authors[change_type]:\n",
    "                    new_author_per_quarter += 1\n",
    "                    existing_authors[change_type].add(item['author'])\n",
    "        activity[change_type].append(activity_per_quarter)\n",
    "        new_contributors[change_type].append(new_author_per_quarter)"
   ]
  },
  {
   "cell_type": "code",
   "execution_count": 136,
   "metadata": {},
   "outputs": [
    {
     "name": "stdout",
     "output_type": "stream",
     "text": [
      "No. of Quarters : 3\n",
      "{'pull_request': [73, 76, 63, 98, 114, 120, 51, 63], 'commit': [102, 93, 65, 107, 130, 115, 61, 58], 'issue': [75, 104, 63, 90, 111, 128, 36, 29]}\n",
      "{'pull_request': [10, 5, 7, 2, 14, 6, 0, 1], 'commit': [10, 5, 6, 4, 12, 7, 1, 1], 'issue': [13, 12, 6, 5, 9, 2, 6, 3]}\n"
     ]
    }
   ],
   "source": [
    "print(activity) ## List showing data for activity from 1st quarter of the since(2017)  till until(2018)\n",
    "print(new_contributors) ## List showing data for new contributors in commits, PRs, issue 1st quarter of the since(2017)  till until(2018)"
   ]
  },
  {
   "cell_type": "code",
   "execution_count": null,
   "metadata": {},
   "outputs": [],
   "source": []
  }
 ],
 "metadata": {
  "kernelspec": {
   "display_name": "Python 3",
   "language": "python",
   "name": "python3"
  },
  "language_info": {
   "codemirror_mode": {
    "name": "ipython",
    "version": 3
   },
   "file_extension": ".py",
   "mimetype": "text/x-python",
   "name": "python",
   "nbconvert_exporter": "python",
   "pygments_lexer": "ipython3",
   "version": "3.5.2"
  }
 },
 "nbformat": 4,
 "nbformat_minor": 2
}
