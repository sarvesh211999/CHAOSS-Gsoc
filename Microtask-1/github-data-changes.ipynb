{
 "cells": [
  {
   "cell_type": "markdown",
   "metadata": {},
   "source": [
    "# Microtask 1"
   ]
  },
  {
   "cell_type": "markdown",
   "metadata": {},
   "source": [
    "### Retrieving Data from OmegaUp\n",
    "\n",
    "From the command line run Perceval on the github repositories to analyze, to produce a file with JSON documents for all its issues (the list obtained contains the pull request also), one per line (git-commits.json).\n",
    "\n",
    "\n",
    "Syntax for using Perceval for Github\n",
    "`perceval github owner repository [--sleep-for-rate] [-t XXXXX]`\n",
    "\n",
    "\n",
    "Date of Retrieval: 1st March 2019\n",
    "##### Example:\n",
    "\n",
    "`$ perceval github --json-line -category pull_request omegaup omegaup --sleep-for-rate -t a247a6b7d506736da6d653cddc060a96bfbd9cb3 > data_source.json`\n",
    "\n",
    "`$ perceval github --json-line -category issue omegaup omegaup --sleep-for-rate -t a247a6b7d506736da6d653cddc060a96bfbd9cb3 >> data_source.json`\n",
    "\n",
    "Gets the information about Pull Request and Issues from Github\n",
    "\n",
    "###### Current Problem With Perceval    \n",
    "    The Existing Problem with Perceval is that when running the above command with category issue it also \n",
    "    fetches the pull request because the github api returns the pull request under issues. For Ex \n",
    "   ##### https://api.github.com/repos/omegaup/omegaup/issues/2378\n",
    "    \n",
    "    This is a pull request but in url you can see it is returned as issue\n",
    "   \n",
    "    So we have to remove the duplicates (done in __init__() function)\n",
    "    \n",
    "    \n",
    "\n",
    "`$ perceval git --json-line https://github.com/omegaup/omegaup >> data_source.json`\n",
    "\n",
    "    Gets the information about Commits from Github\n",
    "\n",
    "----------------------------------------------------------------------------------------\n",
    "--sleep-for-rate To avoid having perceval exiting when the rate limit is exceeded\n",
    "\n",
    "-t is token for Github API"
   ]
  },
  {
   "cell_type": "code",
   "execution_count": 7,
   "metadata": {},
   "outputs": [],
   "source": [
    "import json\n",
    "import datetime\n",
    "import re\n",
    "from dateutil import parser"
   ]
  },
  {
   "cell_type": "markdown",
   "metadata": {},
   "source": [
    "## Summarize Function\n",
    "\n",
    "#### @arguments \n",
    "\n",
    "<b>line</b>: item to be summarized<br>\n",
    "<b>type</b>: type of item(commit,issue,pull_request)\n",
    "\n",
    "summary{\n",
    "    repo,<br>\n",
    "    hash(in case of commit) or uuid(in case of PR or Issue),<br>\n",
    "    author,<br>\n",
    "    author_date,<br>\n",
    "    ....<br>\n",
    "}"
   ]
  },
  {
   "cell_type": "code",
   "execution_count": 18,
   "metadata": {},
   "outputs": [],
   "source": [
    "def summarize(line,type):\n",
    "    repo = line['origin']\n",
    "    cdata = line['data']\n",
    "    if(type=='commit'):    \n",
    "        summary = {\n",
    "                'repo': repo,\n",
    "                'hash': cdata['commit'],\n",
    "                'author': cdata['Author'],\n",
    "                'author_date': datetime.datetime.strptime(cdata['AuthorDate'],\n",
    "                                                          \"%a %b %d %H:%M:%S %Y %z\"),\n",
    "                'commit': cdata['Commit'],\n",
    "                'created_date': datetime.datetime.strptime(cdata['CommitDate'],\n",
    "                                                          \"%a %b %d %H:%M:%S %Y %z\"),\n",
    "                'files_no': len(cdata['files']),\n",
    "        }\n",
    "        actions = 0\n",
    "        for file in cdata['files']:\n",
    "            if 'action' in file:\n",
    "                actions += 1\n",
    "        summary['files_action'] = actions\n",
    "        if 'Merge' in cdata:\n",
    "            summary['merge'] = True\n",
    "        else:\n",
    "            summary['merge'] = False\n",
    "    elif(type=='issue'):\n",
    "        summary = {\n",
    "                'repo': repo,\n",
    "                'uuid': line['uuid'],\n",
    "                'author': cdata['user']['login'],\n",
    "                'created_date': datetime.datetime.strptime(cdata['created_at'],\n",
    "                                            \"%Y-%m-%dT%H:%M:%SZ\"),\n",
    "                'closed_date':datetime.datetime.strptime(cdata['closed_at'],\n",
    "                                            \"%Y-%m-%dT%H:%M:%SZ\") if cdata['closed_at'] else None, \n",
    "                'comments': cdata['comments'],\n",
    "                'labels': cdata['labels'],\n",
    "                'url': cdata['html_url'],\n",
    "                'state':cdata['state']\n",
    "        }\n",
    "    elif(type=='pull_request'):\n",
    "        summary = {\n",
    "                'repo': repo,\n",
    "                'uuid': line['uuid'],\n",
    "                'author': cdata['user']['login'],\n",
    "                'created_date': datetime.datetime.strptime(cdata['created_at'],\"%Y-%m-%dT%H:%M:%SZ\"),\n",
    "                'closed_date': datetime.datetime.strptime(cdata['closed_at'],\"%Y-%m-%dT%H:%M:%SZ\")\n",
    "                                            if cdata['closed_at'] else None,\n",
    "                'merged_date': datetime.datetime.strptime(cdata['merged_at'],\"%Y-%m-%dT%H:%M:%SZ\")\n",
    "                                        if cdata['merged_at'] else None,\n",
    "                'comments': cdata['comments'],\n",
    "                'commits': cdata['commits'],\n",
    "                'additions': cdata['additions'],\n",
    "                'deletions': cdata['deletions'],\n",
    "                'changed_files':cdata['changed_files'],\n",
    "                'url': cdata['html_url'],\n",
    "                'state':cdata['state']\n",
    "        }\n",
    "    \n",
    "    return summary"
   ]
  },
  {
   "cell_type": "markdown",
   "metadata": {},
   "source": [
    "## Class Code_Changes\n",
    "\n",
    "Takes path to the JSON file as input parameter and on initializing a dictionary is created.\n",
    "Dictionary has three keys each of which maps to a list <br>\n",
    "    - Commits : Contains list of summary of each commit\n",
    "    - Issues : Contains list of summary of each issue \n",
    "    - Pull Requests  : Contains list of summary of each pull request "
   ]
  },
  {
   "cell_type": "code",
   "execution_count": 19,
   "metadata": {},
   "outputs": [],
   "source": [
    "class Code_Changes:\n",
    "    \"\"\"\"Class for Code_Changes for Git repositories.\n",
    "    \n",
    "    Objects are instantiated by specifying a file with the\n",
    "    commits obtained by Perceval from a set of repositories.\n",
    "    \n",
    "    Contains individual list for Issues, Pull Requests and Commits\n",
    "        \n",
    "    :param path: Path to file with one Perceval JSON document per line\n",
    "    \"\"\"\n",
    "    \n",
    "    def __init__(self, path):\n",
    "        \n",
    "        self.changes = {'issue':[],'commit':[],'pull_request':[]}\n",
    "        with open(path) as data_file:\n",
    "            for data in data_file:\n",
    "                line = json.loads(data)\n",
    "                if(line['category'] ==  'commit'):\n",
    "                    self.changes['commit'].append(summarize(line,'commit'))\n",
    "                else:\n",
    "                    if (line['category'] == 'pull_request'):\n",
    "                        self.changes['pull_request'].append(summarize(line,'pull_request'))\n",
    "                    elif ('pull_request' not in line['data']) and (line['category'] == 'issue'):\n",
    "                        self.changes['issue'].append(summarize(line,'issue'))\n",
    "                            "
   ]
  },
  {
   "cell_type": "markdown",
   "metadata": {},
   "source": [
    "## Quarter Definition"
   ]
  },
  {
   "cell_type": "code",
   "execution_count": 20,
   "metadata": {},
   "outputs": [],
   "source": [
    "quarters = {} #define a quarter dictonary with key a quarter#no and value is a list with since and until (contains month and date)\n",
    "quarters['quarter1'] = ({'month':1,'day':1},{'month':3,'day':31})  #January 01 – March 31\n",
    "quarters['quarter2'] = ({'month':4,'day':1},{'month':6,'day':30})  #April 01 – June 30\n",
    "quarters['quarter3'] = ({'month':7,'day':1},{'month':9,'day':30})  #July 01 – September 30\n",
    "quarters['quarter4'] = ({'month':10,'day':1},{'month':12,'day':31})  #October 01 – December 31\n",
    "quarters_keys = sorted(quarters.keys(), key=lambda x:x.lower()) ## dictonary is not formed in sorted order \n",
    "                                                           ##or in the order in which it has been instantiated"
   ]
  },
  {
   "cell_type": "markdown",
   "metadata": {},
   "source": [
    "## Quarter Function\n",
    "\n",
    "### @arguments - since (year)  , until (year)  \n",
    "Divides the given duration into quarters <br>\n",
    "Returns a list containing start and end of quarter in form datetime object"
   ]
  },
  {
   "cell_type": "code",
   "execution_count": 21,
   "metadata": {},
   "outputs": [],
   "source": [
    "def quarterize(since,until):\n",
    "    quarter_duration = []\n",
    "    for year in range(since,until+1):\n",
    "        for key in quarters_keys:\n",
    "            value = quarters[key]\n",
    "            to_append = [datetime.datetime(year,value[0]['month'],value[0]['day']),datetime.datetime(year,value[1]['month'],value[1]['day'])]\n",
    "            quarter_duration.append(to_append)\n",
    "    return quarter_duration"
   ]
  },
  {
   "cell_type": "code",
   "execution_count": 22,
   "metadata": {},
   "outputs": [
    {
     "name": "stdout",
     "output_type": "stream",
     "text": [
      "[datetime.datetime(2018, 1, 1, 0, 0), datetime.datetime(2018, 3, 31, 0, 0)]\n",
      "[datetime.datetime(2018, 4, 1, 0, 0), datetime.datetime(2018, 6, 30, 0, 0)]\n",
      "[datetime.datetime(2018, 7, 1, 0, 0), datetime.datetime(2018, 9, 30, 0, 0)]\n",
      "[datetime.datetime(2018, 10, 1, 0, 0), datetime.datetime(2018, 12, 31, 0, 0)]\n",
      "[datetime.datetime(2019, 1, 1, 0, 0), datetime.datetime(2019, 3, 31, 0, 0)]\n",
      "[datetime.datetime(2019, 4, 1, 0, 0), datetime.datetime(2019, 6, 30, 0, 0)]\n",
      "[datetime.datetime(2019, 7, 1, 0, 0), datetime.datetime(2019, 9, 30, 0, 0)]\n",
      "[datetime.datetime(2019, 10, 1, 0, 0), datetime.datetime(2019, 12, 31, 0, 0)]\n"
     ]
    }
   ],
   "source": [
    "quarter_durations = quarterize(2018,2019)\n",
    "for i in quarter_durations:\n",
    "    print(i)"
   ]
  },
  {
   "cell_type": "markdown",
   "metadata": {},
   "source": [
    "## Example of the implementation"
   ]
  },
  {
   "cell_type": "code",
   "execution_count": 23,
   "metadata": {},
   "outputs": [],
   "source": [
    "code = Code_Changes('../data_source.json')"
   ]
  },
  {
   "cell_type": "code",
   "execution_count": 9,
   "metadata": {},
   "outputs": [
    {
     "name": "stdout",
     "output_type": "stream",
     "text": [
      "Total Number Of Commits: 4224\n",
      "Total Number Of Pull Requests: 923\n",
      "Total Number Of Issues: 1484\n"
     ]
    }
   ],
   "source": [
    "print(\"Total Number Of Commits:\",len(code.changes['commit']))\n",
    "print(\"Total Number Of Pull Requests:\",len(code.changes['pull_request']))\n",
    "print(\"Total Number Of Issues:\",len(code.changes['issue']))"
   ]
  },
  {
   "cell_type": "markdown",
   "metadata": {},
   "source": [
    "## First Activity in The Repository\n",
    "\n",
    "Finding first activity in repository.<br>\n",
    "Finding the earliest created_date for each commit, issue and pull_request.<br>\n",
    "Then finding the earliest of the three."
   ]
  },
  {
   "cell_type": "code",
   "execution_count": 10,
   "metadata": {},
   "outputs": [
    {
     "name": "stdout",
     "output_type": "stream",
     "text": [
      "Year of first activity:  2010\n"
     ]
    }
   ],
   "source": [
    "code.changes['commit'].sort(key = lambda x:x['created_date'].replace(tzinfo=None))  ##sorting the commits with date \n",
    "first_commit = code.changes['commit'][0]\n",
    "first_commit_year = first_commit['created_date'].year\n",
    "\n",
    "code.changes['pull_request'].sort(key = lambda x:x['created_date'].replace(tzinfo=None))  ##sorting the pull requests with date \n",
    "first_commit = code.changes['commit'][0]\n",
    "first_pull_request_year = first_commit['created_date'].year\n",
    "\n",
    "code.changes['issue'].sort(key = lambda x:x['created_date'].replace(tzinfo=None))  ##sorting the issues with date \n",
    "first_commit = code.changes['commit'][0]\n",
    "first_issue_year = first_commit['created_date'].year\n",
    "\n",
    "first_activity_year = min(first_commit_year,first_issue_year,first_pull_request_year)\n",
    "current_year = 2019\n",
    "print(\"Year of first activity: \",first_activity_year)"
   ]
  },
  {
   "cell_type": "markdown",
   "metadata": {},
   "source": [
    "## Activity QuarterWise\n",
    "\n",
    "Calculating the activity in the repository quarterwise.<br>\n",
    "Dictionary for Activity that has keys issue, pull_request and commit.<br>\n",
    "Each of the key is mapped to a list containing a list of which each index denotes the activity in that quarter (indexing starts with 0) <br>\n",
    "For example `activity['issue'][1]` will denote the issues activities in Quarter 2 <br>\n",
    "Number of Commits, PRs, Issues QuarterWise"
   ]
  },
  {
   "cell_type": "code",
   "execution_count": 11,
   "metadata": {},
   "outputs": [],
   "source": [
    "quarter_durations = quarterize(2017,2018) ## get the quarter duration between the years passed as arguments"
   ]
  },
  {
   "cell_type": "code",
   "execution_count": 31,
   "metadata": {},
   "outputs": [],
   "source": [
    "activity = {'issue':[],'pull_request':[],'commit':[] }\n",
    "new_contributors = {'issue':[],'pull_request':[],'commit':[] }\n",
    "existing_authors = {'issue':set(),'pull_request':set(),'commit':set() }\n",
    "for quarter in quarter_durations:\n",
    "    since = quarter[0]\n",
    "    until = quarter[1]\n",
    "    for change_type,items in code.changes.items():\n",
    "        activity_per_quarter = 0                    ## resetting activity to 0 after every quarter after every type\n",
    "        new_author_per_quarter = 0                    ## resetting new_author to 0 after every quarter after every type\n",
    "        for item in items:\n",
    "            if since<=item['created_date'].replace(tzinfo=None)<=until:\n",
    "                activity_per_quarter += 1\n",
    "                if item['author'] not in existing_authors[change_type]:\n",
    "                    new_author_per_quarter += 1\n",
    "                    existing_authors[change_type].add(item['author'])\n",
    "        activity[change_type].append(activity_per_quarter)\n",
    "        new_contributors[change_type].append(new_author_per_quarter)"
   ]
  },
  {
   "cell_type": "markdown",
   "metadata": {},
   "source": [
    "## Quarter Number and Their Duration\n",
    "\n",
    "Displaying the quarter number and its starting date and ending date"
   ]
  },
  {
   "cell_type": "code",
   "execution_count": 51,
   "metadata": {},
   "outputs": [
    {
     "name": "stdout",
     "output_type": "stream",
     "text": [
      "Quarter 1:  01 January 2018 to 31 March 2018\n",
      "Quarter 2:  01 April 2018 to 30 June 2018\n",
      "Quarter 3:  01 July 2018 to 30 September 2018\n",
      "Quarter 4:  01 October 2018 to 31 December 2018\n",
      "Quarter 5:  01 January 2019 to 31 March 2019\n",
      "Quarter 6:  01 April 2019 to 30 June 2019\n",
      "Quarter 7:  01 July 2019 to 30 September 2019\n",
      "Quarter 8:  01 October 2019 to 31 December 2019\n"
     ]
    }
   ],
   "source": [
    "for number,quarter in enumerate(quarter_durations):\n",
    "    print(\"Quarter \"+str(number + 1) + \": \",quarter[0].strftime('%d %B %Y'),\"to\",quarter[1].strftime('%d %B %Y'))"
   ]
  },
  {
   "cell_type": "markdown",
   "metadata": {},
   "source": [
    "## Activity List\n",
    "\n",
    "Shows the list that contains amount of commits, pull requests and issue per quarter in the given years"
   ]
  },
  {
   "cell_type": "code",
   "execution_count": 55,
   "metadata": {},
   "outputs": [],
   "source": [
    "first_quarter_year = quarter_durations[0][0].year"
   ]
  },
  {
   "cell_type": "code",
   "execution_count": 56,
   "metadata": {},
   "outputs": [
    {
     "name": "stdout",
     "output_type": "stream",
     "text": [
      "commit\n",
      "---------\n",
      "Year 2018 Quarter 1: 130\n",
      "Year 2018 Quarter 2: 115\n",
      "Year 2018 Quarter 3: 61\n",
      "Year 2018 Quarter 4: 58\n",
      "Year 2019 Quarter 1: 70\n",
      "Year 2019 Quarter 2: 0\n",
      "Year 2019 Quarter 3: 0\n",
      "Year 2019 Quarter 4: 0\n",
      "\n",
      "\n",
      "issue\n",
      "---------\n",
      "Year 2018 Quarter 1: 111\n",
      "Year 2018 Quarter 2: 128\n",
      "Year 2018 Quarter 3: 36\n",
      "Year 2018 Quarter 4: 29\n",
      "Year 2019 Quarter 1: 45\n",
      "Year 2019 Quarter 2: 0\n",
      "Year 2019 Quarter 3: 0\n",
      "Year 2019 Quarter 4: 0\n",
      "\n",
      "\n",
      "pull_request\n",
      "---------\n",
      "Year 2018 Quarter 1: 114\n",
      "Year 2018 Quarter 2: 120\n",
      "Year 2018 Quarter 3: 51\n",
      "Year 2018 Quarter 4: 63\n",
      "Year 2019 Quarter 1: 63\n",
      "Year 2019 Quarter 2: 0\n",
      "Year 2019 Quarter 3: 0\n",
      "Year 2019 Quarter 4: 0\n",
      "\n",
      "\n"
     ]
    }
   ],
   "source": [
    "for key,value in activity.items():\n",
    "    print(key)\n",
    "    print(\"---------\")\n",
    "    for i in range(len(value)):\n",
    "        print(\"Year \"+str(first_quarter_year + int(i/4)) +\" Quarter \"+str(i%4 + 1)+\": \"+str(value[i]))\n",
    "    print(\"\\n\")"
   ]
  },
  {
   "cell_type": "markdown",
   "metadata": {},
   "source": [
    "## New Authors \n",
    "\n",
    "Shows the list that contains number of new contributors that has contributed in form commits, pull requests and issue per quarter in the given years"
   ]
  },
  {
   "cell_type": "code",
   "execution_count": 59,
   "metadata": {},
   "outputs": [
    {
     "name": "stdout",
     "output_type": "stream",
     "text": [
      "commit\n",
      "---------\n",
      "Year 2018 Quarter 1: 20\n",
      "Year 2018 Quarter 2: 10\n",
      "Year 2018 Quarter 3: 1\n",
      "Year 2018 Quarter 4: 2\n",
      "Year 2019 Quarter 1: 3\n",
      "Year 2019 Quarter 2: 0\n",
      "Year 2019 Quarter 3: 0\n",
      "Year 2019 Quarter 4: 0\n",
      "\n",
      "\n",
      "issue\n",
      "---------\n",
      "Year 2018 Quarter 1: 28\n",
      "Year 2018 Quarter 2: 7\n",
      "Year 2018 Quarter 3: 7\n",
      "Year 2018 Quarter 4: 3\n",
      "Year 2019 Quarter 1: 10\n",
      "Year 2019 Quarter 2: 0\n",
      "Year 2019 Quarter 3: 0\n",
      "Year 2019 Quarter 4: 0\n",
      "\n",
      "\n",
      "pull_request\n",
      "---------\n",
      "Year 2018 Quarter 1: 21\n",
      "Year 2018 Quarter 2: 9\n",
      "Year 2018 Quarter 3: 0\n",
      "Year 2018 Quarter 4: 3\n",
      "Year 2019 Quarter 1: 3\n",
      "Year 2019 Quarter 2: 0\n",
      "Year 2019 Quarter 3: 0\n",
      "Year 2019 Quarter 4: 0\n",
      "\n",
      "\n"
     ]
    }
   ],
   "source": [
    "for key,value in new_contributors.items():\n",
    "    print(key)\n",
    "    print(\"---------\")\n",
    "    for i in range(len(value)):\n",
    "        print(\"Year \"+str(first_quarter_year + int(i/4)) +\" Quarter \"+str(i%4 + 1)+\": \"+str(value[i]))\n",
    "    print(\"\\n\")"
   ]
  },
  {
   "cell_type": "markdown",
   "metadata": {},
   "source": [
    "## Writing CSV\n",
    "Using csv module to write the activities quarterwise in the CSV file.\n",
    "\n",
    "fields = ['Quarter','Since','Until','Commits','PRs','Issues','New PR Submitters','New Issue Submitters','New Commiters']"
   ]
  },
  {
   "cell_type": "code",
   "execution_count": 52,
   "metadata": {},
   "outputs": [],
   "source": [
    "import csv"
   ]
  },
  {
   "cell_type": "code",
   "execution_count": 53,
   "metadata": {},
   "outputs": [],
   "source": [
    "fields = ['Quarter','Since','Until','Commits','PRs','Issues','New PR Submitters','New Issue Submitters','New Commiters']\n",
    "\n",
    "with open('microtask1-quarterwise.csv', 'w') as file:\n",
    "    writer = csv.writer(file,quoting=csv.QUOTE_MINIMAL) \n",
    "    writer.writerow(fields)\n",
    "    for number,quarter in enumerate(quarter_durations):\n",
    "        writer.writerow([\"Quarter \"+str(number + 1),quarter[0].strftime('%d %B %Y'),quarter[1].strftime('%d %B %Y'),\n",
    "                         activity['commit'][number],activity['pull_request'][number],activity['issue'][number],\n",
    "                         new_contributors['pull_request'][number],new_contributors['issue'][number],new_contributors['commit'][number]])\n",
    "      "
   ]
  },
  {
   "cell_type": "code",
   "execution_count": 54,
   "metadata": {},
   "outputs": [
    {
     "name": "stdout",
     "output_type": "stream",
     "text": [
      "Quarter         Since           Until           Commits         PRs             Issues          New PR Submitters New Issue Submitters New Commiters   \n",
      "Quarter 1       01 January 2018 31 March 2018   130             114             111             21              28              20              \n",
      "Quarter 2       01 April 2018   30 June 2018    115             120             128             9               7               10              \n",
      "Quarter 3       01 July 2018    30 September 2018 61              51              36              0               7               1               \n",
      "Quarter 4       01 October 2018 31 December 2018 58              63              29              3               3               2               \n",
      "Quarter 5       01 January 2019 31 March 2019   70              63              45              3               10              3               \n",
      "Quarter 6       01 April 2019   30 June 2019    0               0               0               0               0               0               \n",
      "Quarter 7       01 July 2019    30 September 2019 0               0               0               0               0               0               \n",
      "Quarter 8       01 October 2019 31 December 2019 0               0               0               0               0               0               \n"
     ]
    }
   ],
   "source": [
    "with open('microtask1-quarterwise.csv','r', newline='') as File:  \n",
    "    reader = csv.reader(File)\n",
    "    for row in reader:\n",
    "        print ('%-15s '*(len(row))%tuple(row))\n"
   ]
  }
 ],
 "metadata": {
  "kernelspec": {
   "display_name": "Python 3",
   "language": "python",
   "name": "python3"
  },
  "language_info": {
   "codemirror_mode": {
    "name": "ipython",
    "version": 3
   },
   "file_extension": ".py",
   "mimetype": "text/x-python",
   "name": "python",
   "nbconvert_exporter": "python",
   "pygments_lexer": "ipython3",
   "version": "3.5.2"
  }
 },
 "nbformat": 4,
 "nbformat_minor": 2
}
