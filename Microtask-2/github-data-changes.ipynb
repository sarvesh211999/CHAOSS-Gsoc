{
 "cells": [
  {
   "cell_type": "markdown",
   "metadata": {},
   "source": [
    "# Microtask 2"
   ]
  },
  {
   "cell_type": "markdown",
   "metadata": {},
   "source": [
    "## Aim\n",
    "\n",
    "Produce a notebook showing (and producing) a list with the activity per quarter: number of new committers, submitters of issues, and submitters of pull/merge requests, number of items (commits, issues, pull/merge requests), number of repositories with new items (all of this per quarter) as a table and as a CSV file. Using Pandas for this"
   ]
  },
  {
   "cell_type": "markdown",
   "metadata": {},
   "source": [
    "### Retrieving Data from OmegaUp\n",
    "\n",
    "From the command line run Perceval on the github repositories to analyze, to produce a file with JSON documents for all its issues (the list obtained contains the pull request also), one per line (git-commits.json).\n",
    "\n",
    "\n",
    "Syntax for using Perceval for Github\n",
    "`perceval github owner repository [--sleep-for-rate] [-t XXXXX]`\n",
    "\n",
    "\n",
    "Date of Retrieval: 1st March 2019\n",
    "##### Example:\n",
    "\n",
    "`$ perceval github --json-line -category pull_request omegaup omegaup --sleep-for-rate -t a247a6b7d506736da6d653cddc060a96bfbd9cb3 > data_source.json`\n",
    "\n",
    "`$ perceval github --json-line -category issue omegaup omegaup --sleep-for-rate -t a247a6b7d506736da6d653cddc060a96bfbd9cb3 >> data_source.json`\n",
    "\n",
    "Gets the information about Pull Request and Issues from Github\n",
    "\n",
    "###### Current Problem With Perceval    \n",
    "    The Existing Problem with Perceval is that when running the above command with category issue it also \n",
    "    fetches the pull request because the github api returns the pull request under issues. For Ex \n",
    "   ##### https://api.github.com/repos/omegaup/omegaup/issues/2378\n",
    "    \n",
    "    This is a pull request but in url you can see it is returned as issue\n",
    "   \n",
    "    So we have to remove the duplicates (done in __init__() function)\n",
    "    \n",
    "    \n",
    "\n",
    "`$ perceval git --json-line https://github.com/omegaup/omegaup >> data_source.json`\n",
    "\n",
    "    Gets the information about Commits from Github\n",
    "\n",
    "----------------------------------------------------------------------------------------\n",
    "--sleep-for-rate To avoid having perceval exiting when the rate limit is exceeded\n",
    "\n",
    "-t is token for Github API"
   ]
  },
  {
   "cell_type": "code",
   "execution_count": 1,
   "metadata": {},
   "outputs": [
    {
     "name": "stderr",
     "output_type": "stream",
     "text": [
      "/usr/lib/python3.5/importlib/_bootstrap.py:222: RuntimeWarning: numpy.dtype size changed, may indicate binary incompatibility. Expected 96, got 88\n",
      "  return f(*args, **kwds)\n",
      "/usr/lib/python3.5/importlib/_bootstrap.py:222: RuntimeWarning: numpy.dtype size changed, may indicate binary incompatibility. Expected 96, got 88\n",
      "  return f(*args, **kwds)\n"
     ]
    }
   ],
   "source": [
    "import json\n",
    "import datetime\n",
    "import re\n",
    "from dateutil import parser\n",
    "import pandas as pd\n",
    "\n",
    "import warnings ## to ignore warnings that come in importing pandas\n",
    "warnings.filterwarnings(\"ignore\", message=\"numpy.dtype size changed\")"
   ]
  },
  {
   "cell_type": "markdown",
   "metadata": {},
   "source": [
    "## Summarize Function\n",
    "\n",
    "#### @arguments \n",
    "\n",
    "<b>line</b>: item to be summarized<br>\n",
    "<b>type</b>: type of item(commit,issue,pull_request)\n",
    "\n",
    "summary{\n",
    "    repo,<br>\n",
    "    hash(in case of commit) or uuid(in case of PR or Issue),<br>\n",
    "    author,<br>\n",
    "    author_date,<br>\n",
    "    ....<br>\n",
    "}"
   ]
  },
  {
   "cell_type": "code",
   "execution_count": 2,
   "metadata": {},
   "outputs": [],
   "source": [
    "def summarize(line,type):\n",
    "    repo = line['origin']\n",
    "    cdata = line['data']\n",
    "    if(type=='commit'):    \n",
    "        summary = {\n",
    "                'repo': repo,\n",
    "                'hash': cdata['commit'],\n",
    "                'author': cdata['Author'],\n",
    "                'author_date': datetime.datetime.strptime(cdata['AuthorDate'],\n",
    "                                                          \"%a %b %d %H:%M:%S %Y %z\"),\n",
    "                'commit': cdata['Commit'],\n",
    "                'created_date': datetime.datetime.strptime(cdata['CommitDate'],\n",
    "                                                          \"%a %b %d %H:%M:%S %Y %z\"),\n",
    "                'files_no': len(cdata['files']),\n",
    "        }\n",
    "        actions = 0\n",
    "        for file in cdata['files']:\n",
    "            if 'action' in file:\n",
    "                actions += 1\n",
    "        summary['files_action'] = actions\n",
    "        if 'Merge' in cdata:\n",
    "            summary['merge'] = True\n",
    "        else:\n",
    "            summary['merge'] = False\n",
    "    elif(type=='issue'):\n",
    "        summary = {\n",
    "                'repo': repo,\n",
    "                'uuid': line['uuid'],\n",
    "                'author': cdata['user']['login'],\n",
    "                'created_date': datetime.datetime.strptime(cdata['created_at'],\n",
    "                                            \"%Y-%m-%dT%H:%M:%SZ\"),\n",
    "                'closed_date':datetime.datetime.strptime(cdata['closed_at'],\n",
    "                                            \"%Y-%m-%dT%H:%M:%SZ\") if cdata['closed_at'] else None, \n",
    "                'comments': cdata['comments'],\n",
    "                'labels': cdata['labels'],\n",
    "                'url': cdata['html_url'],\n",
    "                'state':cdata['state']\n",
    "        }\n",
    "    elif(type=='pull_request'):\n",
    "        summary = {\n",
    "                'repo': repo,\n",
    "                'uuid': line['uuid'],\n",
    "                'author': cdata['user']['login'],\n",
    "                'created_date': datetime.datetime.strptime(cdata['created_at'],\"%Y-%m-%dT%H:%M:%SZ\"),\n",
    "                'closed_date': datetime.datetime.strptime(cdata['closed_at'],\"%Y-%m-%dT%H:%M:%SZ\")\n",
    "                                            if cdata['closed_at'] else None,\n",
    "                'merged_date': datetime.datetime.strptime(cdata['merged_at'],\"%Y-%m-%dT%H:%M:%SZ\")\n",
    "                                        if cdata['merged_at'] else None,\n",
    "                'comments': cdata['comments'],\n",
    "                'commits': cdata['commits'],\n",
    "                'additions': cdata['additions'],\n",
    "                'deletions': cdata['deletions'],\n",
    "                'changed_files':cdata['changed_files'],\n",
    "                'url': cdata['html_url'],\n",
    "                'state':cdata['state']\n",
    "        }\n",
    "    \n",
    "    return summary"
   ]
  },
  {
   "cell_type": "markdown",
   "metadata": {},
   "source": [
    "## Class Code_Changes\n",
    "\n",
    "Takes path to the JSON file as input parameter"
   ]
  },
  {
   "cell_type": "code",
   "execution_count": 3,
   "metadata": {},
   "outputs": [],
   "source": [
    "class Code_Changes:\n",
    "    \"\"\"\"Class for Code_Changes for Git repositories.\n",
    "    \n",
    "    Objects are instantiated by specifying a file with the\n",
    "    commits obtained by Perceval from a set of repositories.\n",
    "    \n",
    "    Contains individual list for Issues, Pull Requests and Commits\n",
    "        \n",
    "    :param path: Path to file with one Perceval JSON document per line\n",
    "    \"\"\"\n",
    "    \n",
    "    def __init__(self, path):\n",
    "        \n",
    "        self.changes = {'issue':[],'commit':[],'pull_request':[]}\n",
    "        with open(path) as data_file:\n",
    "            for data in data_file:\n",
    "                line = json.loads(data)\n",
    "                if(line['category'] ==  'commit'):\n",
    "                    self.changes['commit'].append(summarize(line,'commit'))\n",
    "                else:\n",
    "                    if (line['category'] == 'pull_request'):\n",
    "                        self.changes['pull_request'].append(summarize(line,'pull_request'))\n",
    "                    elif ('pull_request' not in line['data']) and (line['category'] == 'issue'):\n",
    "                        self.changes['issue'].append(summarize(line,'issue'))\n",
    "        self.code_dataframe = {\n",
    "            'commit':pd.DataFrame.from_dict(self.changes['commit']),\n",
    "            'pull_request':pd.DataFrame.from_dict(self.changes['pull_request']),\n",
    "            'issue':pd.DataFrame.from_dict(self.changes['issue'])\n",
    "        }\n",
    "    "
   ]
  },
  {
   "cell_type": "markdown",
   "metadata": {},
   "source": [
    "#### Functions Available\n",
    "- total_count() : returns the total number of issues till date\n",
    "- count(): returns number of issues created in Period Of Time\n",
    "    ###### Parameters\n",
    "    - Since\n",
    "    - Until\n",
    "            "
   ]
  },
  {
   "cell_type": "markdown",
   "metadata": {},
   "source": [
    "## Quarter Definition"
   ]
  },
  {
   "cell_type": "code",
   "execution_count": 4,
   "metadata": {},
   "outputs": [],
   "source": [
    "quarters = {} #define a quarter dictonary with key a quarter#no and value is a list with since and until (contains month and date)\n",
    "quarters['quarter1'] = ({'month':1,'day':1},{'month':3,'day':31})  #January 01 – March 31\n",
    "quarters['quarter2'] = ({'month':4,'day':1},{'month':6,'day':30})  #April 01 – June 30\n",
    "quarters['quarter3'] = ({'month':7,'day':1},{'month':9,'day':30})  #July 01 – September 30\n",
    "quarters['quarter4'] = ({'month':10,'day':1},{'month':12,'day':31})  #October 01 – December 31\n",
    "quarters_keys = sorted(quarters.keys(), key=lambda x:x.lower()) ## dictonary is not formed in sorted order \n",
    "                                                           ##or in the order in which it has been instantiated"
   ]
  },
  {
   "cell_type": "markdown",
   "metadata": {},
   "source": [
    "## Quarter Function\n",
    "\n",
    "### @arguments - since (year)  , until (year)  \n",
    "Divides the given duration into quarters"
   ]
  },
  {
   "cell_type": "code",
   "execution_count": 5,
   "metadata": {},
   "outputs": [],
   "source": [
    "def quarterize(since,until):\n",
    "    quarter_duration = []\n",
    "    for year in range(since,until+1):\n",
    "        for key in quarters_keys:\n",
    "            value = quarters[key]\n",
    "            to_append = [datetime.datetime(year,value[0]['month'],value[0]['day']),datetime.datetime(year,value[1]['month'],value[1]['day'])]\n",
    "#             print(to_append)\n",
    "            quarter_duration.append(to_append)\n",
    "    return quarter_duration"
   ]
  },
  {
   "cell_type": "markdown",
   "metadata": {},
   "source": [
    "## Example of the implementation"
   ]
  },
  {
   "cell_type": "code",
   "execution_count": 6,
   "metadata": {},
   "outputs": [],
   "source": [
    "code = Code_Changes('data_source.json')"
   ]
  },
  {
   "cell_type": "code",
   "execution_count": 7,
   "metadata": {},
   "outputs": [
    {
     "name": "stdout",
     "output_type": "stream",
     "text": [
      "Total Number Of Commits: 4224\n",
      "Total Number Of Pull Requests: 923\n",
      "Total Number Of Issues: 1484\n"
     ]
    }
   ],
   "source": [
    "print(\"Total Number Of Commits:\",len(code.changes['commit']))\n",
    "print(\"Total Number Of Pull Requests:\",len(code.changes['pull_request']))\n",
    "print(\"Total Number Of Issues:\",len(code.changes['issue']))"
   ]
  },
  {
   "cell_type": "markdown",
   "metadata": {},
   "source": [
    "## First Activity in The Repository\n",
    "\n",
    "Finding first activity in repository.<br>\n",
    "Finding the earliest created_date for each commit, issue and pull_request.<br>\n",
    "Then finding the earliest of the three."
   ]
  },
  {
   "cell_type": "code",
   "execution_count": 8,
   "metadata": {},
   "outputs": [
    {
     "name": "stdout",
     "output_type": "stream",
     "text": [
      "Year of first activity:  2010\n"
     ]
    }
   ],
   "source": [
    "code.changes['commit'].sort(key = lambda x:x['created_date'].replace(tzinfo=None))  ##sorting the commits with date \n",
    "first_commit = code.changes['commit'][0]\n",
    "first_commit_year = first_commit['created_date'].year\n",
    "\n",
    "code.changes['pull_request'].sort(key = lambda x:x['created_date'].replace(tzinfo=None))  ##sorting the pull requests with date \n",
    "first_commit = code.changes['commit'][0]\n",
    "first_pull_request_year = first_commit['created_date'].year\n",
    "\n",
    "code.changes['issue'].sort(key = lambda x:x['created_date'].replace(tzinfo=None))  ##sorting the issues with date \n",
    "first_commit = code.changes['commit'][0]\n",
    "first_issue_year = first_commit['created_date'].year\n",
    "\n",
    "first_activity_year = min(first_commit_year,first_issue_year,first_pull_request_year)\n",
    "current_year = 2019\n",
    "print(\"Year of first activity: \",first_activity_year)"
   ]
  },
  {
   "cell_type": "markdown",
   "metadata": {},
   "source": [
    "## Activity QuarterWise\n",
    "\n",
    "Calculating the activity in the repository quarterwise.<br>\n",
    "Dictionary for Activity that has keys issue, pull_request and commit.<br>\n",
    "Each of the key is mapped to a list containing a list of which each index denotes the activity in that quarter (indexing starts with 0) <br>\n",
    "For example `activity['issue'][1]` will denote the issues activities in Quarter 2 <br>\n",
    "Number of Commits, PRs, Issues QuarterWise"
   ]
  },
  {
   "cell_type": "code",
   "execution_count": 9,
   "metadata": {},
   "outputs": [],
   "source": [
    "quarter_durations = quarterize(2017,2018) ## get the quarter duration between the years passed as arguments"
   ]
  },
  {
   "cell_type": "markdown",
   "metadata": {},
   "source": [
    "Iterate in every quarter duration, for every iteration iterate in every item i.e. commit, issue and pull_request.<br>\n"
   ]
  },
  {
   "cell_type": "code",
   "execution_count": 10,
   "metadata": {},
   "outputs": [],
   "source": [
    "activity = {'issue':[],'pull_request':[],'commit':[] }\n",
    "new_contributors = {'issue':[],'pull_request':[],'commit':[] }\n",
    "existing_authors = {'issue':[],'pull_request':[],'commit':[] }\n",
    "for quarter in quarter_durations:\n",
    "    since = quarter[0]\n",
    "    until = quarter[1]\n",
    "    for change_type,frame in code.code_dataframe.items():\n",
    "        frame['created_date'] = frame['created_date'].apply(lambda x:x.replace(tzinfo=None))\n",
    "        frame = frame[(since<=frame['created_date']) & (frame['created_date']<=until)]\n",
    "                    ##got the items in the quarter duration \n",
    "        new_contributions_quarter = len(set(frame['author'].unique())-set(existing_authors[change_type]))\n",
    "        new_contributors[change_type].append(new_contributions_quarter)\n",
    "        activity[change_type].append(frame.shape[0])\n",
    "        existing_authors[change_type] = existing_authors[change_type] + frame['author'].unique().tolist()   "
   ]
  },
  {
   "cell_type": "markdown",
   "metadata": {},
   "source": [
    "## Quarter Number and Their Duration\n",
    "\n",
    "    Displaying the quarter number and its starting date and ending date"
   ]
  },
  {
   "cell_type": "code",
   "execution_count": 13,
   "metadata": {},
   "outputs": [],
   "source": [
    "first_quarter_year = quarter_durations[0][0].year"
   ]
  },
  {
   "cell_type": "code",
   "execution_count": 14,
   "metadata": {},
   "outputs": [
    {
     "name": "stdout",
     "output_type": "stream",
     "text": [
      "Quarter 1:  01 January 2017 to 31 March 2017\n",
      "Quarter 2:  01 April 2017 to 30 June 2017\n",
      "Quarter 3:  01 July 2017 to 30 September 2017\n",
      "Quarter 4:  01 October 2017 to 31 December 2017\n",
      "Quarter 5:  01 January 2018 to 31 March 2018\n",
      "Quarter 6:  01 April 2018 to 30 June 2018\n",
      "Quarter 7:  01 July 2018 to 30 September 2018\n",
      "Quarter 8:  01 October 2018 to 31 December 2018\n"
     ]
    }
   ],
   "source": [
    "for number,quarter in enumerate(quarter_durations):\n",
    "    print(\"Quarter \"+str(number + 1) + \": \",quarter[0].strftime('%d %B %Y'),\"to\",quarter[1].strftime('%d %B %Y'))"
   ]
  },
  {
   "cell_type": "markdown",
   "metadata": {},
   "source": [
    "## Activity List\n",
    "\n",
    "Shows the list that contains amount of commits, pull requests and issue per quarter in the given years"
   ]
  },
  {
   "cell_type": "code",
   "execution_count": 15,
   "metadata": {},
   "outputs": [
    {
     "name": "stdout",
     "output_type": "stream",
     "text": [
      "commit\n",
      "---------\n",
      "Year 2017 Quarter 1: 102\n",
      "Year 2017 Quarter 2: 93\n",
      "Year 2017 Quarter 3: 65\n",
      "Year 2017 Quarter 4: 107\n",
      "Year 2018 Quarter 1: 130\n",
      "Year 2018 Quarter 2: 115\n",
      "Year 2018 Quarter 3: 61\n",
      "Year 2018 Quarter 4: 58\n",
      "\n",
      "\n",
      "issue\n",
      "---------\n",
      "Year 2017 Quarter 1: 75\n",
      "Year 2017 Quarter 2: 104\n",
      "Year 2017 Quarter 3: 63\n",
      "Year 2017 Quarter 4: 90\n",
      "Year 2018 Quarter 1: 111\n",
      "Year 2018 Quarter 2: 128\n",
      "Year 2018 Quarter 3: 36\n",
      "Year 2018 Quarter 4: 29\n",
      "\n",
      "\n",
      "pull_request\n",
      "---------\n",
      "Year 2017 Quarter 1: 73\n",
      "Year 2017 Quarter 2: 76\n",
      "Year 2017 Quarter 3: 63\n",
      "Year 2017 Quarter 4: 98\n",
      "Year 2018 Quarter 1: 114\n",
      "Year 2018 Quarter 2: 120\n",
      "Year 2018 Quarter 3: 51\n",
      "Year 2018 Quarter 4: 63\n",
      "\n",
      "\n"
     ]
    }
   ],
   "source": [
    "for key,value in activity.items():\n",
    "    print(key)\n",
    "    print(\"---------\")\n",
    "    for i in range(len(value)):\n",
    "        print(\"Year \"+str(first_quarter_year + int(i/4)) +\" Quarter \"+str(i%4 + 1)+\": \"+str(value[i]))\n",
    "    print(\"\\n\")"
   ]
  },
  {
   "cell_type": "markdown",
   "metadata": {},
   "source": [
    "## New Authors \n",
    "\n",
    "Shows the list that contains number of new contributors that has contributed in form commits, pull requests and issue per quarter in the given years"
   ]
  },
  {
   "cell_type": "code",
   "execution_count": 16,
   "metadata": {},
   "outputs": [
    {
     "name": "stdout",
     "output_type": "stream",
     "text": [
      "commit\n",
      "---------\n",
      "Year 2017 Quarter 1: 10\n",
      "Year 2017 Quarter 2: 5\n",
      "Year 2017 Quarter 3: 6\n",
      "Year 2017 Quarter 4: 4\n",
      "Year 2018 Quarter 1: 12\n",
      "Year 2018 Quarter 2: 7\n",
      "Year 2018 Quarter 3: 1\n",
      "Year 2018 Quarter 4: 1\n",
      "\n",
      "\n",
      "issue\n",
      "---------\n",
      "Year 2017 Quarter 1: 13\n",
      "Year 2017 Quarter 2: 12\n",
      "Year 2017 Quarter 3: 6\n",
      "Year 2017 Quarter 4: 5\n",
      "Year 2018 Quarter 1: 9\n",
      "Year 2018 Quarter 2: 2\n",
      "Year 2018 Quarter 3: 6\n",
      "Year 2018 Quarter 4: 3\n",
      "\n",
      "\n",
      "pull_request\n",
      "---------\n",
      "Year 2017 Quarter 1: 10\n",
      "Year 2017 Quarter 2: 5\n",
      "Year 2017 Quarter 3: 7\n",
      "Year 2017 Quarter 4: 2\n",
      "Year 2018 Quarter 1: 14\n",
      "Year 2018 Quarter 2: 6\n",
      "Year 2018 Quarter 3: 0\n",
      "Year 2018 Quarter 4: 1\n",
      "\n",
      "\n"
     ]
    }
   ],
   "source": [
    "for key,value in new_contributors.items():\n",
    "    print(key)\n",
    "    print(\"---------\")\n",
    "    for i in range(len(value)):\n",
    "        print(\"Year \"+str(first_quarter_year + int(i/4)) +\" Quarter \"+str(i%4 + 1)+\": \"+str(value[i]))\n",
    "    print(\"\\n\")"
   ]
  },
  {
   "cell_type": "markdown",
   "metadata": {},
   "source": [
    "## Writing CSV\n",
    "\n",
    "#### Creating a dataframe_csv than using pandas function to directly convert it into csv file <br>\n",
    "fields = ['Quarter','Since','Until','Commits','PRs','Issues','New PR Submitters','New Issue Submitters','New Commiters']"
   ]
  },
  {
   "cell_type": "code",
   "execution_count": 17,
   "metadata": {},
   "outputs": [],
   "source": [
    "dataframe_csv = pd.DataFrame()\n",
    "fields = ['Quarter','Since','Until','Commits','PRs','Issues','New PR Submitters','New Issue Submitters','New Commiters']\n",
    "dataframe_csv['Quarter'] = [\"Quarter \" + str(x) for x in range(len(quarter_durations))]\n",
    "dataframe_csv['Since'] = [quarter_durations[x][0].strftime('%d %B %Y') for x in range(len(quarter_durations))]\n",
    "dataframe_csv['Until'] = [quarter_durations[x][1].strftime('%d %B %Y') for x in range(len(quarter_durations))]\n",
    "dataframe_csv['Commits'] = activity['commit']\n",
    "dataframe_csv['PRs'] = activity['pull_request']\n",
    "dataframe_csv['Issues'] = activity['issue']\n",
    "dataframe_csv['New PR Submitters'] = new_contributors['pull_request']\n",
    "dataframe_csv['New Issue Submitters'] = new_contributors['issue']\n",
    "dataframe_csv['New Commiters'] = new_contributors['commit']\n",
    "\n",
    "dataframe_csv.to_csv('microtask2-quarterwise-pandas.csv',index=None)"
   ]
  },
  {
   "cell_type": "code",
   "execution_count": 18,
   "metadata": {},
   "outputs": [
    {
     "data": {
      "text/html": [
       "<div>\n",
       "<style scoped>\n",
       "    .dataframe tbody tr th:only-of-type {\n",
       "        vertical-align: middle;\n",
       "    }\n",
       "\n",
       "    .dataframe tbody tr th {\n",
       "        vertical-align: top;\n",
       "    }\n",
       "\n",
       "    .dataframe thead th {\n",
       "        text-align: right;\n",
       "    }\n",
       "</style>\n",
       "<table border=\"1\" class=\"dataframe\">\n",
       "  <thead>\n",
       "    <tr style=\"text-align: right;\">\n",
       "      <th></th>\n",
       "      <th>Quarter</th>\n",
       "      <th>Since</th>\n",
       "      <th>Until</th>\n",
       "      <th>Commits</th>\n",
       "      <th>PRs</th>\n",
       "      <th>Issues</th>\n",
       "      <th>New PR Submitters</th>\n",
       "      <th>New Issue Submitters</th>\n",
       "      <th>New Commiters</th>\n",
       "    </tr>\n",
       "  </thead>\n",
       "  <tbody>\n",
       "    <tr>\n",
       "      <th>0</th>\n",
       "      <td>Quarter 0</td>\n",
       "      <td>01 January 2017</td>\n",
       "      <td>31 March 2017</td>\n",
       "      <td>102</td>\n",
       "      <td>73</td>\n",
       "      <td>75</td>\n",
       "      <td>10</td>\n",
       "      <td>13</td>\n",
       "      <td>10</td>\n",
       "    </tr>\n",
       "    <tr>\n",
       "      <th>1</th>\n",
       "      <td>Quarter 1</td>\n",
       "      <td>01 April 2017</td>\n",
       "      <td>30 June 2017</td>\n",
       "      <td>93</td>\n",
       "      <td>76</td>\n",
       "      <td>104</td>\n",
       "      <td>5</td>\n",
       "      <td>12</td>\n",
       "      <td>5</td>\n",
       "    </tr>\n",
       "    <tr>\n",
       "      <th>2</th>\n",
       "      <td>Quarter 2</td>\n",
       "      <td>01 July 2017</td>\n",
       "      <td>30 September 2017</td>\n",
       "      <td>65</td>\n",
       "      <td>63</td>\n",
       "      <td>63</td>\n",
       "      <td>7</td>\n",
       "      <td>6</td>\n",
       "      <td>6</td>\n",
       "    </tr>\n",
       "    <tr>\n",
       "      <th>3</th>\n",
       "      <td>Quarter 3</td>\n",
       "      <td>01 October 2017</td>\n",
       "      <td>31 December 2017</td>\n",
       "      <td>107</td>\n",
       "      <td>98</td>\n",
       "      <td>90</td>\n",
       "      <td>2</td>\n",
       "      <td>5</td>\n",
       "      <td>4</td>\n",
       "    </tr>\n",
       "    <tr>\n",
       "      <th>4</th>\n",
       "      <td>Quarter 4</td>\n",
       "      <td>01 January 2018</td>\n",
       "      <td>31 March 2018</td>\n",
       "      <td>130</td>\n",
       "      <td>114</td>\n",
       "      <td>111</td>\n",
       "      <td>14</td>\n",
       "      <td>9</td>\n",
       "      <td>12</td>\n",
       "    </tr>\n",
       "    <tr>\n",
       "      <th>5</th>\n",
       "      <td>Quarter 5</td>\n",
       "      <td>01 April 2018</td>\n",
       "      <td>30 June 2018</td>\n",
       "      <td>115</td>\n",
       "      <td>120</td>\n",
       "      <td>128</td>\n",
       "      <td>6</td>\n",
       "      <td>2</td>\n",
       "      <td>7</td>\n",
       "    </tr>\n",
       "    <tr>\n",
       "      <th>6</th>\n",
       "      <td>Quarter 6</td>\n",
       "      <td>01 July 2018</td>\n",
       "      <td>30 September 2018</td>\n",
       "      <td>61</td>\n",
       "      <td>51</td>\n",
       "      <td>36</td>\n",
       "      <td>0</td>\n",
       "      <td>6</td>\n",
       "      <td>1</td>\n",
       "    </tr>\n",
       "    <tr>\n",
       "      <th>7</th>\n",
       "      <td>Quarter 7</td>\n",
       "      <td>01 October 2018</td>\n",
       "      <td>31 December 2018</td>\n",
       "      <td>58</td>\n",
       "      <td>63</td>\n",
       "      <td>29</td>\n",
       "      <td>1</td>\n",
       "      <td>3</td>\n",
       "      <td>1</td>\n",
       "    </tr>\n",
       "  </tbody>\n",
       "</table>\n",
       "</div>"
      ],
      "text/plain": [
       "     Quarter            Since              Until  Commits  PRs  Issues  \\\n",
       "0  Quarter 0  01 January 2017      31 March 2017      102   73      75   \n",
       "1  Quarter 1    01 April 2017       30 June 2017       93   76     104   \n",
       "2  Quarter 2     01 July 2017  30 September 2017       65   63      63   \n",
       "3  Quarter 3  01 October 2017   31 December 2017      107   98      90   \n",
       "4  Quarter 4  01 January 2018      31 March 2018      130  114     111   \n",
       "5  Quarter 5    01 April 2018       30 June 2018      115  120     128   \n",
       "6  Quarter 6     01 July 2018  30 September 2018       61   51      36   \n",
       "7  Quarter 7  01 October 2018   31 December 2018       58   63      29   \n",
       "\n",
       "   New PR Submitters  New Issue Submitters  New Commiters  \n",
       "0                 10                    13             10  \n",
       "1                  5                    12              5  \n",
       "2                  7                     6              6  \n",
       "3                  2                     5              4  \n",
       "4                 14                     9             12  \n",
       "5                  6                     2              7  \n",
       "6                  0                     6              1  \n",
       "7                  1                     3              1  "
      ]
     },
     "execution_count": 18,
     "metadata": {},
     "output_type": "execute_result"
    }
   ],
   "source": [
    "pd.read_csv('microtask2-quarterwise-pandas.csv')"
   ]
  },
  {
   "cell_type": "code",
   "execution_count": null,
   "metadata": {},
   "outputs": [],
   "source": []
  }
 ],
 "metadata": {
  "kernelspec": {
   "display_name": "Python 3",
   "language": "python",
   "name": "python3"
  },
  "language_info": {
   "codemirror_mode": {
    "name": "ipython",
    "version": 3
   },
   "file_extension": ".py",
   "mimetype": "text/x-python",
   "name": "python",
   "nbconvert_exporter": "python",
   "pygments_lexer": "ipython3",
   "version": "3.5.2"
  }
 },
 "nbformat": 4,
 "nbformat_minor": 2
}
