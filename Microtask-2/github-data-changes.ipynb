{
 "cells": [
  {
   "cell_type": "markdown",
   "metadata": {},
   "source": [
    "# Microtask 2"
   ]
  },
  {
   "cell_type": "markdown",
   "metadata": {},
   "source": [
    "## Aim\n",
    "\n",
    "Produce a notebook showing (and producing) a list with the activity per quarter: number of new committers, submitters of issues, and submitters of pull/merge requests, number of items (commits, issues, pull/merge requests), number of repositories with new items (all of this per quarter) as a table and as a CSV file. Using Pandas for this"
   ]
  },
  {
   "cell_type": "markdown",
   "metadata": {},
   "source": [
    "### Retrieving Data from OmegaUp\n",
    "\n",
    "From the command line run Perceval on the github repositories to analyze, to produce a file with JSON documents for all its issues (the list obtained contains the pull request also), one per line (git-commits.json).\n",
    "\n",
    "\n",
    "Syntax for using Perceval for Github\n",
    "`perceval github owner repository [--sleep-for-rate] [-t XXXXX]`\n",
    "\n",
    "\n",
    "Date of Retrieval: 1st March 2019\n",
    "##### Example:\n",
    "\n",
    "`$ perceval github --json-line -category pull_request omegaup omegaup --sleep-for-rate -t a247a6b7d506736da6d653cddc060a96bfbd9cb3 > data_source.json`\n",
    "\n",
    "`$ perceval github --json-line -category issue omegaup omegaup --sleep-for-rate -t a247a6b7d506736da6d653cddc060a96bfbd9cb3 >> data_source.json`\n",
    "\n",
    "Gets the information about Pull Request and Issues from Github\n",
    "\n",
    "###### Current Problem With Perceval    \n",
    "    The Existing Problem with Perceval is that when running the above command with category issue it also \n",
    "    fetches the pull request because the github api returns the pull request under issues. For Ex \n",
    "   ##### https://api.github.com/repos/omegaup/omegaup/issues/2378\n",
    "    \n",
    "    This is a pull request but in url you can see it is returned as issue\n",
    "   \n",
    "    So we have to remove the duplicates (done in __init__() function)\n",
    "    \n",
    "    \n",
    "\n",
    "`$ perceval git --json-line https://github.com/omegaup/omegaup >> data_source.json`\n",
    "\n",
    "    Gets the information about Commits from Github\n",
    "\n",
    "----------------------------------------------------------------------------------------\n",
    "--sleep-for-rate To avoid having perceval exiting when the rate limit is exceeded\n",
    "\n",
    "-t is token for Github API"
   ]
  },
  {
   "cell_type": "code",
   "execution_count": 87,
   "metadata": {},
   "outputs": [],
   "source": [
    "import json\n",
    "import datetime\n",
    "import re\n",
    "from dateutil import parser\n",
    "import pandas as pd\n",
    "\n",
    "import warnings ## to ignore warnings that come in importing pandas\n",
    "warnings.filterwarnings(\"ignore\", message=\"numpy.dtype size changed\")"
   ]
  },
  {
   "cell_type": "markdown",
   "metadata": {},
   "source": [
    "## Summarize Function\n",
    "\n",
    "#### @arguments \n",
    "\n",
    "<b>line</b>: item to be summarized<br>\n",
    "<b>type</b>: type of item(commit,issue,pull_request)\n",
    "\n",
    "summary{\n",
    "    repo,<br>\n",
    "    hash(in case of commit) or uuid(in case of PR or Issue),<br>\n",
    "    author,<br>\n",
    "    author_date,<br>\n",
    "    ....<br>\n",
    "}"
   ]
  },
  {
   "cell_type": "code",
   "execution_count": 88,
   "metadata": {},
   "outputs": [],
   "source": [
    "def summarize(line,type):\n",
    "    repo = line['origin']\n",
    "    cdata = line['data']\n",
    "    if(type=='commit'):    \n",
    "        summary = {\n",
    "                'repo': repo,\n",
    "                'hash': cdata['commit'],\n",
    "                'author': cdata['Author'],\n",
    "                'author_date': datetime.datetime.strptime(cdata['AuthorDate'],\n",
    "                                                          \"%a %b %d %H:%M:%S %Y %z\"),\n",
    "                'commit': cdata['Commit'],\n",
    "                'created_date': datetime.datetime.strptime(cdata['CommitDate'],\n",
    "                                                          \"%a %b %d %H:%M:%S %Y %z\"),\n",
    "                'files_no': len(cdata['files']),\n",
    "        }\n",
    "        actions = 0\n",
    "        for file in cdata['files']:\n",
    "            if 'action' in file:\n",
    "                actions += 1\n",
    "        summary['files_action'] = actions\n",
    "        if 'Merge' in cdata:\n",
    "            summary['merge'] = True\n",
    "        else:\n",
    "            summary['merge'] = False\n",
    "    elif(type=='issue'):\n",
    "        summary = {\n",
    "                'repo': repo,\n",
    "                'uuid': line['uuid'],\n",
    "                'author': cdata['user']['login'],\n",
    "                'created_date': datetime.datetime.strptime(cdata['created_at'],\n",
    "                                            \"%Y-%m-%dT%H:%M:%SZ\"),\n",
    "                'closed_date':datetime.datetime.strptime(cdata['closed_at'],\n",
    "                                            \"%Y-%m-%dT%H:%M:%SZ\") if cdata['closed_at'] else None, \n",
    "                'comments': cdata['comments'],\n",
    "                'labels': cdata['labels'],\n",
    "                'url': cdata['html_url'],\n",
    "                'state':cdata['state']\n",
    "        }\n",
    "    elif(type=='pull_request'):\n",
    "        summary = {\n",
    "                'repo': repo,\n",
    "                'uuid': line['uuid'],\n",
    "                'author': cdata['user']['login'],\n",
    "                'created_date': datetime.datetime.strptime(cdata['created_at'],\"%Y-%m-%dT%H:%M:%SZ\"),\n",
    "                'closed_date': datetime.datetime.strptime(cdata['closed_at'],\"%Y-%m-%dT%H:%M:%SZ\")\n",
    "                                            if cdata['closed_at'] else None,\n",
    "                'merged_date': datetime.datetime.strptime(cdata['merged_at'],\"%Y-%m-%dT%H:%M:%SZ\")\n",
    "                                        if cdata['merged_at'] else None,\n",
    "                'comments': cdata['comments'],\n",
    "                'commits': cdata['commits'],\n",
    "                'additions': cdata['additions'],\n",
    "                'deletions': cdata['deletions'],\n",
    "                'changed_files':cdata['changed_files'],\n",
    "                'url': cdata['html_url'],\n",
    "                'state':cdata['state']\n",
    "        }\n",
    "    \n",
    "    return summary"
   ]
  },
  {
   "cell_type": "markdown",
   "metadata": {},
   "source": [
    "## Class Code_Changes\n",
    "\n",
    "Takes path to the JSON file as input parameter"
   ]
  },
  {
   "cell_type": "code",
   "execution_count": 89,
   "metadata": {},
   "outputs": [],
   "source": [
    "class Code_Changes:\n",
    "    \"\"\"\"Class for Code_Changes for Git repositories.\n",
    "    \n",
    "    Objects are instantiated by specifying a file with the\n",
    "    commits obtained by Perceval from a set of repositories.\n",
    "    \n",
    "    Contains individual list for Issues, Pull Requests and Commits\n",
    "        \n",
    "    :param path: Path to file with one Perceval JSON document per line\n",
    "    \"\"\"\n",
    "    \n",
    "    def __init__(self, path):\n",
    "        \n",
    "        self.changes = {'issue':[],'commit':[],'pull_request':[]}\n",
    "        with open(path) as data_file:\n",
    "            for data in data_file:\n",
    "                line = json.loads(data)\n",
    "                if(line['category'] ==  'commit'):\n",
    "                    self.changes['commit'].append(summarize(line,'commit'))\n",
    "                else:\n",
    "                    if (line['category'] == 'pull_request'):\n",
    "                        self.changes['pull_request'].append(summarize(line,'pull_request'))\n",
    "                    elif ('pull_request' not in line['data']) and (line['category'] == 'issue'):\n",
    "                        self.changes['issue'].append(summarize(line,'issue'))\n",
    "        self.code_dataframe = {\n",
    "            'commit':pd.DataFrame.from_dict(self.changes['commit']),\n",
    "            'pull_request':pd.DataFrame.from_dict(self.changes['pull_request']),\n",
    "            'issue':pd.DataFrame.from_dict(self.changes['issue'])\n",
    "        }\n",
    "    "
   ]
  },
  {
   "cell_type": "markdown",
   "metadata": {},
   "source": [
    "#### Functions Available\n",
    "- total_count() : returns the total number of issues till date\n",
    "- count(): returns number of issues created in Period Of Time\n",
    "    ###### Parameters\n",
    "    - Since\n",
    "    - Until\n",
    "            "
   ]
  },
  {
   "cell_type": "markdown",
   "metadata": {},
   "source": [
    "## Quarter Definition"
   ]
  },
  {
   "cell_type": "code",
   "execution_count": 90,
   "metadata": {},
   "outputs": [],
   "source": [
    "quarters = {} #define a quarter dictonary with key a quarter#no and value is a list with since and until (contains month and date)\n",
    "quarters['quarter1'] = ({'month':1,'day':1},{'month':3,'day':31})  #January 01 – March 31\n",
    "quarters['quarter2'] = ({'month':4,'day':1},{'month':6,'day':30})  #April 01 – June 30\n",
    "quarters['quarter3'] = ({'month':7,'day':1},{'month':9,'day':30})  #July 01 – September 30\n",
    "quarters['quarter4'] = ({'month':10,'day':1},{'month':12,'day':31})  #October 01 – December 31\n",
    "quarters_keys = sorted(quarters.keys(), key=lambda x:x.lower()) ## dictonary is not formed in sorted order \n",
    "                                                           ##or in the order in which it has been instantiated"
   ]
  },
  {
   "cell_type": "markdown",
   "metadata": {},
   "source": [
    "## Quarter Function\n",
    "\n",
    "### @arguments - since (year)  , until (year)  \n",
    "Divides the given duration into quarters"
   ]
  },
  {
   "cell_type": "code",
   "execution_count": 91,
   "metadata": {},
   "outputs": [],
   "source": [
    "def quarterize(since,until):\n",
    "    quarter_duration = []\n",
    "    for year in range(since,until+1):\n",
    "        for key in quarters_keys:\n",
    "            value = quarters[key]\n",
    "            to_append = [datetime.datetime(year,value[0]['month'],value[0]['day']),datetime.datetime(year,value[1]['month'],value[1]['day'])]\n",
    "#             print(to_append)\n",
    "            quarter_duration.append(to_append)\n",
    "    return quarter_duration"
   ]
  },
  {
   "cell_type": "markdown",
   "metadata": {},
   "source": [
    "## Example of the implementation"
   ]
  },
  {
   "cell_type": "code",
   "execution_count": 92,
   "metadata": {},
   "outputs": [],
   "source": [
    "code = Code_Changes('data_source.json')"
   ]
  },
  {
   "cell_type": "code",
   "execution_count": 93,
   "metadata": {},
   "outputs": [
    {
     "name": "stdout",
     "output_type": "stream",
     "text": [
      "Total Number Of Commits: 4224\n",
      "Total Number Of Pull Requests: 923\n",
      "Total Number Of Issues: 1484\n"
     ]
    }
   ],
   "source": [
    "print(\"Total Number Of Commits:\",len(code.changes['commit']))\n",
    "print(\"Total Number Of Pull Requests:\",len(code.changes['pull_request']))\n",
    "print(\"Total Number Of Issues:\",len(code.changes['issue']))"
   ]
  },
  {
   "cell_type": "markdown",
   "metadata": {},
   "source": [
    "## First Activity in The Repository"
   ]
  },
  {
   "cell_type": "code",
   "execution_count": 94,
   "metadata": {},
   "outputs": [
    {
     "name": "stdout",
     "output_type": "stream",
     "text": [
      "Year of first activity:  2010\n"
     ]
    }
   ],
   "source": [
    "code.changes['commit'].sort(key = lambda x:x['created_date'].replace(tzinfo=None))  ##sorting the commits with date \n",
    "first_commit = code.changes['commit'][0]\n",
    "first_commit_year = first_commit['created_date'].year\n",
    "\n",
    "code.changes['pull_request'].sort(key = lambda x:x['created_date'].replace(tzinfo=None))  ##sorting the pull requests with date \n",
    "first_commit = code.changes['commit'][0]\n",
    "first_pull_request_year = first_commit['created_date'].year\n",
    "\n",
    "code.changes['issue'].sort(key = lambda x:x['created_date'].replace(tzinfo=None))  ##sorting the issues with date \n",
    "first_commit = code.changes['commit'][0]\n",
    "first_issue_year = first_commit['created_date'].year\n",
    "\n",
    "first_activity_year = min(first_commit_year,first_issue_year,first_pull_request_year)\n",
    "current_year = 2019\n",
    "print(\"Year of first activity: \",first_activity_year)"
   ]
  },
  {
   "cell_type": "markdown",
   "metadata": {},
   "source": [
    "## Activity QuarterWise\n",
    "\n",
    "Number of Commits, PRs, Issues QuarterWise"
   ]
  },
  {
   "cell_type": "code",
   "execution_count": 95,
   "metadata": {},
   "outputs": [],
   "source": [
    "quarter_durations = quarterize(2017,2018) ## get the quarter duration between the years passed as arguments"
   ]
  },
  {
   "cell_type": "code",
   "execution_count": 115,
   "metadata": {},
   "outputs": [],
   "source": [
    "activity = {'issue':[],'pull_request':[],'commit':[] }\n",
    "new_contributors = {'issue':[],'pull_request':[],'commit':[] }\n",
    "existing_authors = {'issue':[],'pull_request':[],'commit':[] }\n",
    "for quarter in quarter_durations:\n",
    "    since = quarter[0]\n",
    "    until = quarter[1]\n",
    "    for change_type,frame in code.code_dataframe.items():\n",
    "        frame['created_date'] = frame['created_date'].apply(lambda x:x.replace(tzinfo=None))\n",
    "        frame = frame[(since<=frame['created_date']) & (frame['created_date']<=until)]\n",
    "                    ##got the items in the quarter duration \n",
    "        new_contributions_quarter = len(set(frame['author'].unique())-set(existing_authors[change_type]))\n",
    "        new_contributors[change_type].append(new_contributions_quarter)\n",
    "        activity[change_type].append(frame.shape[0])\n",
    "        existing_authors[change_type] = existing_authors[change_type] + frame['author'].unique().tolist()   "
   ]
  },
  {
   "cell_type": "markdown",
   "metadata": {},
   "source": [
    "## Quarter Number and Their Duration"
   ]
  },
  {
   "cell_type": "code",
   "execution_count": 116,
   "metadata": {},
   "outputs": [
    {
     "name": "stdout",
     "output_type": "stream",
     "text": [
      "Quarter 1:  01 January 2017 to 31 March 2017\n",
      "Quarter 2:  01 April 2017 to 30 June 2017\n",
      "Quarter 3:  01 July 2017 to 30 September 2017\n",
      "Quarter 4:  01 October 2017 to 31 December 2017\n",
      "Quarter 5:  01 January 2018 to 31 March 2018\n",
      "Quarter 6:  01 April 2018 to 30 June 2018\n",
      "Quarter 7:  01 July 2018 to 30 September 2018\n",
      "Quarter 8:  01 October 2018 to 31 December 2018\n"
     ]
    }
   ],
   "source": [
    "for number,quarter in enumerate(quarter_durations):\n",
    "    print(\"Quarter \"+str(number + 1) + \": \",quarter[0].strftime('%d %B %Y'),\"to\",quarter[1].strftime('%d %B %Y'))"
   ]
  },
  {
   "cell_type": "markdown",
   "metadata": {},
   "source": [
    "## Activity List\n",
    "\n",
    "Shows the list that contains amount of commits, pull requests and issue per quarter in the given years"
   ]
  },
  {
   "cell_type": "code",
   "execution_count": 113,
   "metadata": {},
   "outputs": [
    {
     "name": "stdout",
     "output_type": "stream",
     "text": [
      "issue\n",
      "---------\n",
      "Quarter 1: 75\n",
      "Quarter 2: 104\n",
      "Quarter 3: 63\n",
      "Quarter 4: 90\n",
      "Quarter 5: 111\n",
      "Quarter 6: 128\n",
      "Quarter 7: 36\n",
      "Quarter 8: 29\n",
      "commit\n",
      "---------\n",
      "Quarter 1: 102\n",
      "Quarter 2: 93\n",
      "Quarter 3: 65\n",
      "Quarter 4: 107\n",
      "Quarter 5: 130\n",
      "Quarter 6: 115\n",
      "Quarter 7: 61\n",
      "Quarter 8: 58\n",
      "pull_request\n",
      "---------\n",
      "Quarter 1: 73\n",
      "Quarter 2: 76\n",
      "Quarter 3: 63\n",
      "Quarter 4: 98\n",
      "Quarter 5: 114\n",
      "Quarter 6: 120\n",
      "Quarter 7: 51\n",
      "Quarter 8: 63\n"
     ]
    }
   ],
   "source": [
    "for key,value in activity.items():\n",
    "    print(key)\n",
    "    print(\"---------\")\n",
    "    for i in range(len(value)):\n",
    "        print(\"Quarter \"+str(i+1)+\": \"+str(value[i]))"
   ]
  },
  {
   "cell_type": "markdown",
   "metadata": {},
   "source": [
    "## New Authors \n",
    "\n",
    "Shows the list that contains number of new contributors that has contributed in form commits, pull requests and issue per quarter in the given years"
   ]
  },
  {
   "cell_type": "code",
   "execution_count": 114,
   "metadata": {},
   "outputs": [
    {
     "name": "stdout",
     "output_type": "stream",
     "text": [
      "issue\n",
      "---------\n",
      "Quarter 1: 13\n",
      "Quarter 2: 12\n",
      "Quarter 3: 6\n",
      "Quarter 4: 5\n",
      "Quarter 5: 9\n",
      "Quarter 6: 2\n",
      "Quarter 7: 6\n",
      "Quarter 8: 3\n",
      "commit\n",
      "---------\n",
      "Quarter 1: 10\n",
      "Quarter 2: 5\n",
      "Quarter 3: 6\n",
      "Quarter 4: 4\n",
      "Quarter 5: 12\n",
      "Quarter 6: 7\n",
      "Quarter 7: 1\n",
      "Quarter 8: 1\n",
      "pull_request\n",
      "---------\n",
      "Quarter 1: 10\n",
      "Quarter 2: 5\n",
      "Quarter 3: 7\n",
      "Quarter 4: 2\n",
      "Quarter 5: 14\n",
      "Quarter 6: 6\n",
      "Quarter 7: 0\n",
      "Quarter 8: 1\n"
     ]
    }
   ],
   "source": [
    "for key,value in new_contributors.items():\n",
    "    print(key)\n",
    "    print(\"---------\")\n",
    "    for i in range(len(value)):\n",
    "        print(\"Quarter \"+str(i+1)+\": \"+str(value[i]))"
   ]
  },
  {
   "cell_type": "markdown",
   "metadata": {},
   "source": [
    "## Writing CSV\n",
    "fields = ['Quarter','Since','Until','Commits','PRs','Issues','New PR Submitters','New Issue Submitters','New Commiters']"
   ]
  },
  {
   "cell_type": "code",
   "execution_count": 121,
   "metadata": {
    "scrolled": true
   },
   "outputs": [
    {
     "data": {
      "text/plain": [
       "[[datetime.datetime(2017, 1, 1, 0, 0), datetime.datetime(2017, 3, 31, 0, 0)],\n",
       " [datetime.datetime(2017, 4, 1, 0, 0), datetime.datetime(2017, 6, 30, 0, 0)],\n",
       " [datetime.datetime(2017, 7, 1, 0, 0), datetime.datetime(2017, 9, 30, 0, 0)],\n",
       " [datetime.datetime(2017, 10, 1, 0, 0), datetime.datetime(2017, 12, 31, 0, 0)],\n",
       " [datetime.datetime(2018, 1, 1, 0, 0), datetime.datetime(2018, 3, 31, 0, 0)],\n",
       " [datetime.datetime(2018, 4, 1, 0, 0), datetime.datetime(2018, 6, 30, 0, 0)],\n",
       " [datetime.datetime(2018, 7, 1, 0, 0), datetime.datetime(2018, 9, 30, 0, 0)],\n",
       " [datetime.datetime(2018, 10, 1, 0, 0), datetime.datetime(2018, 12, 31, 0, 0)]]"
      ]
     },
     "execution_count": 121,
     "metadata": {},
     "output_type": "execute_result"
    }
   ],
   "source": [
    "quarter_durations"
   ]
  },
  {
   "cell_type": "code",
   "execution_count": 139,
   "metadata": {},
   "outputs": [],
   "source": [
    "dataframe_csv = pd.DataFrame()\n",
    "fields = ['Quarter','Since','Until','Commits','PRs','Issues','New PR Submitters','New Issue Submitters','New Commiters']\n",
    "dataframe_csv['Quarter'] = [\"Quarter \" + str(x) for x in range(len(quarter_durations))]\n",
    "dataframe_csv['Since'] = [quarter_durations[x][0].strftime('%d %B %Y') for x in range(len(quarter_durations))]\n",
    "dataframe_csv['Until'] = [quarter_durations[x][1].strftime('%d %B %Y') for x in range(len(quarter_durations))]\n",
    "dataframe_csv['Commits'] = activity['commit']\n",
    "dataframe_csv['PRs'] = activity['pull_request']\n",
    "dataframe_csv['Issues'] = activity['issue']\n",
    "dataframe_csv['New PR Submitters'] = new_contributors['pull_request']\n",
    "dataframe_csv['New Issue Submitters'] = new_contributors['issue']\n",
    "dataframe_csv['New Commiters'] = new_contributors['commit']\n",
    "\n",
    "dataframe_csv.to_csv('microtask2-quarterwise-pandas.csv',index=None)"
   ]
  },
  {
   "cell_type": "code",
   "execution_count": 140,
   "metadata": {},
   "outputs": [
    {
     "data": {
      "text/html": [
       "<div>\n",
       "<style scoped>\n",
       "    .dataframe tbody tr th:only-of-type {\n",
       "        vertical-align: middle;\n",
       "    }\n",
       "\n",
       "    .dataframe tbody tr th {\n",
       "        vertical-align: top;\n",
       "    }\n",
       "\n",
       "    .dataframe thead th {\n",
       "        text-align: right;\n",
       "    }\n",
       "</style>\n",
       "<table border=\"1\" class=\"dataframe\">\n",
       "  <thead>\n",
       "    <tr style=\"text-align: right;\">\n",
       "      <th></th>\n",
       "      <th>Quarter</th>\n",
       "      <th>Since</th>\n",
       "      <th>Until</th>\n",
       "      <th>Commits</th>\n",
       "      <th>PRs</th>\n",
       "      <th>Issues</th>\n",
       "      <th>New PR Submitters</th>\n",
       "      <th>New Issue Submitters</th>\n",
       "      <th>New Commiters</th>\n",
       "    </tr>\n",
       "  </thead>\n",
       "  <tbody>\n",
       "    <tr>\n",
       "      <th>0</th>\n",
       "      <td>Quarter 0</td>\n",
       "      <td>01 January 2017</td>\n",
       "      <td>31 March 2017</td>\n",
       "      <td>102</td>\n",
       "      <td>73</td>\n",
       "      <td>75</td>\n",
       "      <td>10</td>\n",
       "      <td>13</td>\n",
       "      <td>10</td>\n",
       "    </tr>\n",
       "    <tr>\n",
       "      <th>1</th>\n",
       "      <td>Quarter 1</td>\n",
       "      <td>01 April 2017</td>\n",
       "      <td>30 June 2017</td>\n",
       "      <td>93</td>\n",
       "      <td>76</td>\n",
       "      <td>104</td>\n",
       "      <td>5</td>\n",
       "      <td>12</td>\n",
       "      <td>5</td>\n",
       "    </tr>\n",
       "    <tr>\n",
       "      <th>2</th>\n",
       "      <td>Quarter 2</td>\n",
       "      <td>01 July 2017</td>\n",
       "      <td>30 September 2017</td>\n",
       "      <td>65</td>\n",
       "      <td>63</td>\n",
       "      <td>63</td>\n",
       "      <td>7</td>\n",
       "      <td>6</td>\n",
       "      <td>6</td>\n",
       "    </tr>\n",
       "    <tr>\n",
       "      <th>3</th>\n",
       "      <td>Quarter 3</td>\n",
       "      <td>01 October 2017</td>\n",
       "      <td>31 December 2017</td>\n",
       "      <td>107</td>\n",
       "      <td>98</td>\n",
       "      <td>90</td>\n",
       "      <td>2</td>\n",
       "      <td>5</td>\n",
       "      <td>4</td>\n",
       "    </tr>\n",
       "    <tr>\n",
       "      <th>4</th>\n",
       "      <td>Quarter 4</td>\n",
       "      <td>01 January 2018</td>\n",
       "      <td>31 March 2018</td>\n",
       "      <td>130</td>\n",
       "      <td>114</td>\n",
       "      <td>111</td>\n",
       "      <td>14</td>\n",
       "      <td>9</td>\n",
       "      <td>12</td>\n",
       "    </tr>\n",
       "    <tr>\n",
       "      <th>5</th>\n",
       "      <td>Quarter 5</td>\n",
       "      <td>01 April 2018</td>\n",
       "      <td>30 June 2018</td>\n",
       "      <td>115</td>\n",
       "      <td>120</td>\n",
       "      <td>128</td>\n",
       "      <td>6</td>\n",
       "      <td>2</td>\n",
       "      <td>7</td>\n",
       "    </tr>\n",
       "    <tr>\n",
       "      <th>6</th>\n",
       "      <td>Quarter 6</td>\n",
       "      <td>01 July 2018</td>\n",
       "      <td>30 September 2018</td>\n",
       "      <td>61</td>\n",
       "      <td>51</td>\n",
       "      <td>36</td>\n",
       "      <td>0</td>\n",
       "      <td>6</td>\n",
       "      <td>1</td>\n",
       "    </tr>\n",
       "    <tr>\n",
       "      <th>7</th>\n",
       "      <td>Quarter 7</td>\n",
       "      <td>01 October 2018</td>\n",
       "      <td>31 December 2018</td>\n",
       "      <td>58</td>\n",
       "      <td>63</td>\n",
       "      <td>29</td>\n",
       "      <td>1</td>\n",
       "      <td>3</td>\n",
       "      <td>1</td>\n",
       "    </tr>\n",
       "  </tbody>\n",
       "</table>\n",
       "</div>"
      ],
      "text/plain": [
       "     Quarter            Since              Until  Commits  PRs  Issues  \\\n",
       "0  Quarter 0  01 January 2017      31 March 2017      102   73      75   \n",
       "1  Quarter 1    01 April 2017       30 June 2017       93   76     104   \n",
       "2  Quarter 2     01 July 2017  30 September 2017       65   63      63   \n",
       "3  Quarter 3  01 October 2017   31 December 2017      107   98      90   \n",
       "4  Quarter 4  01 January 2018      31 March 2018      130  114     111   \n",
       "5  Quarter 5    01 April 2018       30 June 2018      115  120     128   \n",
       "6  Quarter 6     01 July 2018  30 September 2018       61   51      36   \n",
       "7  Quarter 7  01 October 2018   31 December 2018       58   63      29   \n",
       "\n",
       "   New PR Submitters  New Issue Submitters  New Commiters  \n",
       "0                 10                    13             10  \n",
       "1                  5                    12              5  \n",
       "2                  7                     6              6  \n",
       "3                  2                     5              4  \n",
       "4                 14                     9             12  \n",
       "5                  6                     2              7  \n",
       "6                  0                     6              1  \n",
       "7                  1                     3              1  "
      ]
     },
     "execution_count": 140,
     "metadata": {},
     "output_type": "execute_result"
    }
   ],
   "source": [
    "pd.read_csv('microtask2-quarterwise-pandas.csv')"
   ]
  },
  {
   "cell_type": "code",
   "execution_count": null,
   "metadata": {},
   "outputs": [],
   "source": []
  }
 ],
 "metadata": {
  "kernelspec": {
   "display_name": "Python 3",
   "language": "python",
   "name": "python3"
  },
  "language_info": {
   "codemirror_mode": {
    "name": "ipython",
    "version": 3
   },
   "file_extension": ".py",
   "mimetype": "text/x-python",
   "name": "python",
   "nbconvert_exporter": "python",
   "pygments_lexer": "ipython3",
   "version": "3.5.2"
  }
 },
 "nbformat": 4,
 "nbformat_minor": 2
}
