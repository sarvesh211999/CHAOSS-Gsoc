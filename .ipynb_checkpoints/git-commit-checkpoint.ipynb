{
 "cells": [
  {
   "cell_type": "markdown",
   "metadata": {},
   "source": [
    "### Retrieving Data from OmegaUp\n",
    "\n",
    "From the command line run Perceval on the git repositories to analyze, to produce a file with JSON documents for all its commits, one per line (git-commits.json).\n",
    "\n",
    "##### Example:\n",
    "`$ perceval git --json-line https://github.com/omegaup/omegaup > git-commits.json `"
   ]
  },
  {
   "cell_type": "code",
   "execution_count": 39,
   "metadata": {},
   "outputs": [],
   "source": [
    "import json\n",
    "import datetime\n",
    "from dateutil import parser"
   ]
  },
  {
   "cell_type": "markdown",
   "metadata": {},
   "source": [
    "### Class Code_Changes\n",
    "\n",
    "Takes path to the JSON file as input parameter"
   ]
  },
  {
   "cell_type": "code",
   "execution_count": 71,
   "metadata": {},
   "outputs": [],
   "source": [
    "class Code_Changes:\n",
    "    \"\"\"Class for Code_Changes for Git repositories.\n",
    "    \n",
    "    Objects are instantiated by specifying a file with the\n",
    "    commits obtained by Perceval from a set of repositories.\n",
    "        \n",
    "    :param path: Path to file with one Perceval JSON document per line\n",
    "    \"\"\"\n",
    "    \n",
    "    def __init__(self, path):\n",
    "        \n",
    "        self.commits = []\n",
    "        with open(path) as commits_file:\n",
    "            for line in commits_file:\n",
    "                commit = json.loads(line)\n",
    "                self.commits.append(commit)\n",
    "    \n",
    "    def total_count(self):\n",
    "        \"\"\"\n",
    "        Count Total Number of Commits\n",
    "        \"\"\"\n",
    "        return len(self.commits)\n",
    "    \n",
    "    def count(self, since = None, until = None):\n",
    "        \"\"\"\n",
    "        :param since: Period Start\n",
    "        :param until: Period End\n",
    "        \"\"\"\n",
    "        date = \"AuthorDate\"\n",
    "        commits = self.commits\n",
    "        count = 0\n",
    "        if not since and until:\n",
    "            until = parser.parse(until)  #convert string date time format into date time type, easy for comparission\n",
    "        if not until and since:\n",
    "            since = parser.parse(since)  #convert string date time format into date time type, easy for comparission\n",
    "        if until and since:\n",
    "            until = parser.parse(until)  #convert string date time format into date time type, easy for comparission\n",
    "            since = parser.parse(since)  #convert string date time format into date time type, easy for comparission\n",
    "        \n",
    "        for i in commits:\n",
    "            author_date = parser.parse(i['data'][date])\n",
    "            author_date = author_date.replace(tzinfo = None) #removing tzoffset from date-time object making compatible for comaprision\n",
    "            if since and until:\n",
    "                if(author_date >= since and author_date < until):\n",
    "                    count += 1 \n",
    "            if since and not until:\n",
    "                if(author_date >= since):\n",
    "                    count += 1 \n",
    "            if not since and until:\n",
    "                if(author_date >= since):\n",
    "                    count += 1\n",
    "            if not since and not until:\n",
    "                count = self.total_count()\n",
    "        \n",
    "        return count\n",
    "        \n",
    "        "
   ]
  },
  {
   "cell_type": "markdown",
   "metadata": {},
   "source": [
    "#### Functions Available\n",
    "- total_count() : returns the total number of count till date\n",
    "- count(): returns number of commits in Period Of Time\n",
    "    ###### Parameters\n",
    "    - Since\n",
    "    - Until\n",
    "            "
   ]
  },
  {
   "cell_type": "markdown",
   "metadata": {},
   "source": [
    "## Example of the implementation"
   ]
  },
  {
   "cell_type": "code",
   "execution_count": 72,
   "metadata": {},
   "outputs": [
    {
     "name": "stdout",
     "output_type": "stream",
     "text": [
      "Code changes total count: 4206\n",
      "Code changes count all period: 4206\n",
      "Code changes count from 2018-01-01 to 2018-07-01: 251\n"
     ]
    }
   ],
   "source": [
    "changes = Code_Changes('git-commits.json')\n",
    "print(\"Code changes total count:\", changes.total_count())\n",
    "print(\"Code changes count all period:\", changes.count())\n",
    "print(\"Code changes count from 2018-01-01 to 2018-07-01:\",\n",
    "      changes.count(since=\"2018-01-01\", until=\"2018-07-01\"))"
   ]
  },
  {
   "cell_type": "markdown",
   "metadata": {},
   "source": [
    "## Creating Dictionary of Commits"
   ]
  },
  {
   "cell_type": "code",
   "execution_count": 88,
   "metadata": {},
   "outputs": [
    {
     "name": "stdout",
     "output_type": "stream",
     "text": [
      "Total number of commits: 4206\n"
     ]
    }
   ],
   "source": [
    "commits = {}\n",
    "with open('git-commits.json') as commits_file:\n",
    "    for line in commits_file:\n",
    "        commit = json.loads(line)\n",
    "        commits[commit['data']['commit']] = commit\n",
    "print(\"Total number of commits:\", len(commits))"
   ]
  },
  {
   "cell_type": "markdown",
   "metadata": {},
   "source": [
    "## Non Empty Commits\n",
    "\n",
    "Empty commits are those that touch no file (for example, most merge commits). We can find them by looking at the list of files involved in the commit, and checking that all of them have no 'action' field ('action' is for identifying the action performed on the file, such as modification or creation):"
   ]
  },
  {
   "cell_type": "code",
   "execution_count": 87,
   "metadata": {},
   "outputs": [
    {
     "name": "stdout",
     "output_type": "stream",
     "text": [
      "Code Commits (non-empty): 3932\n"
     ]
    }
   ],
   "source": [
    "non_empty_commits = 0\n",
    "for commit in commits.values():\n",
    "    for file in commit['data']['files']:\n",
    "        if 'action' in file:\n",
    "            non_empty_commits += 1\n",
    "            break\n",
    "                \n",
    "print(\"Code Commits (non-empty):\", non_empty_commits)"
   ]
  },
  {
   "cell_type": "markdown",
   "metadata": {},
   "source": [
    "## Only non-merge commits\n",
    "Now, instead of filtering out empty commits, let's filter those commits that are merge commits. Those involve no real coding, but merging commits in different branches (for example, after a pull request)."
   ]
  },
  {
   "cell_type": "code",
   "execution_count": 82,
   "metadata": {},
   "outputs": [
    {
     "name": "stdout",
     "output_type": "stream",
     "text": [
      "Code Commits (non-merge): 3856\n"
     ]
    }
   ],
   "source": [
    "non_merge_commits = 0\n",
    "for commit in commits.values():\n",
    "    if 'Merge' not in commit['data']:\n",
    "        non_merge_commits += 1\n",
    "                \n",
    "print(\"Code Commits (non-merge):\", non_merge_commits)"
   ]
  },
  {
   "cell_type": "markdown",
   "metadata": {},
   "source": [
    "## Only Commits in Master\n",
    "\n",
    "In data field of every line of JSON file"
   ]
  },
  {
   "cell_type": "code",
   "execution_count": 93,
   "metadata": {},
   "outputs": [
    {
     "name": "stdout",
     "output_type": "stream",
     "text": [
      "Code Commits (master branch): 4201\n"
     ]
    }
   ],
   "source": [
    "todo = set()\n",
    "for id, commit in commits.items():\n",
    "    if 'HEAD -> refs/heads/master' in commit['data']['refs']:\n",
    "        todo.add(id)\n",
    "\n",
    "master = set()\n",
    "\n",
    "while len(todo) > 0:\n",
    "    current = todo.pop()\n",
    "    master.add(current)\n",
    "    for parent in commits[current]['data']['parents']:\n",
    "        if parent not in master:\n",
    "            todo.add(parent)\n",
    "    \n",
    "code_commits = len(master)\n",
    "    \n",
    "print(\"Code Commits (master branch):\", code_commits)"
   ]
  },
  {
   "cell_type": "markdown",
   "metadata": {},
   "source": [
    "## Only Non Empty Commits in Master Branch\n",
    "\n",
    "This find the number of non empty commits in the Master Branch. It uses the result recorded previously in master which contains all the commits in master branch"
   ]
  },
  {
   "cell_type": "code",
   "execution_count": 94,
   "metadata": {},
   "outputs": [
    {
     "name": "stdout",
     "output_type": "stream",
     "text": [
      "Code Commits (non-empty in master branch): 3932\n"
     ]
    }
   ],
   "source": [
    "code_commits = 0\n",
    "for commit_id in master:\n",
    "        commit = commits[commit_id]\n",
    "        for file in commit['data']['files']:\n",
    "            if 'action' in file:\n",
    "                code_commits += 1\n",
    "                break\n",
    "\n",
    "print(\"Code Commits (non-empty in master branch):\", code_commits)"
   ]
  },
  {
   "cell_type": "code",
   "execution_count": null,
   "metadata": {},
   "outputs": [],
   "source": []
  }
 ],
 "metadata": {
  "kernelspec": {
   "display_name": "Python 3",
   "language": "python",
   "name": "python3"
  },
  "language_info": {
   "codemirror_mode": {
    "name": "ipython",
    "version": 3
   },
   "file_extension": ".py",
   "mimetype": "text/x-python",
   "name": "python",
   "nbconvert_exporter": "python",
   "pygments_lexer": "ipython3",
   "version": "3.5.2"
  }
 },
 "nbformat": 4,
 "nbformat_minor": 2
}
