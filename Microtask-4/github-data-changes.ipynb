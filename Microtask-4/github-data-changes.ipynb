{
 "cells": [
  {
   "cell_type": "markdown",
   "metadata": {},
   "source": [
    "# Microtask 4"
   ]
  },
  {
   "cell_type": "markdown",
   "metadata": {},
   "source": [
    "## Aim\n",
    "\n",
    "Produce a listing of repositories, as a table and as CSV file, with the number of commits authored, issues opened, and pull/merge requests opened, during the last three months, ordered by the total number (commits plus issues plus pull requests). Use plain Python3 (eg, no Pandas) for this."
   ]
  },
  {
   "cell_type": "markdown",
   "metadata": {},
   "source": [
    "### Retrieving Data from Different Repositories\n",
    "\n",
    "From the command line run Perceval on the github repositories to analyze, to produce a file with JSON documents for all its issues (the list obtained contains the pull request also), one per line (data-source.json).\n",
    "\n",
    "\n",
    "Syntax for using Perceval for Github\n",
    "`perceval github owner repository [--sleep-for-rate] [-t XXXXX]`\n",
    "\n",
    "\n",
    "Date of Retrieval: 25st March 2019\n",
    "##### Example:\n",
    "\n",
    "`perceval github --from-date \"2018-12-01\" omegaup omegaup --category issue --sleep-for-rate -t a247a6b7d506736da6d653cddc060a96bfbd9cb3 >> data_source.json`\n",
    "\n",
    "`perceval github --from-date \"2018-12-01\" omegaup omegaup --category pull_request --sleep-for-rate -t a247a6b7d506736da6d653cddc060a96bfbd9cb3 >> data_source.json`      \n",
    "\n",
    "`perceval git --json-line https://github.com/omegaup/omegaup >> data_source.json`\n",
    "\n",
    "\n",
    "`perceval github --from-date \"2018-12-01\" Submitty Submitty --category issue --sleep-for-rate -t a247a6b7d506736da6d653cddc060a96bfbd9cb3 >> data_source.json`\n",
    "\n",
    "`perceval github --from-date \"2018-12-01\" Submitty Submitty --category pull_request --sleep-for-rate -t a247a6b7d506736da6d653cddc060a96bfbd9cb3 >> data_source.json`  \n",
    "\n",
    "`perceval git --json-line https://github.com/Submitty/Submitty >> data_source.json`\n",
    "\n",
    "`perceval github --from-date \"2018-12-01\" streetmix streetmix --category issue --sleep-for-rate -t a247a6b7d506736da6d653cddc060a96bfbd9cb3 >> data_source.json`      \n",
    "\n",
    "`perceval github --from-date \"2018-12-01\" streetmix streetmix --category pull_request --sleep-for-rate -t a247a6b7d506736da6d653cddc060a96bfbd9cb3 >> data_source.json`      \n",
    "\n",
    "`perceval git --json-line https://github.com/streetmix/streetmix >> data_source.json`\n",
    "\n",
    "`perceval github --from-date \"2018-12-01\" fossasia susi_server --category issue --sleep-for-rate -t a247a6b7d506736da6d653cddc060a96bfbd9cb3 >> data_source.json`      \n",
    "\n",
    "`perceval github --from-date \"2018-12-01\" fossasia susi_server --category pull_request --sleep-for-rate -t a247a6b7d506736da6d653cddc060a96bfbd9cb3 >> data_source.json`     \n",
    "\n",
    "`perceval git --json-line https://github.com/fossasia/susi_server >> data_source.json`\n",
    "\n",
    "----------------------------------------------------------------------------------------------------\n",
    "--from-date fetch items updated since this date\n",
    "\n",
    "--sleep-for-rate To avoid having perceval exiting when the rate limit is exceeded\n",
    "\n",
    "-t is token for Github API"
   ]
  },
  {
   "cell_type": "code",
   "execution_count": 1,
   "metadata": {},
   "outputs": [
    {
     "name": "stderr",
     "output_type": "stream",
     "text": [
      "/usr/lib/python3.5/importlib/_bootstrap.py:222: RuntimeWarning: numpy.dtype size changed, may indicate binary incompatibility. Expected 96, got 88\n",
      "  return f(*args, **kwds)\n",
      "/usr/lib/python3.5/importlib/_bootstrap.py:222: RuntimeWarning: numpy.dtype size changed, may indicate binary incompatibility. Expected 96, got 88\n",
      "  return f(*args, **kwds)\n"
     ]
    }
   ],
   "source": [
    "import json\n",
    "import datetime\n",
    "import dateutil.relativedelta\n",
    "import re\n",
    "from copy import deepcopy\n",
    "from dateutil import parser\n",
    "import pandas as pd\n",
    "\n",
    "import warnings ## to ignore warnings that come in importing pandas\n",
    "warnings.filterwarnings(\"ignore\", message=\"numpy.dtype size changed\")"
   ]
  },
  {
   "cell_type": "markdown",
   "metadata": {},
   "source": [
    "## Summarize Function\n",
    "\n",
    "#### @arguments \n",
    "\n",
    "<b>line</b>: item to be summarized<br>\n",
    "<b>type</b>: type of item(commit,issue,pull_request)\n",
    "\n",
    "summary{\n",
    "    repo,<br>\n",
    "    hash(in case of commit) or uuid(in case of PR or Issue),<br>\n",
    "    author,<br>\n",
    "    author_date,<br>\n",
    "    ....<br>\n",
    "}"
   ]
  },
  {
   "cell_type": "code",
   "execution_count": 2,
   "metadata": {},
   "outputs": [],
   "source": [
    "def summarize(line,type):\n",
    "    repo = line['origin']\n",
    "    cdata = line['data']\n",
    "    if(type=='commit'):    \n",
    "        summary = {\n",
    "                'repo': repo,\n",
    "                'hash': cdata['commit'],\n",
    "                'author': cdata['Author'],\n",
    "                'author_date': datetime.datetime.strptime(cdata['AuthorDate'],\n",
    "                                                          \"%a %b %d %H:%M:%S %Y %z\"),\n",
    "                'commit': cdata['Commit'],\n",
    "                'created_date': datetime.datetime.strptime(cdata['CommitDate'],\n",
    "                                                          \"%a %b %d %H:%M:%S %Y %z\"),\n",
    "                'files_no': len(cdata['files']),\n",
    "        }\n",
    "        actions = 0\n",
    "        for file in cdata['files']:\n",
    "            if 'action' in file:\n",
    "                actions += 1\n",
    "        summary['files_action'] = actions\n",
    "        if 'Merge' in cdata:\n",
    "            summary['merge'] = True\n",
    "        else:\n",
    "            summary['merge'] = False\n",
    "    elif(type=='issue'):\n",
    "        summary = {\n",
    "                'repo': repo,\n",
    "                'uuid': line['uuid'],\n",
    "                'author': cdata['user']['login'],\n",
    "                'created_date': datetime.datetime.strptime(cdata['created_at'],\n",
    "                                            \"%Y-%m-%dT%H:%M:%SZ\"),\n",
    "                'closed_date':datetime.datetime.strptime(cdata['closed_at'],\n",
    "                                            \"%Y-%m-%dT%H:%M:%SZ\") if cdata['closed_at'] else None, \n",
    "                'comments': cdata['comments'],\n",
    "                'labels': cdata['labels'],\n",
    "                'url': cdata['html_url'],\n",
    "                'state':cdata['state']\n",
    "        }\n",
    "    elif(type=='pull_request'):\n",
    "        summary = {\n",
    "                'repo': repo,\n",
    "                'uuid': line['uuid'],\n",
    "                'author': cdata['user']['login'],\n",
    "                'created_date': datetime.datetime.strptime(cdata['created_at'],\"%Y-%m-%dT%H:%M:%SZ\"),\n",
    "                'closed_date': datetime.datetime.strptime(cdata['closed_at'],\"%Y-%m-%dT%H:%M:%SZ\")\n",
    "                                            if cdata['closed_at'] else None,\n",
    "                'merged_date': datetime.datetime.strptime(cdata['merged_at'],\"%Y-%m-%dT%H:%M:%SZ\")\n",
    "                                        if cdata['merged_at'] else None,\n",
    "                'comments': cdata['comments'],\n",
    "                'commits': cdata['commits'],\n",
    "                'additions': cdata['additions'],\n",
    "                'deletions': cdata['deletions'],\n",
    "                'changed_files':cdata['changed_files'],\n",
    "                'url': cdata['html_url'],\n",
    "                'state':cdata['state']\n",
    "        }\n",
    "    \n",
    "    return summary"
   ]
  },
  {
   "cell_type": "markdown",
   "metadata": {},
   "source": [
    "## Class Code_Changes\n",
    "\n",
    "Takes path to the JSON file as input parameter"
   ]
  },
  {
   "cell_type": "code",
   "execution_count": 3,
   "metadata": {},
   "outputs": [],
   "source": [
    "class Code_Changes:\n",
    "    \"\"\"\"Class for Code_Changes for Git repositories.\n",
    "    \n",
    "    Objects are instantiated by specifying a file with the\n",
    "    commits obtained by Perceval from a set of repositories.\n",
    "    \n",
    "    Contains individual list for Issues, Pull Requests and Commits\n",
    "        \n",
    "    :param path: Path to file with one Perceval JSON document per line\n",
    "    \"\"\"\n",
    "    \n",
    "    def __init__(self, path):\n",
    "        \n",
    "        self.changes = {'issue':[],'commit':[],'pull_request':[]}\n",
    "        with open(path) as data_file:\n",
    "            for data in data_file:\n",
    "                line = json.loads(data)\n",
    "                if(line['category'] ==  'commit'):\n",
    "                    self.changes['commit'].append(summarize(line,'commit'))\n",
    "                else:\n",
    "                    if (line['category'] == 'pull_request'):\n",
    "                        self.changes['pull_request'].append(summarize(line,'pull_request'))\n",
    "                    elif ('pull_request' not in line['data']) and (line['category'] == 'issue'):\n",
    "                        self.changes['issue'].append(summarize(line,'issue'))"
   ]
  },
  {
   "cell_type": "markdown",
   "metadata": {},
   "source": [
    "#### Functions Available\n",
    "- total_count() : returns the total number of issues till date\n",
    "- count(): returns number of issues created in Period Of Time\n",
    "    ###### Parameters\n",
    "    - Since\n",
    "    - Until\n",
    "            "
   ]
  },
  {
   "cell_type": "markdown",
   "metadata": {},
   "source": [
    "## Example of the implementation"
   ]
  },
  {
   "cell_type": "code",
   "execution_count": 4,
   "metadata": {},
   "outputs": [
    {
     "ename": "JSONDecodeError",
     "evalue": "Expecting property name enclosed in double quotes: line 2 column 1 (char 2)",
     "output_type": "error",
     "traceback": [
      "\u001b[0;31m---------------------------------------------------------------------------\u001b[0m",
      "\u001b[0;31mJSONDecodeError\u001b[0m                           Traceback (most recent call last)",
      "\u001b[0;32m<ipython-input-4-5aea1f1e05b0>\u001b[0m in \u001b[0;36m<module>\u001b[0;34m()\u001b[0m\n\u001b[0;32m----> 1\u001b[0;31m \u001b[0mcode\u001b[0m \u001b[0;34m=\u001b[0m \u001b[0mCode_Changes\u001b[0m\u001b[0;34m(\u001b[0m\u001b[0;34m'data_source.json'\u001b[0m\u001b[0;34m)\u001b[0m\u001b[0;34m\u001b[0m\u001b[0m\n\u001b[0m",
      "\u001b[0;32m<ipython-input-3-a7d803dc82db>\u001b[0m in \u001b[0;36m__init__\u001b[0;34m(self, path)\u001b[0m\n\u001b[1;32m     15\u001b[0m         \u001b[0;32mwith\u001b[0m \u001b[0mopen\u001b[0m\u001b[0;34m(\u001b[0m\u001b[0mpath\u001b[0m\u001b[0;34m)\u001b[0m \u001b[0;32mas\u001b[0m \u001b[0mdata_file\u001b[0m\u001b[0;34m:\u001b[0m\u001b[0;34m\u001b[0m\u001b[0m\n\u001b[1;32m     16\u001b[0m             \u001b[0;32mfor\u001b[0m \u001b[0mdata\u001b[0m \u001b[0;32min\u001b[0m \u001b[0mdata_file\u001b[0m\u001b[0;34m:\u001b[0m\u001b[0;34m\u001b[0m\u001b[0m\n\u001b[0;32m---> 17\u001b[0;31m                 \u001b[0mline\u001b[0m \u001b[0;34m=\u001b[0m \u001b[0mjson\u001b[0m\u001b[0;34m.\u001b[0m\u001b[0mloads\u001b[0m\u001b[0;34m(\u001b[0m\u001b[0mdata\u001b[0m\u001b[0;34m)\u001b[0m\u001b[0;34m\u001b[0m\u001b[0m\n\u001b[0m\u001b[1;32m     18\u001b[0m                 \u001b[0;32mif\u001b[0m\u001b[0;34m(\u001b[0m\u001b[0mline\u001b[0m\u001b[0;34m[\u001b[0m\u001b[0;34m'category'\u001b[0m\u001b[0;34m]\u001b[0m \u001b[0;34m==\u001b[0m  \u001b[0;34m'commit'\u001b[0m\u001b[0;34m)\u001b[0m\u001b[0;34m:\u001b[0m\u001b[0;34m\u001b[0m\u001b[0m\n\u001b[1;32m     19\u001b[0m                     \u001b[0mself\u001b[0m\u001b[0;34m.\u001b[0m\u001b[0mchanges\u001b[0m\u001b[0;34m[\u001b[0m\u001b[0;34m'commit'\u001b[0m\u001b[0;34m]\u001b[0m\u001b[0;34m.\u001b[0m\u001b[0mappend\u001b[0m\u001b[0;34m(\u001b[0m\u001b[0msummarize\u001b[0m\u001b[0;34m(\u001b[0m\u001b[0mline\u001b[0m\u001b[0;34m,\u001b[0m\u001b[0;34m'commit'\u001b[0m\u001b[0;34m)\u001b[0m\u001b[0;34m)\u001b[0m\u001b[0;34m\u001b[0m\u001b[0m\n",
      "\u001b[0;32m/usr/lib/python3.5/json/__init__.py\u001b[0m in \u001b[0;36mloads\u001b[0;34m(s, encoding, cls, object_hook, parse_float, parse_int, parse_constant, object_pairs_hook, **kw)\u001b[0m\n\u001b[1;32m    317\u001b[0m             \u001b[0mparse_int\u001b[0m \u001b[0;32mis\u001b[0m \u001b[0;32mNone\u001b[0m \u001b[0;32mand\u001b[0m \u001b[0mparse_float\u001b[0m \u001b[0;32mis\u001b[0m \u001b[0;32mNone\u001b[0m \u001b[0;32mand\u001b[0m\u001b[0;34m\u001b[0m\u001b[0m\n\u001b[1;32m    318\u001b[0m             parse_constant is None and object_pairs_hook is None and not kw):\n\u001b[0;32m--> 319\u001b[0;31m         \u001b[0;32mreturn\u001b[0m \u001b[0m_default_decoder\u001b[0m\u001b[0;34m.\u001b[0m\u001b[0mdecode\u001b[0m\u001b[0;34m(\u001b[0m\u001b[0ms\u001b[0m\u001b[0;34m)\u001b[0m\u001b[0;34m\u001b[0m\u001b[0m\n\u001b[0m\u001b[1;32m    320\u001b[0m     \u001b[0;32mif\u001b[0m \u001b[0mcls\u001b[0m \u001b[0;32mis\u001b[0m \u001b[0;32mNone\u001b[0m\u001b[0;34m:\u001b[0m\u001b[0;34m\u001b[0m\u001b[0m\n\u001b[1;32m    321\u001b[0m         \u001b[0mcls\u001b[0m \u001b[0;34m=\u001b[0m \u001b[0mJSONDecoder\u001b[0m\u001b[0;34m\u001b[0m\u001b[0m\n",
      "\u001b[0;32m/usr/lib/python3.5/json/decoder.py\u001b[0m in \u001b[0;36mdecode\u001b[0;34m(self, s, _w)\u001b[0m\n\u001b[1;32m    337\u001b[0m \u001b[0;34m\u001b[0m\u001b[0m\n\u001b[1;32m    338\u001b[0m         \"\"\"\n\u001b[0;32m--> 339\u001b[0;31m         \u001b[0mobj\u001b[0m\u001b[0;34m,\u001b[0m \u001b[0mend\u001b[0m \u001b[0;34m=\u001b[0m \u001b[0mself\u001b[0m\u001b[0;34m.\u001b[0m\u001b[0mraw_decode\u001b[0m\u001b[0;34m(\u001b[0m\u001b[0ms\u001b[0m\u001b[0;34m,\u001b[0m \u001b[0midx\u001b[0m\u001b[0;34m=\u001b[0m\u001b[0m_w\u001b[0m\u001b[0;34m(\u001b[0m\u001b[0ms\u001b[0m\u001b[0;34m,\u001b[0m \u001b[0;36m0\u001b[0m\u001b[0;34m)\u001b[0m\u001b[0;34m.\u001b[0m\u001b[0mend\u001b[0m\u001b[0;34m(\u001b[0m\u001b[0;34m)\u001b[0m\u001b[0;34m)\u001b[0m\u001b[0;34m\u001b[0m\u001b[0m\n\u001b[0m\u001b[1;32m    340\u001b[0m         \u001b[0mend\u001b[0m \u001b[0;34m=\u001b[0m \u001b[0m_w\u001b[0m\u001b[0;34m(\u001b[0m\u001b[0ms\u001b[0m\u001b[0;34m,\u001b[0m \u001b[0mend\u001b[0m\u001b[0;34m)\u001b[0m\u001b[0;34m.\u001b[0m\u001b[0mend\u001b[0m\u001b[0;34m(\u001b[0m\u001b[0;34m)\u001b[0m\u001b[0;34m\u001b[0m\u001b[0m\n\u001b[1;32m    341\u001b[0m         \u001b[0;32mif\u001b[0m \u001b[0mend\u001b[0m \u001b[0;34m!=\u001b[0m \u001b[0mlen\u001b[0m\u001b[0;34m(\u001b[0m\u001b[0ms\u001b[0m\u001b[0;34m)\u001b[0m\u001b[0;34m:\u001b[0m\u001b[0;34m\u001b[0m\u001b[0m\n",
      "\u001b[0;32m/usr/lib/python3.5/json/decoder.py\u001b[0m in \u001b[0;36mraw_decode\u001b[0;34m(self, s, idx)\u001b[0m\n\u001b[1;32m    353\u001b[0m         \"\"\"\n\u001b[1;32m    354\u001b[0m         \u001b[0;32mtry\u001b[0m\u001b[0;34m:\u001b[0m\u001b[0;34m\u001b[0m\u001b[0m\n\u001b[0;32m--> 355\u001b[0;31m             \u001b[0mobj\u001b[0m\u001b[0;34m,\u001b[0m \u001b[0mend\u001b[0m \u001b[0;34m=\u001b[0m \u001b[0mself\u001b[0m\u001b[0;34m.\u001b[0m\u001b[0mscan_once\u001b[0m\u001b[0;34m(\u001b[0m\u001b[0ms\u001b[0m\u001b[0;34m,\u001b[0m \u001b[0midx\u001b[0m\u001b[0;34m)\u001b[0m\u001b[0;34m\u001b[0m\u001b[0m\n\u001b[0m\u001b[1;32m    356\u001b[0m         \u001b[0;32mexcept\u001b[0m \u001b[0mStopIteration\u001b[0m \u001b[0;32mas\u001b[0m \u001b[0merr\u001b[0m\u001b[0;34m:\u001b[0m\u001b[0;34m\u001b[0m\u001b[0m\n\u001b[1;32m    357\u001b[0m             \u001b[0;32mraise\u001b[0m \u001b[0mJSONDecodeError\u001b[0m\u001b[0;34m(\u001b[0m\u001b[0;34m\"Expecting value\"\u001b[0m\u001b[0;34m,\u001b[0m \u001b[0ms\u001b[0m\u001b[0;34m,\u001b[0m \u001b[0merr\u001b[0m\u001b[0;34m.\u001b[0m\u001b[0mvalue\u001b[0m\u001b[0;34m)\u001b[0m \u001b[0;32mfrom\u001b[0m \u001b[0;32mNone\u001b[0m\u001b[0;34m\u001b[0m\u001b[0m\n",
      "\u001b[0;31mJSONDecodeError\u001b[0m: Expecting property name enclosed in double quotes: line 2 column 1 (char 2)"
     ]
    }
   ],
   "source": [
    "code = Code_Changes('data_source.json')"
   ]
  },
  {
   "cell_type": "markdown",
   "metadata": {},
   "source": [
    "## Analysing Data for Last Three Months\n",
    "\n",
    "Last three months (doesn't include current month) [Dec 2018, Jan 2019, Feb 2019]"
   ]
  },
  {
   "cell_type": "code",
   "execution_count": 157,
   "metadata": {},
   "outputs": [
    {
     "name": "stdout",
     "output_type": "stream",
     "text": [
      "Last third month first Date:  2018-12-01\n",
      "Last month first Date:  2019-03-01\n"
     ]
    }
   ],
   "source": [
    "today_date = datetime.datetime.now().date()\n",
    "last_third_month = today_date - dateutil.relativedelta.relativedelta(months=3)\n",
    "last_third_month_first_date = last_third_month.replace(day=1)\n",
    "current_month_first_date = today_date.replace(day=1)\n",
    "print(\"Last third month first Date: \",last_third_month_first_date)\n",
    "print(\"Last month first Date: \",current_month_first_date)"
   ]
  },
  {
   "cell_type": "markdown",
   "metadata": {},
   "source": [
    "We have to analyse data between the above dates"
   ]
  },
  {
   "cell_type": "code",
   "execution_count": 167,
   "metadata": {},
   "outputs": [],
   "source": [
    "since = last_third_month_first_date\n",
    "until = current_month_first_date\n",
    "\n",
    "analysis = {'issue':0,'commit':0,'pull_request':0}\n",
    "\n",
    "for change_type,items in code.changes.items():\n",
    "    if(change_type=='issue'):\n",
    "        for item in items:\n",
    "            if item['state']=='open':\n",
    "                if since<=item['created_date'].date()<=until:\n",
    "                    analysis[change_type] += 1\n",
    "    if(change_type=='commit'):\n",
    "        for item in items:\n",
    "                if since<=item['author_date'].date()<=until:\n",
    "                    analysis[change_type] += 1\n",
    "    if(change_type=='pull_request'):\n",
    "        for item in items:\n",
    "            if item['state']=='open':\n",
    "                if since<=item['created_date'].date()<=until:\n",
    "                    analysis[change_type] += 1\n",
    "            \n",
    "#     if(change_type=='commit'):\n",
    "#         frame['author_date'] = frame['author_date'].apply(lambda x:x.date())\n",
    "#         frame = frame[(since<=frame['author_date'])]\n",
    "#         frame = frame[(until>=frame['author_date'])]\n",
    "#         print(\"Commits authored in last three months: \",frame.shape[0])\n",
    "#     elif(change_type=='issue'):\n",
    "#         frame['created_date'] = frame['created_date'].apply(lambda x:x.date())\n",
    "#         frame = frame[(since<=frame['created_date']) & (frame['created_date']<=until)]\n",
    "#         frame = frame[frame['state']=='open']\n",
    "#         print(\"Issues Created in last three months: \",frame.shape[0])\n",
    "#     elif(change_type=='pull_request'):\n",
    "#         frame['created_date'] = frame['created_date'].apply(lambda x:x.date())\n",
    "#         frame = frame[(since<=frame['created_date']) & (frame['created_date']<=until)]\n",
    "#         frame = frame[frame['state']=='open']\n",
    "#         print(\"Pull Requests Opened in last three months: \",frame.shape[0])"
   ]
  },
  {
   "cell_type": "code",
   "execution_count": 170,
   "metadata": {},
   "outputs": [
    {
     "name": "stdout",
     "output_type": "stream",
     "text": [
      "Issues created in Last three months: 16\n",
      "Pull Request opened in Last three months: 2\n",
      "Commits Authored in Last three months: 74\n"
     ]
    }
   ],
   "source": [
    "print(\"Issues created in Last three months:\",analysis['issue'])\n",
    "print(\"Pull Request opened in Last three months:\",analysis['pull_request'])\n",
    "print(\"Commits Authored in Last three months:\",analysis['commit'])"
   ]
  },
  {
   "cell_type": "code",
   "execution_count": null,
   "metadata": {},
   "outputs": [],
   "source": []
  }
 ],
 "metadata": {
  "kernelspec": {
   "display_name": "Python 3",
   "language": "python",
   "name": "python3"
  },
  "language_info": {
   "codemirror_mode": {
    "name": "ipython",
    "version": 3
   },
   "file_extension": ".py",
   "mimetype": "text/x-python",
   "name": "python",
   "nbconvert_exporter": "python",
   "pygments_lexer": "ipython3",
   "version": "3.5.2"
  }
 },
 "nbformat": 4,
 "nbformat_minor": 2
}
