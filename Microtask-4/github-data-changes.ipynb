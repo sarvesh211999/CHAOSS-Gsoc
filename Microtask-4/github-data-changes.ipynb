{
 "cells": [
  {
   "cell_type": "markdown",
   "metadata": {},
   "source": [
    "# Microtask 4"
   ]
  },
  {
   "cell_type": "markdown",
   "metadata": {},
   "source": [
    "## Aim\n",
    "\n",
    "Produce a listing of repositories, as a table and as CSV file, with the number of commits authored, issues opened, and pull/merge requests opened, during the last three months, ordered by the total number (commits plus issues plus pull requests). Use plain Python3 (eg, no Pandas) for this."
   ]
  },
  {
   "cell_type": "markdown",
   "metadata": {},
   "source": [
    "### Retrieving Data from OmegaUp\n",
    "\n",
    "From the command line run Perceval on the github repositories to analyze, to produce a file with JSON documents for all its issues (the list obtained contains the pull request also), one per line (git-commits.json).\n",
    "\n",
    "\n",
    "Syntax for using Perceval for Github\n",
    "`perceval github owner repository [--sleep-for-rate] [-t XXXXX]`\n",
    "\n",
    "\n",
    "Date of Retrieval: 1st March 2019\n",
    "##### Example:\n",
    "\n",
    "`$ perceval github --json-line -category pull_request omegaup omegaup --sleep-for-rate -t a247a6b7d506736da6d653cddc060a96bfbd9cb3 > data_source.json`\n",
    "\n",
    "`$ perceval github --json-line -category issue omegaup omegaup --sleep-for-rate -t a247a6b7d506736da6d653cddc060a96bfbd9cb3 >> data_source.json`\n",
    "\n",
    "Gets the information about Pull Request and Issues from Github\n",
    "\n",
    "###### Current Problem With Perceval    \n",
    "    The Existing Problem with Perceval is that when running the above command with category issue it also \n",
    "    fetches the pull request because the github api returns the pull request under issues. For Ex \n",
    "   ##### https://api.github.com/repos/omegaup/omegaup/issues/2378\n",
    "    \n",
    "    This is a pull request but in url you can see it is returned as issue\n",
    "   \n",
    "    So we have to remove the duplicates (done in __init__() function)\n",
    "    \n",
    "    \n",
    "\n",
    "`$ perceval git --json-line https://github.com/omegaup/omegaup >> data_source.json`\n",
    "\n",
    "    Gets the information about Commits from Github\n",
    "\n",
    "----------------------------------------------------------------------------------------\n",
    "--sleep-for-rate To avoid having perceval exiting when the rate limit is exceeded\n",
    "\n",
    "-t is token for Github API"
   ]
  },
  {
   "cell_type": "code",
   "execution_count": 60,
   "metadata": {},
   "outputs": [],
   "source": [
    "import json\n",
    "import datetime\n",
    "import dateutil.relativedelta\n",
    "import re\n",
    "from copy import deepcopy\n",
    "from dateutil import parser\n",
    "import pandas as pd\n",
    "\n",
    "import warnings ## to ignore warnings that come in importing pandas\n",
    "warnings.filterwarnings(\"ignore\", message=\"numpy.dtype size changed\")"
   ]
  },
  {
   "cell_type": "markdown",
   "metadata": {},
   "source": [
    "## Summarize Function\n",
    "\n",
    "#### @arguments \n",
    "\n",
    "<b>line</b>: item to be summarized<br>\n",
    "<b>type</b>: type of item(commit,issue,pull_request)\n",
    "\n",
    "summary{\n",
    "    repo,<br>\n",
    "    hash(in case of commit) or uuid(in case of PR or Issue),<br>\n",
    "    author,<br>\n",
    "    author_date,<br>\n",
    "    ....<br>\n",
    "}"
   ]
  },
  {
   "cell_type": "code",
   "execution_count": 2,
   "metadata": {},
   "outputs": [],
   "source": [
    "def summarize(line,type):\n",
    "    repo = line['origin']\n",
    "    cdata = line['data']\n",
    "    if(type=='commit'):    \n",
    "        summary = {\n",
    "                'repo': repo,\n",
    "                'hash': cdata['commit'],\n",
    "                'author': cdata['Author'],\n",
    "                'author_date': datetime.datetime.strptime(cdata['AuthorDate'],\n",
    "                                                          \"%a %b %d %H:%M:%S %Y %z\"),\n",
    "                'commit': cdata['Commit'],\n",
    "                'created_date': datetime.datetime.strptime(cdata['CommitDate'],\n",
    "                                                          \"%a %b %d %H:%M:%S %Y %z\"),\n",
    "                'files_no': len(cdata['files']),\n",
    "        }\n",
    "        actions = 0\n",
    "        for file in cdata['files']:\n",
    "            if 'action' in file:\n",
    "                actions += 1\n",
    "        summary['files_action'] = actions\n",
    "        if 'Merge' in cdata:\n",
    "            summary['merge'] = True\n",
    "        else:\n",
    "            summary['merge'] = False\n",
    "    elif(type=='issue'):\n",
    "        summary = {\n",
    "                'repo': repo,\n",
    "                'uuid': line['uuid'],\n",
    "                'author': cdata['user']['login'],\n",
    "                'created_date': datetime.datetime.strptime(cdata['created_at'],\n",
    "                                            \"%Y-%m-%dT%H:%M:%SZ\"),\n",
    "                'closed_date':datetime.datetime.strptime(cdata['closed_at'],\n",
    "                                            \"%Y-%m-%dT%H:%M:%SZ\") if cdata['closed_at'] else None, \n",
    "                'comments': cdata['comments'],\n",
    "                'labels': cdata['labels'],\n",
    "                'url': cdata['html_url'],\n",
    "                'state':cdata['state']\n",
    "        }\n",
    "    elif(type=='pull_request'):\n",
    "        summary = {\n",
    "                'repo': repo,\n",
    "                'uuid': line['uuid'],\n",
    "                'author': cdata['user']['login'],\n",
    "                'created_date': datetime.datetime.strptime(cdata['created_at'],\"%Y-%m-%dT%H:%M:%SZ\"),\n",
    "                'closed_date': datetime.datetime.strptime(cdata['closed_at'],\"%Y-%m-%dT%H:%M:%SZ\")\n",
    "                                            if cdata['closed_at'] else None,\n",
    "                'merged_date': datetime.datetime.strptime(cdata['merged_at'],\"%Y-%m-%dT%H:%M:%SZ\")\n",
    "                                        if cdata['merged_at'] else None,\n",
    "                'comments': cdata['comments'],\n",
    "                'commits': cdata['commits'],\n",
    "                'additions': cdata['additions'],\n",
    "                'deletions': cdata['deletions'],\n",
    "                'changed_files':cdata['changed_files'],\n",
    "                'url': cdata['html_url'],\n",
    "                'state':cdata['state']\n",
    "        }\n",
    "    \n",
    "    return summary"
   ]
  },
  {
   "cell_type": "markdown",
   "metadata": {},
   "source": [
    "## Class Code_Changes\n",
    "\n",
    "Takes path to the JSON file as input parameter"
   ]
  },
  {
   "cell_type": "code",
   "execution_count": 24,
   "metadata": {},
   "outputs": [],
   "source": [
    "class Code_Changes:\n",
    "    \"\"\"\"Class for Code_Changes for Git repositories.\n",
    "    \n",
    "    Objects are instantiated by specifying a file with the\n",
    "    commits obtained by Perceval from a set of repositories.\n",
    "    \n",
    "    Contains individual list for Issues, Pull Requests and Commits\n",
    "        \n",
    "    :param path: Path to file with one Perceval JSON document per line\n",
    "    \"\"\"\n",
    "    \n",
    "    def __init__(self, path):\n",
    "        \n",
    "        self.changes = {'issue':[],'commit':[],'pull_request':[]}\n",
    "        with open(path) as data_file:\n",
    "            for data in data_file:\n",
    "                line = json.loads(data)\n",
    "                if(line['category'] ==  'commit'):\n",
    "                    self.changes['commit'].append(summarize(line,'commit'))\n",
    "                else:\n",
    "                    if (line['category'] == 'pull_request'):\n",
    "                        self.changes['pull_request'].append(summarize(line,'pull_request'))\n",
    "                    elif ('pull_request' not in line['data']) and (line['category'] == 'issue'):\n",
    "                        self.changes['issue'].append(summarize(line,'issue'))\n",
    "        self.code_dataframe = {\n",
    "            'commit':pd.DataFrame.from_dict(self.changes['commit']),\n",
    "            'pull_request':pd.DataFrame.from_dict(self.changes['pull_request']),\n",
    "            'issue':pd.DataFrame.from_dict(self.changes['issue'])\n",
    "        }\n",
    "    "
   ]
  },
  {
   "cell_type": "markdown",
   "metadata": {},
   "source": [
    "#### Functions Available\n",
    "- total_count() : returns the total number of issues till date\n",
    "- count(): returns number of issues created in Period Of Time\n",
    "    ###### Parameters\n",
    "    - Since\n",
    "    - Until\n",
    "            "
   ]
  },
  {
   "cell_type": "markdown",
   "metadata": {},
   "source": [
    "## Example of the implementation"
   ]
  },
  {
   "cell_type": "code",
   "execution_count": 106,
   "metadata": {},
   "outputs": [],
   "source": [
    "code = Code_Changes('data_source.json')"
   ]
  },
  {
   "cell_type": "markdown",
   "metadata": {},
   "source": [
    "## Analysing Data for Last Three Months\n",
    "\n",
    "Last three months (doesn't include current month) [Dec 2018, Jan 2019, Feb 2019]"
   ]
  },
  {
   "cell_type": "code",
   "execution_count": 115,
   "metadata": {},
   "outputs": [
    {
     "name": "stdout",
     "output_type": "stream",
     "text": [
      "Last third month first Date:  2018-12-01\n",
      "Last month first Date:  2019-03-01\n"
     ]
    }
   ],
   "source": [
    "today_date = datetime.datetime.now().date()\n",
    "last_third_month = today_date - dateutil.relativedelta.relativedelta(months=3)\n",
    "last_third_month_first_date = last_third_month.replace(day=1)\n",
    "current_month_first_date = today_date.replace(day=1)\n",
    "print(\"Last third month first Date: \",last_third_month_first_date)\n",
    "print(\"Last month first Date: \",current_month_first_date)"
   ]
  },
  {
   "cell_type": "markdown",
   "metadata": {},
   "source": [
    "We have to analyse data between the above dates"
   ]
  },
  {
   "cell_type": "code",
   "execution_count": 128,
   "metadata": {},
   "outputs": [
    {
     "name": "stdout",
     "output_type": "stream",
     "text": [
      "Issues Created in last three months:  16\n",
      "Pull Requests Opened in last three months:  2\n",
      "Commits authored in last three months:  74\n"
     ]
    }
   ],
   "source": [
    "frame = deepcopy(code.code_dataframe)\n",
    "since = last_third_month_first_date\n",
    "until = current_month_first_date\n",
    "\n",
    "for change_type,frame in frame.items():\n",
    "    if(change_type=='commit'):\n",
    "        frame['author_date'] = frame['author_date'].apply(lambda x:x.date())\n",
    "        frame = frame[(since<=frame['author_date'])]\n",
    "        frame = frame[(until>=frame['author_date'])]\n",
    "        print(\"Commits authored in last three months: \",frame.shape[0])\n",
    "    elif(change_type=='issue'):\n",
    "        frame['created_date'] = frame['created_date'].apply(lambda x:x.date())\n",
    "        frame = frame[(since<=frame['created_date']) & (frame['created_date']<=until)]\n",
    "        frame = frame[frame['state']=='open']\n",
    "        print(\"Issues Created in last three months: \",frame.shape[0])\n",
    "    elif(change_type=='pull_request'):\n",
    "        frame['created_date'] = frame['created_date'].apply(lambda x:x.date())\n",
    "        frame = frame[(since<=frame['created_date']) & (frame['created_date']<=until)]\n",
    "        frame = frame[frame['state']=='open']\n",
    "        print(\"Pull Requests Opened in last three months: \",frame.shape[0])"
   ]
  }
 ],
 "metadata": {
  "kernelspec": {
   "display_name": "Python 3",
   "language": "python",
   "name": "python3"
  },
  "language_info": {
   "codemirror_mode": {
    "name": "ipython",
    "version": 3
   },
   "file_extension": ".py",
   "mimetype": "text/x-python",
   "name": "python",
   "nbconvert_exporter": "python",
   "pygments_lexer": "ipython3",
   "version": "3.5.2"
  }
 },
 "nbformat": 4,
 "nbformat_minor": 2
}
