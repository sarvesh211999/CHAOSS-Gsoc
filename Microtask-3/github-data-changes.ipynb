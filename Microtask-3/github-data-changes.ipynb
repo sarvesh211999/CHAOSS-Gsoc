{
 "cells": [
  {
   "cell_type": "markdown",
   "metadata": {},
   "source": [
    "# Microtask 3"
   ]
  },
  {
   "cell_type": "markdown",
   "metadata": {},
   "source": [
    "## Aim\n",
    "\n",
    "Produce a notebook with charts showing the distribution of time-to-close for issues already closed, and opened during the last year, for each of the repositories analyzed, and for all of them together. Use Pandas for this, and the Python charting library of your choice (as long as it is a FOSS module)."
   ]
  },
  {
   "cell_type": "markdown",
   "metadata": {},
   "source": [
    "### Retrieving Data from OmegaUp\n",
    "\n",
    "From the command line run Perceval on the github repositories to analyze, to produce a file with JSON documents for all its issues (the list obtained contains the pull request also), one per line (git-commits.json).\n",
    "\n",
    "\n",
    "Syntax for using Perceval for Github\n",
    "`perceval github owner repository [--sleep-for-rate] [-t XXXXX]`\n",
    "\n",
    "\n",
    "Date of Retrieval: 1st March 2019\n",
    "##### Example:\n",
    "\n",
    "`$ perceval github --json-line -category pull_request omegaup omegaup --sleep-for-rate -t a247a6b7d506736da6d653cddc060a96bfbd9cb3 > data_source.json`\n",
    "\n",
    "`$ perceval github --json-line -category issue omegaup omegaup --sleep-for-rate -t a247a6b7d506736da6d653cddc060a96bfbd9cb3 >> data_source.json`\n",
    "\n",
    "Gets the information about Pull Request and Issues from Github\n",
    "\n",
    "###### Current Problem With Perceval    \n",
    "    The Existing Problem with Perceval is that when running the above command with category issue it also \n",
    "    fetches the pull request because the github api returns the pull request under issues. For Ex \n",
    "   ##### https://api.github.com/repos/omegaup/omegaup/issues/2378\n",
    "    \n",
    "    This is a pull request but in url you can see it is returned as issue\n",
    "   \n",
    "    So we have to remove the duplicates (done in __init__() function)\n",
    "    \n",
    "    \n",
    "\n",
    "`$ perceval git --json-line https://github.com/omegaup/omegaup >> data_source.json`\n",
    "\n",
    "    Gets the information about Commits from Github\n",
    "\n",
    "----------------------------------------------------------------------------------------\n",
    "--sleep-for-rate To avoid having perceval exiting when the rate limit is exceeded\n",
    "\n",
    "-t is token for Github API"
   ]
  },
  {
   "cell_type": "code",
   "execution_count": 2,
   "metadata": {},
   "outputs": [
    {
     "name": "stderr",
     "output_type": "stream",
     "text": [
      "/usr/lib/python3.5/importlib/_bootstrap.py:222: RuntimeWarning: numpy.dtype size changed, may indicate binary incompatibility. Expected 96, got 88\n",
      "  return f(*args, **kwds)\n",
      "/usr/lib/python3.5/importlib/_bootstrap.py:222: RuntimeWarning: numpy.dtype size changed, may indicate binary incompatibility. Expected 96, got 88\n",
      "  return f(*args, **kwds)\n"
     ]
    }
   ],
   "source": [
    "import json\n",
    "import datetime\n",
    "from dateutil import parser\n",
    "import pandas as pd\n",
    "\n",
    "import warnings ## to ignore warnings that come in importing pandas\n",
    "warnings.filterwarnings(\"ignore\", message=\"numpy.dtype size changed\")"
   ]
  },
  {
   "cell_type": "markdown",
   "metadata": {},
   "source": [
    "## Summarize Function\n",
    "\n",
    "#### @arguments \n",
    "\n",
    "<b>line</b>: item to be summarized<br>\n",
    "\n",
    "summary{\n",
    "    repo,<br>\n",
    "    hash,<br>\n",
    "    author,<br>\n",
    "    author_date,<br>\n",
    "    ....<br>\n",
    "}"
   ]
  },
  {
   "cell_type": "code",
   "execution_count": 3,
   "metadata": {},
   "outputs": [],
   "source": [
    "def summarize(issue):\n",
    "    repo = issue['origin']\n",
    "    cdata = issue['data']\n",
    "    summary = {\n",
    "            'repo': repo,\n",
    "            'uuid': issue['uuid'],\n",
    "            'author': cdata['user']['login'],\n",
    "            'created_date': datetime.datetime.strptime(cdata['created_at'],\n",
    "                                           \"%Y-%m-%dT%H:%M:%SZ\"),\n",
    "            'closed_date':datetime.datetime.strptime(cdata['closed_at'],\n",
    "                                         \"%Y-%m-%dT%H:%M:%SZ\") if cdata['closed_at'] else None, \n",
    "            'comments': cdata['comments'],\n",
    "            'labels': cdata['labels'],\n",
    "            'url': cdata['html_url'],\n",
    "            'state':cdata['state']\n",
    "    }\n",
    "    return summary"
   ]
  },
  {
   "cell_type": "markdown",
   "metadata": {},
   "source": [
    "## Class Code_Changes\n",
    "\n",
    "Class Code_Changes\n",
    "Takes path to the JSON file as input parameter and on initializing a dictionary is created. Dictionary has three keys each of which maps to a list\n",
    "\n",
    "- Commits : Contains list of summary of each commit\n",
    "- Issues : Contains list of summary of each issue\n",
    "- Pull Requests : Contains list of summary of each pull request\n",
    "\n",
    "#### self.code_dataframe[item] contains the Pandas Dataframe holding the information about individual items"
   ]
  },
  {
   "cell_type": "markdown",
   "metadata": {},
   "source": [
    "In this microtask only issue related analysis is to be done so in codeframe only issue key is there.<br>\n",
    "Same structure has been followed so to keep consistency between microtasks"
   ]
  },
  {
   "cell_type": "code",
   "execution_count": 4,
   "metadata": {},
   "outputs": [],
   "source": [
    "class Code_Changes:\n",
    "    \"\"\"\"Class for Code_Changes for Git repositories.\n",
    "    \n",
    "    Objects are instantiated by specifying a file with the\n",
    "    commits obtained by Perceval from a set of repositories.\n",
    "    \n",
    "    Contains list for Issues.\n",
    "        \n",
    "    :param path: Path to file with one Perceval JSON document per line\n",
    "    \"\"\"\n",
    "    \n",
    "    def __init__(self, path):\n",
    "        \n",
    "        self.changes = {'issue':[]}\n",
    "        with open(path) as data_file:\n",
    "            for data in data_file:\n",
    "                line = json.loads(data)\n",
    "                if ('pull_request' not in line['data']) and (line['category'] == 'issue'):\n",
    "                       self.changes['issue'].append(summarize(line))\n",
    "        self.code_dataframe = {\n",
    "            'issue':pd.DataFrame.from_dict(self.changes['issue'])\n",
    "        }"
   ]
  },
  {
   "cell_type": "markdown",
   "metadata": {},
   "source": [
    "## Example of the implementation"
   ]
  },
  {
   "cell_type": "code",
   "execution_count": 5,
   "metadata": {},
   "outputs": [],
   "source": [
    "code = Code_Changes('data_source.json')"
   ]
  },
  {
   "cell_type": "code",
   "execution_count": 6,
   "metadata": {},
   "outputs": [
    {
     "name": "stdout",
     "output_type": "stream",
     "text": [
      "Total Number Of Issues: 1484\n"
     ]
    }
   ],
   "source": [
    "print(\"Total Number Of Issues:\",len(code.changes['issue']))"
   ]
  },
  {
   "cell_type": "markdown",
   "metadata": {},
   "source": [
    "## First Issue in The Repository\n",
    "\n",
    "Finding when first issue was created in repository. <br>\n",
    "Using Pandas and Lambda function sorting the frame according to created_date"
   ]
  },
  {
   "cell_type": "code",
   "execution_count": 7,
   "metadata": {},
   "outputs": [
    {
     "name": "stdout",
     "output_type": "stream",
     "text": [
      "Year of first issue:  2011\n"
     ]
    }
   ],
   "source": [
    "code.changes['issue'].sort(key = lambda x:x['created_date'].replace(tzinfo=None))  ##sorting the issues with date \n",
    "first_commit = code.changes['issue'][0]\n",
    "first_issue_year = first_commit['created_date'].year\n",
    "\n",
    "print(\"Year of first issue: \",first_issue_year)"
   ]
  },
  {
   "cell_type": "markdown",
   "metadata": {},
   "source": [
    "## Number of Issues Closed and Opened Last Year\n",
    "\n",
    "Showing distrubution of issues opened and closed last year"
   ]
  },
  {
   "cell_type": "code",
   "execution_count": 8,
   "metadata": {},
   "outputs": [],
   "source": [
    "current_year = datetime.datetime.now().year\n",
    "since = datetime.datetime.now()\n",
    "frame = code.code_dataframe['issue']\n",
    "frame = frame[frame['created_date'].apply(lambda x:x.year) < current_year]\n",
    "frame = frame[frame['created_date'].apply(lambda x:x.year) >= current_year - 1]\n",
    "\n",
    "## frame contains the issues in the last year"
   ]
  },
  {
   "cell_type": "code",
   "execution_count": 9,
   "metadata": {},
   "outputs": [
    {
     "name": "stdout",
     "output_type": "stream",
     "text": [
      "Total Number of Issues in last year:  306\n",
      "Total Number of Closed Issues in last year:  201\n",
      "Total Number of Open Issues in last year:  105\n"
     ]
    }
   ],
   "source": [
    "total_issues = frame.shape[0]\n",
    "closed_issues = frame[frame['state'] == 'closed'].shape[0]\n",
    "open_issues = total_issues - closed_issues\n",
    "print(\"Total Number of Issues in last year: \",total_issues)\n",
    "print(\"Total Number of Closed Issues in last year: \",closed_issues)\n",
    "print(\"Total Number of Open Issues in last year: \",open_issues)"
   ]
  },
  {
   "cell_type": "markdown",
   "metadata": {},
   "source": [
    "## Number of Issues Open and Closed Per Month Last Year"
   ]
  },
  {
   "cell_type": "code",
   "execution_count": 15,
   "metadata": {},
   "outputs": [
    {
     "name": "stdout",
     "output_type": "stream",
     "text": [
      "['January', 'February', 'March', 'April', 'May', 'June', 'July', 'August', 'September', 'October', 'November', 'December']\n"
     ]
    }
   ],
   "source": [
    "frame['month'] = frame['created_date'].apply(lambda x:x.month)\n",
    "months = []\n",
    "for i in range(1,13):\n",
    "     months.append(datetime.date(2008, i, 1).strftime('%B'))\n",
    "## generate months for indexing\n",
    "print(months)"
   ]
  },
  {
   "cell_type": "code",
   "execution_count": 16,
   "metadata": {},
   "outputs": [],
   "source": [
    "closed = frame[frame['state'] == 'closed']\n",
    "closed = closed.groupby(['month']).count()\n",
    "closed = closed['state'].tolist()\n",
    "## closed contain number of issues closed per month \n",
    "open = frame[frame['state'] == 'open']\n",
    "open = open.groupby(['month']).count()\n",
    "open = open['state'].tolist()\n",
    "## open contain number of issues opened per month "
   ]
  },
  {
   "cell_type": "markdown",
   "metadata": {},
   "source": [
    "## Plotting for The Above Calculated Metric \n",
    "\n",
    "Using pandas dataframe bar plot to show number of opened issues and closed issues in last year monthwise.\n",
    "##### Using Pandas plot rather than importing another library such as matplotlib\n",
    "\n",
    "months[] <br>\n",
    "closed[] <br>\n",
    "open[] <br>\n",
    "this 3 list are required and taken from the above codeblock"
   ]
  },
  {
   "cell_type": "code",
   "execution_count": 13,
   "metadata": {},
   "outputs": [
    {
     "data": {
      "text/plain": [
       "<matplotlib.axes._subplots.AxesSubplot at 0x7f08a8799668>"
      ]
     },
     "execution_count": 13,
     "metadata": {},
     "output_type": "execute_result"
    },
    {
     "data": {
      "image/png": "[encoded data removed]",
      "text/plain": [
       "<Figure size 432x288 with 1 Axes>"
      ]
     },
     "metadata": {},
     "output_type": "display_data"
    }
   ],
   "source": [
    "plot = pd.DataFrame({'closed':closed,'open':open},index=months)\n",
    "plot.plot.bar(rot=90)"
   ]
  },
  {
   "cell_type": "markdown",
   "metadata": {},
   "source": [
    "## Time-to-close for issues closed in last year\n",
    "\n",
    "Histogram plot was made showing Frequency vs time-to-close Issues"
   ]
  },
  {
   "cell_type": "code",
   "execution_count": 18,
   "metadata": {},
   "outputs": [
    {
     "data": {
      "text/plain": [
       "<matplotlib.axes._subplots.AxesSubplot at 0x7f08a8708048>"
      ]
     },
     "execution_count": 18,
     "metadata": {},
     "output_type": "execute_result"
    },
    {
     "data": {
      "image/png": "[encoded data removed]",
      "text/plain": [
       "<Figure size 432x288 with 1 Axes>"
      ]
     },
     "metadata": {},
     "output_type": "display_data"
    }
   ],
   "source": [
    "issue_frame = frame[frame['state']=='closed']\n",
    "## frame contains closed issues\n",
    "close_time=(issue_frame['closed_date']-issue_frame['created_date']).astype('timedelta64[h]')\n",
    "## converted to number of hours taken by issue to close\n",
    "max_time_to_close = close_time.max(axis=0)\n",
    "## finding max time taken by issue to be closed to defined upper range\n",
    "close_time.plot.hist( bins=40,range=(0,max_time_to_close),x=\"asd\",title='Frequency vs time-to-close Issues')"
   ]
  },
  {
   "cell_type": "code",
   "execution_count": null,
   "metadata": {},
   "outputs": [],
   "source": []
  }
 ],
 "metadata": {
  "kernelspec": {
   "display_name": "Python 3",
   "language": "python",
   "name": "python3"
  },
  "language_info": {
   "codemirror_mode": {
    "name": "ipython",
    "version": 3
   },
   "file_extension": ".py",
   "mimetype": "text/x-python",
   "name": "python",
   "nbconvert_exporter": "python",
   "pygments_lexer": "ipython3",
   "version": "3.5.2"
  }
 },
 "nbformat": 4,
 "nbformat_minor": 2
}
